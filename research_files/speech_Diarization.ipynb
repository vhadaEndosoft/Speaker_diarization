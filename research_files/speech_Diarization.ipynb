{
  "cells": [
    {
      "cell_type": "code",
<<<<<<< HEAD
      "execution_count": 104,
=======
      "execution_count": 98,
>>>>>>> f53a0788088396d9affc643579c3e13bd9989e7e
      "metadata": {
        "colab": {
          "base_uri": "https://localhost:8080/",
          "height": 73
        },
        "id": "nLQH4hYwLeUl",
        "outputId": "b75e0e01-6d7e-41d6-acc2-dfa69405e577"
      },
      "outputs": [],
      "source": [
        "# upload audio file\n",
        "\n",
<<<<<<< HEAD
        "path = '../audio_files/Jeev2.wav'"
=======
        "path = '../audio_files/long_audio_2_mono.wav'"
>>>>>>> f53a0788088396d9affc643579c3e13bd9989e7e
      ]
    },
    {
      "cell_type": "code",
<<<<<<< HEAD
      "execution_count": 106,
=======
      "execution_count": 89,
>>>>>>> f53a0788088396d9affc643579c3e13bd9989e7e
      "metadata": {
        "id": "La_gCYtqMlo5"
      },
      "outputs": [],
      "source": [
        "num_speakers = 2 #@param {type:\"integer\"}\n",
        "\n",
        "language = 'English' #@param ['any', 'English']\n",
        "\n",
        "model_size = 'large' #@param ['tiny', 'base', 'small', 'medium', 'large']\n",
        "\n",
        "\n",
        "model_name = model_size\n",
        "if language == 'English' and model_size != 'large':\n",
        "  model_name += '.en'"
      ]
    },
    {
      "cell_type": "code",
<<<<<<< HEAD
      "execution_count": 8,
=======
      "execution_count": 6,
>>>>>>> f53a0788088396d9affc643579c3e13bd9989e7e
      "metadata": {
        "colab": {
          "base_uri": "https://localhost:8080/",
          "height": 177,
          "referenced_widgets": [
            "d460eb9027954e5c996ea1ec400fb730",
            "271e63e09e7743b8a6f382b4e5acbc40",
            "6f009abe9edb4a5cad925abe3de24f65",
            "7816754f55c342379cdf53cfbee99710",
            "e441229140564f45a08748091ffdaf9c",
            "28d3aa62320a4bf286884a4d1712fc54",
            "a43cfe2da37340dfa0b55f62592a91d8",
            "501e91feab7c41bdb692135ef5932cb2",
            "3bf5388c1c7e41ecb03ace96053d721f",
            "db81d099ad0a46c5856c34a9a6842799",
            "f1951ee8562349d6b805f286986ce4a4",
            "99f5b2c08a3e471e9a5107a52d0ad135",
            "3b6b5c831b9843e792bbd3bb7d8438f5",
            "9e0879e633874ba88427fb87abf40462",
            "28b351c089554f40942eb567211860bf",
            "d200b1ea862e4b829c2f7b4138f8aabf",
            "d1280f0c62ae43d28e2b6ec1b4d78cc8",
            "a4f89c0b8a494a22ab8e47b6437e86d9",
            "3ff67e8de1fe4173b134a6521eaa8368",
            "706aacf733264412bc3cc0042da84655",
            "4e533fa893714c8c80e7edf16c3cc618",
            "aa0199cb9c39449a9d9038a628392c2a",
            "7b0bd89806834970bb751ceefa296644",
            "a8653affd36e4c82b793199ec84e3979",
            "af9eaeb7e46946378f525bc369a9f0bd",
            "57271afa0ae943079701da2e26cbc7d2",
            "d7ff1eff2ba84b529855cce7c836c398",
            "aaf8d84b6b1049529f00a9b98781e086",
            "b7660a1e09e04d8ca25d067cea253e9a",
            "2ce5976de1aa4d189e09c78348a0f25f",
            "80ce97975add47d8975b57c7b97447d8",
            "8c1e470a1132492d8355f93acc47e7b9",
            "7e3878a6c7cc4a7a88511ec477d29beb",
            "ef66c458a56b4670809a232ae4448326",
            "2d2ab546b57141769d3b13f30a10287b",
            "9fe4c35151b54620a522d56169f95f83",
            "e734b6a7602f412bb125820cd00e0a91",
            "fe3de03b316243fcafb66a3c07d9ad4c",
            "3562842fec344497b966caba05af1e8b",
            "6016ae447c92412d949550891304b020",
            "105166bd7fe54e4e9abacfeebcb17be7",
            "eb737052336e451cbc10db8b1d43f495",
            "5bb997ac5cc0477fbfc7bccb1f42cda0",
            "253e22fc6dd1453bb11ba5138f36b7e1",
            "bf0c30b759424ce3a572829e8d0cd5a0",
            "f9087c013be74d53a52a2f2bcddd5fcb",
            "61b2a3094f5e4ce8a48e1e8097400cfb",
            "fc0e5b1c431c4499a6f448956d36c1ff",
            "cc1a0d84484842aca2040bae71f899e0",
            "cdc6881584b2410396144462ad1ec107",
            "06ea8198faba45949ff0aff7484acc2f",
            "f15b28c87f884f94a3f8647a46fe7da9",
            "44ba734e9dbc4d98a54fdc41f515eea6",
            "7f954247cd2a49f2af2cb056db826533",
            "612096154d564f898ae73624aa52dc1b"
          ]
        },
        "id": "1u-RTRbvMllh",
        "outputId": "43467d93-3fe5-4e9d-aab7-cd1d77a7b462"
      },
      "outputs": [
        {
<<<<<<< HEAD
          "name": "stdout",
          "output_type": "stream",
          "text": [
            "Note: you may need to restart the kernel to use updated packages.\n",
            "Note: you may need to restart the kernel to use updated packages.\n",
            "Defaulting to user installation because normal site-packages is not writeable\n",
            "Requirement already satisfied: speechbrain==0.5.16 in /home/vhada/.local/lib/python3.10/site-packages (0.5.16)\n",
            "Requirement already satisfied: hyperpyyaml in /home/vhada/.local/lib/python3.10/site-packages (from speechbrain==0.5.16) (1.2.2)\n",
            "Requirement already satisfied: joblib in /home/vhada/.local/lib/python3.10/site-packages (from speechbrain==0.5.16) (1.4.2)\n",
            "Requirement already satisfied: numpy in /home/vhada/.local/lib/python3.10/site-packages (from speechbrain==0.5.16) (1.26.4)\n",
            "Requirement already satisfied: packaging in /usr/lib/python3/dist-packages (from speechbrain==0.5.16) (21.3)\n",
            "Requirement already satisfied: scipy in /home/vhada/.local/lib/python3.10/site-packages (from speechbrain==0.5.16) (1.13.1)\n",
            "Requirement already satisfied: sentencepiece in /home/vhada/.local/lib/python3.10/site-packages (from speechbrain==0.5.16) (0.2.0)\n",
            "Requirement already satisfied: torch>=1.9 in /home/vhada/.local/lib/python3.10/site-packages (from speechbrain==0.5.16) (2.3.0)\n",
            "Requirement already satisfied: torchaudio in /home/vhada/.local/lib/python3.10/site-packages (from speechbrain==0.5.16) (2.3.0)\n",
            "Requirement already satisfied: tqdm in /home/vhada/.local/lib/python3.10/site-packages (from speechbrain==0.5.16) (4.66.4)\n",
            "Requirement already satisfied: huggingface-hub in /home/vhada/.local/lib/python3.10/site-packages (from speechbrain==0.5.16) (0.23.2)\n",
            "Requirement already satisfied: filelock in /home/vhada/.local/lib/python3.10/site-packages (from torch>=1.9->speechbrain==0.5.16) (3.14.0)\n",
            "Requirement already satisfied: typing-extensions>=4.8.0 in /home/vhada/.local/lib/python3.10/site-packages (from torch>=1.9->speechbrain==0.5.16) (4.12.0)\n",
            "Requirement already satisfied: sympy in /home/vhada/.local/lib/python3.10/site-packages (from torch>=1.9->speechbrain==0.5.16) (1.12)\n",
            "Requirement already satisfied: networkx in /home/vhada/.local/lib/python3.10/site-packages (from torch>=1.9->speechbrain==0.5.16) (3.3)\n",
            "Requirement already satisfied: jinja2 in /usr/lib/python3/dist-packages (from torch>=1.9->speechbrain==0.5.16) (3.0.3)\n",
            "Requirement already satisfied: fsspec in /home/vhada/.local/lib/python3.10/site-packages (from torch>=1.9->speechbrain==0.5.16) (2024.5.0)\n",
            "Requirement already satisfied: nvidia-cuda-nvrtc-cu12==12.1.105 in /home/vhada/.local/lib/python3.10/site-packages (from torch>=1.9->speechbrain==0.5.16) (12.1.105)\n",
            "Requirement already satisfied: nvidia-cuda-runtime-cu12==12.1.105 in /home/vhada/.local/lib/python3.10/site-packages (from torch>=1.9->speechbrain==0.5.16) (12.1.105)\n",
            "Requirement already satisfied: nvidia-cuda-cupti-cu12==12.1.105 in /home/vhada/.local/lib/python3.10/site-packages (from torch>=1.9->speechbrain==0.5.16) (12.1.105)\n",
            "Requirement already satisfied: nvidia-cudnn-cu12==8.9.2.26 in /home/vhada/.local/lib/python3.10/site-packages (from torch>=1.9->speechbrain==0.5.16) (8.9.2.26)\n",
            "Requirement already satisfied: nvidia-cublas-cu12==12.1.3.1 in /home/vhada/.local/lib/python3.10/site-packages (from torch>=1.9->speechbrain==0.5.16) (12.1.3.1)\n",
            "Requirement already satisfied: nvidia-cufft-cu12==11.0.2.54 in /home/vhada/.local/lib/python3.10/site-packages (from torch>=1.9->speechbrain==0.5.16) (11.0.2.54)\n",
            "Requirement already satisfied: nvidia-curand-cu12==10.3.2.106 in /home/vhada/.local/lib/python3.10/site-packages (from torch>=1.9->speechbrain==0.5.16) (10.3.2.106)\n",
            "Requirement already satisfied: nvidia-cusolver-cu12==11.4.5.107 in /home/vhada/.local/lib/python3.10/site-packages (from torch>=1.9->speechbrain==0.5.16) (11.4.5.107)\n",
            "Requirement already satisfied: nvidia-cusparse-cu12==12.1.0.106 in /home/vhada/.local/lib/python3.10/site-packages (from torch>=1.9->speechbrain==0.5.16) (12.1.0.106)\n",
            "Requirement already satisfied: nvidia-nccl-cu12==2.20.5 in /home/vhada/.local/lib/python3.10/site-packages (from torch>=1.9->speechbrain==0.5.16) (2.20.5)\n",
            "Requirement already satisfied: nvidia-nvtx-cu12==12.1.105 in /home/vhada/.local/lib/python3.10/site-packages (from torch>=1.9->speechbrain==0.5.16) (12.1.105)\n",
            "Requirement already satisfied: triton==2.3.0 in /home/vhada/.local/lib/python3.10/site-packages (from torch>=1.9->speechbrain==0.5.16) (2.3.0)\n",
            "Requirement already satisfied: nvidia-nvjitlink-cu12 in /home/vhada/.local/lib/python3.10/site-packages (from nvidia-cusolver-cu12==11.4.5.107->torch>=1.9->speechbrain==0.5.16) (12.5.40)\n",
            "Requirement already satisfied: pyyaml>=5.1 in /usr/lib/python3/dist-packages (from huggingface-hub->speechbrain==0.5.16) (5.4.1)\n",
            "Requirement already satisfied: requests in /home/vhada/.local/lib/python3.10/site-packages (from huggingface-hub->speechbrain==0.5.16) (2.32.3)\n",
            "Requirement already satisfied: ruamel.yaml>=0.17.28 in /home/vhada/.local/lib/python3.10/site-packages (from hyperpyyaml->speechbrain==0.5.16) (0.18.6)\n",
            "Requirement already satisfied: ruamel.yaml.clib>=0.2.7 in /home/vhada/.local/lib/python3.10/site-packages (from ruamel.yaml>=0.17.28->hyperpyyaml->speechbrain==0.5.16) (0.2.8)\n",
            "Requirement already satisfied: charset-normalizer<4,>=2 in /home/vhada/.local/lib/python3.10/site-packages (from requests->huggingface-hub->speechbrain==0.5.16) (3.3.2)\n",
            "Requirement already satisfied: idna<4,>=2.5 in /usr/lib/python3/dist-packages (from requests->huggingface-hub->speechbrain==0.5.16) (3.3)\n",
            "Requirement already satisfied: urllib3<3,>=1.21.1 in /usr/lib/python3/dist-packages (from requests->huggingface-hub->speechbrain==0.5.16) (1.26.5)\n",
            "Requirement already satisfied: certifi>=2017.4.17 in /usr/lib/python3/dist-packages (from requests->huggingface-hub->speechbrain==0.5.16) (2020.6.20)\n",
            "Requirement already satisfied: mpmath>=0.19 in /home/vhada/.local/lib/python3.10/site-packages (from sympy->torch>=1.9->speechbrain==0.5.16) (1.3.0)\n",
            "Note: you may need to restart the kernel to use updated packages.\n"
          ]
        },
        {
          "name": "stderr",
          "output_type": "stream",
          "text": [
            "/home/vhada/.local/lib/python3.10/site-packages/tqdm/auto.py:21: TqdmWarning: IProgress not found. Please update jupyter and ipywidgets. See https://ipywidgets.readthedocs.io/en/stable/user_install.html\n",
            "  from .autonotebook import tqdm as notebook_tqdm\n"
=======
          "name": "stderr",
          "output_type": "stream",
          "text": [
            "2502.56s - pydevd: Sending message related to process being replaced timed-out after 5 seconds\n"
          ]
        },
        {
          "name": "stdout",
          "output_type": "stream",
          "text": [
            "Note: you may need to restart the kernel to use updated packages.\n"
          ]
        },
        {
          "name": "stderr",
          "output_type": "stream",
          "text": [
            "2521.67s - pydevd: Sending message related to process being replaced timed-out after 5 seconds\n"
          ]
        },
        {
          "name": "stdout",
          "output_type": "stream",
          "text": [
            "Note: you may need to restart the kernel to use updated packages.\n"
          ]
        },
        {
          "name": "stderr",
          "output_type": "stream",
          "text": [
            "2536.88s - pydevd: Sending message related to process being replaced timed-out after 5 seconds\n"
          ]
        },
        {
          "name": "stdout",
          "output_type": "stream",
          "text": [
            "Defaulting to user installation because normal site-packages is not writeable\n",
            "Requirement already satisfied: speechbrain==0.5.16 in /home/vhada/.local/lib/python3.10/site-packages (0.5.16)\n",
            "Requirement already satisfied: hyperpyyaml in /home/vhada/.local/lib/python3.10/site-packages (from speechbrain==0.5.16) (1.2.2)\n",
            "Requirement already satisfied: tqdm in /home/vhada/.local/lib/python3.10/site-packages (from speechbrain==0.5.16) (4.66.4)\n",
            "Requirement already satisfied: huggingface-hub in /home/vhada/.local/lib/python3.10/site-packages (from speechbrain==0.5.16) (0.23.2)\n",
            "Requirement already satisfied: sentencepiece in /home/vhada/.local/lib/python3.10/site-packages (from speechbrain==0.5.16) (0.2.0)\n",
            "Requirement already satisfied: torch>=1.9 in /home/vhada/.local/lib/python3.10/site-packages (from speechbrain==0.5.16) (2.3.0)\n",
            "Requirement already satisfied: numpy in /home/vhada/.local/lib/python3.10/site-packages (from speechbrain==0.5.16) (1.26.4)\n",
            "Requirement already satisfied: joblib in /home/vhada/.local/lib/python3.10/site-packages (from speechbrain==0.5.16) (1.4.2)\n",
            "Requirement already satisfied: packaging in /usr/lib/python3/dist-packages (from speechbrain==0.5.16) (21.3)\n",
            "Requirement already satisfied: scipy in /home/vhada/.local/lib/python3.10/site-packages (from speechbrain==0.5.16) (1.13.1)\n",
            "Requirement already satisfied: torchaudio in /home/vhada/.local/lib/python3.10/site-packages (from speechbrain==0.5.16) (2.3.0)\n",
            "Requirement already satisfied: nvidia-cuda-cupti-cu12==12.1.105 in /home/vhada/.local/lib/python3.10/site-packages (from torch>=1.9->speechbrain==0.5.16) (12.1.105)\n",
            "Requirement already satisfied: nvidia-cudnn-cu12==8.9.2.26 in /home/vhada/.local/lib/python3.10/site-packages (from torch>=1.9->speechbrain==0.5.16) (8.9.2.26)\n",
            "Requirement already satisfied: nvidia-curand-cu12==10.3.2.106 in /home/vhada/.local/lib/python3.10/site-packages (from torch>=1.9->speechbrain==0.5.16) (10.3.2.106)\n",
            "Requirement already satisfied: fsspec in /home/vhada/.local/lib/python3.10/site-packages (from torch>=1.9->speechbrain==0.5.16) (2024.5.0)\n",
            "Requirement already satisfied: networkx in /home/vhada/.local/lib/python3.10/site-packages (from torch>=1.9->speechbrain==0.5.16) (3.3)\n",
            "Requirement already satisfied: jinja2 in /usr/lib/python3/dist-packages (from torch>=1.9->speechbrain==0.5.16) (3.0.3)\n",
            "Requirement already satisfied: filelock in /home/vhada/.local/lib/python3.10/site-packages (from torch>=1.9->speechbrain==0.5.16) (3.14.0)\n",
            "Requirement already satisfied: nvidia-cufft-cu12==11.0.2.54 in /home/vhada/.local/lib/python3.10/site-packages (from torch>=1.9->speechbrain==0.5.16) (11.0.2.54)\n",
            "Requirement already satisfied: sympy in /home/vhada/.local/lib/python3.10/site-packages (from torch>=1.9->speechbrain==0.5.16) (1.12)\n",
            "Requirement already satisfied: nvidia-cusparse-cu12==12.1.0.106 in /home/vhada/.local/lib/python3.10/site-packages (from torch>=1.9->speechbrain==0.5.16) (12.1.0.106)\n",
            "Requirement already satisfied: triton==2.3.0 in /home/vhada/.local/lib/python3.10/site-packages (from torch>=1.9->speechbrain==0.5.16) (2.3.0)\n",
            "Requirement already satisfied: nvidia-cuda-runtime-cu12==12.1.105 in /home/vhada/.local/lib/python3.10/site-packages (from torch>=1.9->speechbrain==0.5.16) (12.1.105)\n",
            "Requirement already satisfied: nvidia-nvtx-cu12==12.1.105 in /home/vhada/.local/lib/python3.10/site-packages (from torch>=1.9->speechbrain==0.5.16) (12.1.105)\n",
            "Requirement already satisfied: nvidia-nccl-cu12==2.20.5 in /home/vhada/.local/lib/python3.10/site-packages (from torch>=1.9->speechbrain==0.5.16) (2.20.5)\n",
            "Requirement already satisfied: nvidia-cuda-nvrtc-cu12==12.1.105 in /home/vhada/.local/lib/python3.10/site-packages (from torch>=1.9->speechbrain==0.5.16) (12.1.105)\n",
            "Requirement already satisfied: nvidia-cublas-cu12==12.1.3.1 in /home/vhada/.local/lib/python3.10/site-packages (from torch>=1.9->speechbrain==0.5.16) (12.1.3.1)\n",
            "Requirement already satisfied: nvidia-cusolver-cu12==11.4.5.107 in /home/vhada/.local/lib/python3.10/site-packages (from torch>=1.9->speechbrain==0.5.16) (11.4.5.107)\n",
            "Requirement already satisfied: typing-extensions>=4.8.0 in /home/vhada/.local/lib/python3.10/site-packages (from torch>=1.9->speechbrain==0.5.16) (4.12.0)\n",
            "Requirement already satisfied: nvidia-nvjitlink-cu12 in /home/vhada/.local/lib/python3.10/site-packages (from nvidia-cusolver-cu12==11.4.5.107->torch>=1.9->speechbrain==0.5.16) (12.5.40)\n",
            "Requirement already satisfied: requests in /home/vhada/.local/lib/python3.10/site-packages (from huggingface-hub->speechbrain==0.5.16) (2.32.3)\n",
            "Requirement already satisfied: pyyaml>=5.1 in /usr/lib/python3/dist-packages (from huggingface-hub->speechbrain==0.5.16) (5.4.1)\n",
            "Requirement already satisfied: ruamel.yaml>=0.17.28 in /home/vhada/.local/lib/python3.10/site-packages (from hyperpyyaml->speechbrain==0.5.16) (0.18.6)\n",
            "Requirement already satisfied: ruamel.yaml.clib>=0.2.7 in /home/vhada/.local/lib/python3.10/site-packages (from ruamel.yaml>=0.17.28->hyperpyyaml->speechbrain==0.5.16) (0.2.8)\n",
            "Requirement already satisfied: idna<4,>=2.5 in /usr/lib/python3/dist-packages (from requests->huggingface-hub->speechbrain==0.5.16) (3.3)\n",
            "Requirement already satisfied: certifi>=2017.4.17 in /usr/lib/python3/dist-packages (from requests->huggingface-hub->speechbrain==0.5.16) (2020.6.20)\n",
            "Requirement already satisfied: urllib3<3,>=1.21.1 in /usr/lib/python3/dist-packages (from requests->huggingface-hub->speechbrain==0.5.16) (1.26.5)\n",
            "Requirement already satisfied: charset-normalizer<4,>=2 in /home/vhada/.local/lib/python3.10/site-packages (from requests->huggingface-hub->speechbrain==0.5.16) (3.3.2)\n",
            "Requirement already satisfied: mpmath>=0.19 in /home/vhada/.local/lib/python3.10/site-packages (from sympy->torch>=1.9->speechbrain==0.5.16) (1.3.0)\n",
            "Note: you may need to restart the kernel to use updated packages.\n"
          ]
        },
        {
          "name": "stderr",
          "output_type": "stream",
          "text": [
            "torchvision is not available - cannot save figures\n"
>>>>>>> f53a0788088396d9affc643579c3e13bd9989e7e
          ]
        }
      ],
      "source": [
        "%pip install -q git+https://github.com/openai/whisper.git > /dev/null\n",
        "%pip install -q git+https://github.com/pyannote/pyannote-audio > /dev/null\n",
        "%pip install -U speechbrain==0.5.16\n",
        "\n",
        "import whisper\n",
        "import datetime\n",
        "\n",
        "import subprocess\n",
        "\n",
        "import torch\n",
        "import pyannote.audio\n",
        "import speechbrain\n",
        "from pyannote.audio.pipelines.speaker_verification import PretrainedSpeakerEmbedding\n",
        "embedding_model = PretrainedSpeakerEmbedding(\n",
        "    \"speechbrain/spkrec-ecapa-voxceleb\",\n",
        "    device=torch.device(\"cuda\"))\n",
        "\n",
<<<<<<< HEAD
        "# from diart.blocks import OverlapAwareSpeakerEmbedding\n",
        "# embedding_model = OverlapAwareSpeakerEmbedding.from_pyannote(\"pyannote/embedding\")\n",
        "\n",
=======
>>>>>>> f53a0788088396d9affc643579c3e13bd9989e7e
        "from pyannote.audio import Audio\n",
        "from pyannote.core import Segment\n",
        "\n",
        "import wave\n",
        "import contextlib\n",
        "\n",
        "from sklearn.cluster import AgglomerativeClustering\n",
        "import numpy as np"
      ]
    },
    {
      "cell_type": "code",
<<<<<<< HEAD
      "execution_count": 107,
=======
      "execution_count": 99,
>>>>>>> f53a0788088396d9affc643579c3e13bd9989e7e
      "metadata": {
        "id": "KarMq8kwMljK"
      },
      "outputs": [],
      "source": [
        "if path[-3:] != 'wav':\n",
<<<<<<< HEAD
        "  subprocess.call(['ffmpeg', '-i', path, 'jeev2.wav', '-y'])\n",
        "  path = 'jeev2.wav'"
=======
        "  subprocess.call(['ffmpeg', '-i', path, 'long_audio_2_mono.wav', '-y'])\n",
        "  path = 'long_audio_2_mono.wav'"
>>>>>>> f53a0788088396d9affc643579c3e13bd9989e7e
      ]
    },
    {
      "cell_type": "code",
<<<<<<< HEAD
      "execution_count": 9,
=======
      "execution_count": 91,
>>>>>>> f53a0788088396d9affc643579c3e13bd9989e7e
      "metadata": {
        "colab": {
          "base_uri": "https://localhost:8080/"
        },
        "id": "_DO35mQqMlge",
        "outputId": "a300351a-85f6-4ec3-ec49-ab653a4c1bb8"
      },
      "outputs": [],
      "source": [
        "model = whisper.load_model(model_size)"
      ]
    },
    {
      "cell_type": "code",
<<<<<<< HEAD
      "execution_count": 108,
=======
      "execution_count": 100,
>>>>>>> f53a0788088396d9affc643579c3e13bd9989e7e
      "metadata": {
        "id": "vMEDfpZ9Mld2"
      },
      "outputs": [],
      "source": [
        "result = model.transcribe(path)\n",
        "segments = result[\"segments\"]"
      ]
    },
    {
      "cell_type": "code",
<<<<<<< HEAD
      "execution_count": 109,
=======
      "execution_count": 101,
>>>>>>> f53a0788088396d9affc643579c3e13bd9989e7e
      "metadata": {
        "id": "CM5WWfaSMlbW"
      },
      "outputs": [],
      "source": [
        "with contextlib.closing(wave.open(path,'r')) as f:\n",
        "  frames = f.getnframes()\n",
        "  rate = f.getframerate()\n",
        "  duration = frames / float(rate)"
      ]
    },
    {
      "cell_type": "code",
<<<<<<< HEAD
      "execution_count": 110,
=======
      "execution_count": 103,
>>>>>>> f53a0788088396d9affc643579c3e13bd9989e7e
      "metadata": {
        "id": "FVfDx1zcMlY8"
      },
      "outputs": [],
      "source": [
        "audio = Audio()\n",
        "\n",
        "def segment_embedding(segment):\n",
        "  start = segment[\"start\"]\n",
        "  # Whisper overshoots the end timestamp in the last segment\n",
        "  end = min(duration, segment[\"end\"])\n",
        "  clip = Segment(start, end)\n",
        "  waveform, sample_rate = audio.crop(path, clip)\n",
        "  print(waveform.shape)\n",
        "    # Check if the waveform has more than one channel\n",
        "  if waveform.shape[0] > 1:\n",
<<<<<<< HEAD
        "     print( waveform.shape)\n",
        "   # Take the mean of the channels to create a mono waveform\n",
        "     waveform = waveform.mean(axis=0)\n",
=======
        "   # Take the mean of the channels to create a mono waveform\n",
        "     waveform = waveform.mean(axis=0)\n",
        "     print(waveform.shape)\n",
>>>>>>> f53a0788088396d9affc643579c3e13bd9989e7e
        "  # Add an extra dimension to the waveform array\n",
        "     waveform = waveform[None, :]\n",
        "     print( waveform.shape)\n",
        "  return embedding_model(waveform[None])"
      ]
    },
    {
      "cell_type": "code",
<<<<<<< HEAD
      "execution_count": 111,
=======
      "execution_count": 104,
>>>>>>> f53a0788088396d9affc643579c3e13bd9989e7e
      "metadata": {
        "id": "YO5hkz3-MlWB"
      },
      "outputs": [
        {
          "name": "stdout",
          "output_type": "stream",
          "text": [
<<<<<<< HEAD
            "torch.Size([1, 206400])\n",
            "torch.Size([1, 54720])\n",
            "torch.Size([1, 145920])\n",
            "torch.Size([1, 120001])\n",
            "torch.Size([1, 167040])\n",
            "torch.Size([1, 165120])\n",
            "torch.Size([1, 183360])\n",
            "torch.Size([1, 160320])\n",
            "[[ 25.97743225   0.28475222  14.14844227 ...  20.33265305 -11.29952049\n",
            "   12.14350605]\n",
            " [-20.81703186 -31.03956795 -49.60467911 ...  34.40565872  16.13179588\n",
            "    8.86119652]\n",
            " [ 24.60037422 -10.33181667 -12.18881607 ...  27.92990875   8.40309238\n",
            "   28.54750252]\n",
            " ...\n",
            " [ 19.04681778  15.69022846   8.48542023 ...  28.91797447 -11.62731838\n",
            "    6.06736517]\n",
            " [ 28.3519516   -3.2769835  -13.94839478 ...  17.50438309 -17.00576973\n",
            "   14.3719244 ]\n",
            " [  9.30466557   8.08807468   0.81212306 ...  18.233181   -15.8226099\n",
            "   35.22169113]]\n"
=======
            "torch.Size([1, 447174])\n",
            "torch.Size([1, 219618])\n",
            "torch.Size([1, 283122])\n",
            "torch.Size([1, 109368])\n",
            "torch.Size([1, 256662])\n",
            "torch.Size([1, 276066])\n",
            "torch.Size([1, 131417])\n",
            "torch.Size([1, 367794])\n",
            "torch.Size([1, 49392])\n",
            "torch.Size([1, 342216])\n",
            "torch.Size([1, 107604])\n",
            "torch.Size([1, 410130])\n",
            "torch.Size([1, 73205])\n",
            "torch.Size([1, 188748])\n",
            "torch.Size([1, 109369])\n",
            "torch.Size([1, 411013])\n",
            "torch.Size([1, 223146])\n"
>>>>>>> f53a0788088396d9affc643579c3e13bd9989e7e
          ]
        }
      ],
      "source": [
        "embeddings = np.zeros(shape=(len(segments), 192))\n",
        "for i, segment in enumerate(segments):\n",
        "  embeddings[i] = segment_embedding(segment)\n",
        "\n",
<<<<<<< HEAD
        "embeddings = np.nan_to_num(embeddings)\n",
        "print(embeddings)"
=======
        "embeddings = np.nan_to_num(embeddings)"
>>>>>>> f53a0788088396d9affc643579c3e13bd9989e7e
      ]
    },
    {
      "cell_type": "code",
<<<<<<< HEAD
      "execution_count": 143,
      "metadata": {},
      "outputs": [],
      "source": [
        "import numpy as np\n",
        "\n",
        "def euclidean_distance_np(point1, point2):\n",
        "    point1 = np.array(point1)\n",
        "    point2 = np.array(point2)\n",
        "    distance = np.linalg.norm(point1 - point2)\n",
        "    return distance\n",
        "\n",
        "\n",
        "#returns the closest speaker \n",
        "def speaker_assignment(point, s1, s2):\n",
        "  \n",
        "    distance1 = euclidean_distance_np(point, s1)\n",
        "    distance2 = euclidean_distance_np(point, s2)\n",
        "\n",
        "    # print(distance1)\n",
        "    # print(distance2)\n",
        "\n",
        "    if distance1 > distance2:\n",
        "        s_id = 1\n",
        "    else:\n",
        "        s_id = 0\n",
        "    \n",
        "    return s_id\n",
        "\n"
      ]
    },
    {
      "cell_type": "code",
      "execution_count": 145,
      "metadata": {
        "id": "T-BGf1e5MlTd"
      },
      "outputs": [
        {
          "name": "stdout",
          "output_type": "stream",
          "text": [
            "[1 0 1 0 1 0 1 0]\n",
            "113.78900692\n"
          ]
        }
      ],
      "source": [
        "from sklearn.decomposition import PCA\n",
        "import ast\n",
        "\n",
        "\n",
        "clustering = AgglomerativeClustering(num_speakers).fit(embeddings)\n",
        "labels = clustering.labels_\n",
        "print(labels)\n",
        "\n",
        "pca = PCA(n_components=2, random_state=42)\n",
        "embeddings_2d = pca.fit_transform(embeddings)\n",
        "# Initialize an empty list to store lines\n",
        "lines = []\n",
        "\n",
        "# Open the file in read mode\n",
        "with open(\"output.txt\", \"r\") as file:\n",
        "    # Read each line one by one\n",
        "    for line in file:\n",
        "        lines.append(line.strip())  # Append the line to the list after stripping newline character\n",
        "\n",
        "names = []\n",
        "avgs = []\n",
        "# Print the lines\n",
        "for line in lines:\n",
        "  avg = []\n",
        "  newline = line.split(' ', 2)\n",
        "  names.append(newline[0])\n",
        "  avg.extend([\n",
        "     ast.literal_eval(\n",
        "        newline[1]),\n",
        "      ast.literal_eval(\n",
        "        newline[2])\n",
        "         ])  \n",
        "  avgs.append(avg)\n",
        "  \n",
        "print(avg[0])\n",
        "\n",
        "\n",
        "\n",
        "for i in range(len(segments)):\n",
        "  Speaker_num = speaker_assignment(embeddings_2d[i], avgs[0], avgs[1])\n",
        "  #print(Speaker_num)\n",
        "  segments[i][\"speaker\"] = names[Speaker_num] + ' ' + str(Speaker_num + 1)\n",
        "  #segments[i][\"speaker\"] = 'SPEAKER ' + str(labels[i] + 1)"
=======
      "execution_count": 106,
      "metadata": {
        "id": "T-BGf1e5MlTd"
      },
      "outputs": [],
      "source": [
        "clustering = AgglomerativeClustering(num_speakers).fit(embeddings)\n",
        "labels = clustering.labels_\n",
        "for i in range(len(segments)):\n",
        "  segments[i][\"speaker\"] = 'SPEAKER ' + str(labels[i] + 1)"
>>>>>>> f53a0788088396d9affc643579c3e13bd9989e7e
      ]
    },
    {
      "cell_type": "code",
<<<<<<< HEAD
      "execution_count": 146,
=======
      "execution_count": 107,
>>>>>>> f53a0788088396d9affc643579c3e13bd9989e7e
      "metadata": {
        "id": "pfOKef5IMlQ8"
      },
      "outputs": [],
      "source": [
        "def time(secs):\n",
        "  return datetime.timedelta(seconds=round(secs))\n",
        "\n",
        "f = open(\"transcript.txt\", \"w\")\n",
        "x = \"\"\n",
        "for (i, segment) in enumerate(segments):\n",
        "  if i == 0 or segments[i - 1][\"speaker\"] != segment[\"speaker\"]:\n",
        "    f.write(\"\\n\" + segment[\"speaker\"] + ' ' + str(time(segment[\"start\"])) + '\\n')\n",
        "  f.write(segment[\"text\"][1:] + ' ')\n",
        "  x += \"\\n\" + segment[\"speaker\"] + ' ' + str(time(segment[\"start\"])) + '\\n'\n",
        "  x += segment[\"text\"][1:] + ' '\n",
        "f.close()"
      ]
    },
    {
      "cell_type": "code",
<<<<<<< HEAD
      "execution_count": 147,
=======
      "execution_count": 108,
>>>>>>> f53a0788088396d9affc643579c3e13bd9989e7e
      "metadata": {
        "colab": {
          "base_uri": "https://localhost:8080/"
        },
        "id": "3fIFi6mrM_M1",
        "outputId": "60935de7-03ca-4b41-f770-60c1ad03d262"
      },
      "outputs": [
        {
          "name": "stdout",
          "output_type": "stream",
          "text": [
            "\n",
<<<<<<< HEAD
            "Vishal 2 0:00:00\n",
            "Hey, did you hear about the new policy change at work? \n",
            "Hasan 1 0:00:05\n",
            "No, what's going on? \n",
            "Vishal 2 0:00:07\n",
            "Starting next month, we can work from home two days a week. \n",
            "Hasan 1 0:00:11\n",
            "That's awesome. I've been wanting more flexibility. \n",
            "Vishal 2 0:00:15\n",
            "Me too. It's going to make balancing everything so much easier. \n",
            "Hasan 1 0:00:19\n",
            "Absolutely. Plus, avoiding the commute twice a week will be great. \n",
            "Vishal 2 0:00:24\n",
            "Totally. Let's plan to grab lunch on one of those home days. \n",
            "Hasan 1 0:00:28\n",
            "Sounds like a plan. I'll look forward to it. \n"
=======
            "SPEAKER 1 0:00:00\n",
            "It's very hot today, isn't it? \n",
            "SPEAKER 2 0:00:11\n",
            "Yes, it's so hot. It looks like summer is officially starting. \n",
            "SPEAKER 1 0:00:18\n",
            "I'll have to remember to buy some sunblock then. My name is John, by the way. I'm Yumi. Nice to meet you. Nice to meet you, too. Are you from around here? \n",
            "SPEAKER 2 0:00:34\n",
            "No, I'm from Hokkaido in Japan. It's much colder than here, even in summer. What's the weather like in your hometown at this time of year? \n",
            "SPEAKER 1 0:00:46\n",
            "I'm from London. It rains a lot there, so I'm not used to these summer temperatures. Oh, really? \n",
            "SPEAKER 2 0:00:57\n",
            "I like summer because we can go and spend time at the beach. I take my dog every time. He loves to run into the sea. What do you normally do in the summer in London? \n",
            "SPEAKER 1 0:01:09\n",
            "If it's sunny, we often meet up and have picnics in the park. London has some really nice parks. Have you ever been there? \n",
            "SPEAKER 2 0:01:23\n",
            "I've never been there, but I've always wanted to visit the museums. What do people do in their free time there? \n",
            "SPEAKER 1 0:01:31\n",
            "People often go to watch football games at the weekend. Everyone is very passionate about their favorite team. \n",
            "SPEAKER 2 0:01:41\n",
            "That sounds like baseball in Japan. It's super popular. \n"
>>>>>>> f53a0788088396d9affc643579c3e13bd9989e7e
          ]
        }
      ],
      "source": [
        "print(open('transcript.txt').read())"
      ]
    },
    {
      "cell_type": "code",
<<<<<<< HEAD
      "execution_count": 148,
=======
      "execution_count": 109,
>>>>>>> f53a0788088396d9affc643579c3e13bd9989e7e
      "metadata": {
        "colab": {
          "base_uri": "https://localhost:8080/"
        },
        "id": "lDv9rLEHM_Jf",
        "outputId": "1b394b35-2469-4d73-cda6-4d2202bc9f5b"
      },
      "outputs": [
        {
          "name": "stdout",
          "output_type": "stream",
          "text": [
            "\n",
<<<<<<< HEAD
            "Vishal 2 0:00:00\n",
            "Hey, did you hear about the new policy change at work? \n",
            "Hasan 1 0:00:05\n",
            "No, what's going on? \n",
            "Vishal 2 0:00:07\n",
            "Starting next month, we can work from home two days a week. \n",
            "Hasan 1 0:00:11\n",
            "That's awesome. I've been wanting more flexibility. \n",
            "Vishal 2 0:00:15\n",
            "Me too. It's going to make balancing everything so much easier. \n",
            "Hasan 1 0:00:19\n",
            "Absolutely. Plus, avoiding the commute twice a week will be great. \n",
            "Vishal 2 0:00:24\n",
            "Totally. Let's plan to grab lunch on one of those home days. \n",
            "Hasan 1 0:00:28\n",
            "Sounds like a plan. I'll look forward to it. \n"
=======
            "SPEAKER 1 0:00:00\n",
            "It's very hot today, isn't it? \n",
            "SPEAKER 2 0:00:11\n",
            "Yes, it's so hot. It looks like summer is officially starting. \n",
            "SPEAKER 1 0:00:18\n",
            "I'll have to remember to buy some sunblock then. My name is John, by the way. \n",
            "SPEAKER 1 0:00:25\n",
            "I'm Yumi. Nice to meet you. \n",
            "SPEAKER 1 0:00:27\n",
            "Nice to meet you, too. Are you from around here? \n",
            "SPEAKER 2 0:00:34\n",
            "No, I'm from Hokkaido in Japan. It's much colder than here, even in summer. \n",
            "SPEAKER 2 0:00:42\n",
            "What's the weather like in your hometown at this time of year? \n",
            "SPEAKER 1 0:00:46\n",
            "I'm from London. It rains a lot there, so I'm not used to these summer temperatures. \n",
            "SPEAKER 1 0:00:55\n",
            "Oh, really? \n",
            "SPEAKER 2 0:00:57\n",
            "I like summer because we can go and spend time at the beach. I take my dog every time. He loves to run into the sea. \n",
            "SPEAKER 2 0:01:06\n",
            "What do you normally do in the summer in London? \n",
            "SPEAKER 1 0:01:09\n",
            "If it's sunny, we often meet up and have picnics in the park. London has some really nice parks. \n",
            "SPEAKER 1 0:01:20\n",
            "Have you ever been there? \n",
            "SPEAKER 2 0:01:23\n",
            "I've never been there, but I've always wanted to visit the museums. \n",
            "SPEAKER 2 0:01:27\n",
            "What do people do in their free time there? \n",
            "SPEAKER 1 0:01:31\n",
            "People often go to watch football games at the weekend. Everyone is very passionate about their favorite team. \n",
            "SPEAKER 2 0:01:41\n",
            "That sounds like baseball in Japan. It's super popular. \n"
>>>>>>> f53a0788088396d9affc643579c3e13bd9989e7e
          ]
        }
      ],
      "source": [
        "print(x)"
      ]
    },
    {
      "cell_type": "code",
<<<<<<< HEAD
      "execution_count": 149,
=======
      "execution_count": 110,
>>>>>>> f53a0788088396d9affc643579c3e13bd9989e7e
      "metadata": {
        "colab": {
          "base_uri": "https://localhost:8080/"
        },
        "id": "frAc9BP1M_Gz",
        "outputId": "9ef84edd-a825-4bae-e1df-d568c7988089"
      },
      "outputs": [
        {
          "name": "stdout",
          "output_type": "stream",
          "text": [
<<<<<<< HEAD
            "{'text': \" Hey, did you hear about the new policy change at work? No, what's going on? Starting next month, we can work from home two days a week. That's awesome. I've been wanting more flexibility. Me too. It's going to make balancing everything so much easier. Absolutely. Plus, avoiding the commute twice a week will be great. Totally. Let's plan to grab lunch on one of those home days. Sounds like a plan. I'll look forward to it.\", 'segments': [{'id': 0, 'seek': 0, 'start': 0.0, 'end': 4.3, 'text': ' Hey, did you hear about the new policy change at work?', 'tokens': [50365, 1911, 11, 630, 291, 1568, 466, 264, 777, 3897, 1319, 412, 589, 30, 50580], 'temperature': 0.0, 'avg_logprob': -0.18030848869910607, 'compression_ratio': 1.516, 'no_speech_prob': 0.0836244598031044, 'speaker': 'Vishal 2'}, {'id': 1, 'seek': 0, 'start': 4.9, 'end': 6.04, 'text': \" No, what's going on?\", 'tokens': [50610, 883, 11, 437, 311, 516, 322, 30, 50667], 'temperature': 0.0, 'avg_logprob': -0.18030848869910607, 'compression_ratio': 1.516, 'no_speech_prob': 0.0836244598031044, 'speaker': 'Hasan 1'}, {'id': 2, 'seek': 0, 'start': 7.16, 'end': 10.200000000000001, 'text': ' Starting next month, we can work from home two days a week.', 'tokens': [50723, 16217, 958, 1618, 11, 321, 393, 589, 490, 1280, 732, 1708, 257, 1243, 13, 50875], 'temperature': 0.0, 'avg_logprob': -0.18030848869910607, 'compression_ratio': 1.516, 'no_speech_prob': 0.0836244598031044, 'speaker': 'Vishal 2'}, {'id': 3, 'seek': 0, 'start': 10.78, 'end': 13.280000000000001, 'text': \" That's awesome. I've been wanting more flexibility.\", 'tokens': [50904, 663, 311, 3476, 13, 286, 600, 668, 7935, 544, 12635, 13, 51029], 'temperature': 0.0, 'avg_logprob': -0.18030848869910607, 'compression_ratio': 1.516, 'no_speech_prob': 0.0836244598031044, 'speaker': 'Hasan 1'}, {'id': 4, 'seek': 0, 'start': 14.92, 'end': 18.400000000000002, 'text': \" Me too. It's going to make balancing everything so much easier.\", 'tokens': [51111, 1923, 886, 13, 467, 311, 516, 281, 652, 22495, 1203, 370, 709, 3571, 13, 51285], 'temperature': 0.0, 'avg_logprob': -0.18030848869910607, 'compression_ratio': 1.516, 'no_speech_prob': 0.0836244598031044, 'speaker': 'Vishal 2'}, {'id': 5, 'seek': 0, 'start': 19.3, 'end': 22.740000000000002, 'text': ' Absolutely. Plus, avoiding the commute twice a week will be great.', 'tokens': [51330, 7021, 13, 7721, 11, 20220, 264, 36750, 6091, 257, 1243, 486, 312, 869, 13, 51502], 'temperature': 0.0, 'avg_logprob': -0.18030848869910607, 'compression_ratio': 1.516, 'no_speech_prob': 0.0836244598031044, 'speaker': 'Hasan 1'}, {'id': 6, 'seek': 0, 'start': 24.400000000000002, 'end': 28.22, 'text': \" Totally. Let's plan to grab lunch on one of those home days.\", 'tokens': [51585, 22837, 13, 961, 311, 1393, 281, 4444, 6349, 322, 472, 295, 729, 1280, 1708, 13, 51776], 'temperature': 0.0, 'avg_logprob': -0.18030848869910607, 'compression_ratio': 1.516, 'no_speech_prob': 0.0836244598031044, 'speaker': 'Vishal 2'}, {'id': 7, 'seek': 2822, 'start': 28.22, 'end': 31.56, 'text': \" Sounds like a plan. I'll look forward to it.\", 'tokens': [50365, 14576, 411, 257, 1393, 13, 286, 603, 574, 2128, 281, 309, 13, 50532], 'temperature': 0.0, 'avg_logprob': -0.1235017458597819, 'compression_ratio': 0.8461538461538461, 'no_speech_prob': 0.0005702795460820198, 'speaker': 'Hasan 1'}], 'language': 'en'}\n"
=======
            "{'text': \" It's very hot today, isn't it? Yes, it's so hot. It looks like summer is officially starting. I'll have to remember to buy some sunblock then. My name is John, by the way. I'm Yumi. Nice to meet you. Nice to meet you, too. Are you from around here? No, I'm from Hokkaido in Japan. It's much colder than here, even in summer. What's the weather like in your hometown at this time of year? I'm from London. It rains a lot there, so I'm not used to these summer temperatures. Oh, really? I like summer because we can go and spend time at the beach. I take my dog every time. He loves to run into the sea. What do you normally do in the summer in London? If it's sunny, we often meet up and have picnics in the park. London has some really nice parks. Have you ever been there? I've never been there, but I've always wanted to visit the museums. What do people do in their free time there? People often go to watch football games at the weekend. Everyone is very passionate about their favorite team. That sounds like baseball in Japan. It's super popular.\", 'segments': [{'id': 0, 'seek': 0, 'start': 0.0, 'end': 10.14, 'text': \" It's very hot today, isn't it?\", 'tokens': [50365, 467, 311, 588, 2368, 965, 11, 1943, 380, 309, 30, 50872], 'temperature': 0.0, 'avg_logprob': -0.19343129071322354, 'compression_ratio': 1.3355704697986577, 'no_speech_prob': 0.03959072753787041, 'speaker': 'SPEAKER 1'}, {'id': 1, 'seek': 0, 'start': 11.040000000000001, 'end': 16.02, 'text': \" Yes, it's so hot. It looks like summer is officially starting.\", 'tokens': [50917, 1079, 11, 309, 311, 370, 2368, 13, 467, 1542, 411, 4266, 307, 12053, 2891, 13, 51166], 'temperature': 0.0, 'avg_logprob': -0.19343129071322354, 'compression_ratio': 1.3355704697986577, 'no_speech_prob': 0.03959072753787041, 'speaker': 'SPEAKER 2'}, {'id': 2, 'seek': 0, 'start': 17.52, 'end': 23.94, 'text': \" I'll have to remember to buy some sunblock then. My name is John, by the way.\", 'tokens': [51241, 286, 603, 362, 281, 1604, 281, 2256, 512, 3295, 28830, 550, 13, 1222, 1315, 307, 2619, 11, 538, 264, 636, 13, 51562], 'temperature': 0.0, 'avg_logprob': -0.19343129071322354, 'compression_ratio': 1.3355704697986577, 'no_speech_prob': 0.03959072753787041, 'speaker': 'SPEAKER 1'}, {'id': 3, 'seek': 0, 'start': 24.84, 'end': 27.32, 'text': \" I'm Yumi. Nice to meet you.\", 'tokens': [51607, 286, 478, 398, 17800, 13, 5490, 281, 1677, 291, 13, 51731], 'temperature': 0.0, 'avg_logprob': -0.19343129071322354, 'compression_ratio': 1.3355704697986577, 'no_speech_prob': 0.03959072753787041, 'speaker': 'SPEAKER 1'}, {'id': 4, 'seek': 2732, 'start': 27.32, 'end': 33.14, 'text': ' Nice to meet you, too. Are you from around here?', 'tokens': [50365, 5490, 281, 1677, 291, 11, 886, 13, 2014, 291, 490, 926, 510, 30, 50656], 'temperature': 0.0, 'avg_logprob': -0.1297449224135455, 'compression_ratio': 1.4791666666666667, 'no_speech_prob': 0.00023960325052030385, 'speaker': 'SPEAKER 1'}, {'id': 5, 'seek': 2732, 'start': 34.44, 'end': 40.7, 'text': \" No, I'm from Hokkaido in Japan. It's much colder than here, even in summer.\", 'tokens': [50721, 883, 11, 286, 478, 490, 46792, 2330, 2925, 294, 3367, 13, 467, 311, 709, 31020, 813, 510, 11, 754, 294, 4266, 13, 51034], 'temperature': 0.0, 'avg_logprob': -0.1297449224135455, 'compression_ratio': 1.4791666666666667, 'no_speech_prob': 0.00023960325052030385, 'speaker': 'SPEAKER 2'}, {'id': 6, 'seek': 2732, 'start': 42.04, 'end': 45.019999999999996, 'text': \" What's the weather like in your hometown at this time of year?\", 'tokens': [51101, 708, 311, 264, 5503, 411, 294, 428, 22112, 412, 341, 565, 295, 1064, 30, 51250], 'temperature': 0.0, 'avg_logprob': -0.1297449224135455, 'compression_ratio': 1.4791666666666667, 'no_speech_prob': 0.00023960325052030385, 'speaker': 'SPEAKER 2'}, {'id': 7, 'seek': 2732, 'start': 46.24, 'end': 54.58, 'text': \" I'm from London. It rains a lot there, so I'm not used to these summer temperatures.\", 'tokens': [51311, 286, 478, 490, 7042, 13, 467, 27805, 257, 688, 456, 11, 370, 286, 478, 406, 1143, 281, 613, 4266, 12633, 13, 51728], 'temperature': 0.0, 'avg_logprob': -0.1297449224135455, 'compression_ratio': 1.4791666666666667, 'no_speech_prob': 0.00023960325052030385, 'speaker': 'SPEAKER 1'}, {'id': 8, 'seek': 2732, 'start': 55.480000000000004, 'end': 56.6, 'text': ' Oh, really?', 'tokens': [51773, 876, 11, 534, 30, 51829], 'temperature': 0.0, 'avg_logprob': -0.1297449224135455, 'compression_ratio': 1.4791666666666667, 'no_speech_prob': 0.00023960325052030385, 'speaker': 'SPEAKER 1'}, {'id': 9, 'seek': 5732, 'start': 57.32, 'end': 65.08, 'text': ' I like summer because we can go and spend time at the beach. I take my dog every time. He loves to run into the sea.', 'tokens': [50365, 286, 411, 4266, 570, 321, 393, 352, 293, 3496, 565, 412, 264, 7534, 13, 286, 747, 452, 3000, 633, 565, 13, 634, 6752, 281, 1190, 666, 264, 4158, 13, 50753], 'temperature': 0.0, 'avg_logprob': -0.13132680192285653, 'compression_ratio': 1.6181818181818182, 'no_speech_prob': 0.0021667894907295704, 'speaker': 'SPEAKER 2'}, {'id': 10, 'seek': 5732, 'start': 66.04, 'end': 68.48, 'text': ' What do you normally do in the summer in London?', 'tokens': [50801, 708, 360, 291, 5646, 360, 294, 264, 4266, 294, 7042, 30, 50923], 'temperature': 0.0, 'avg_logprob': -0.13132680192285653, 'compression_ratio': 1.6181818181818182, 'no_speech_prob': 0.0021667894907295704, 'speaker': 'SPEAKER 2'}, {'id': 11, 'seek': 5732, 'start': 69.38, 'end': 78.68, 'text': \" If it's sunny, we often meet up and have picnics in the park. London has some really nice parks.\", 'tokens': [50968, 759, 309, 311, 20412, 11, 321, 2049, 1677, 493, 293, 362, 13363, 77, 1167, 294, 264, 3884, 13, 7042, 575, 512, 534, 1481, 16213, 13, 51433], 'temperature': 0.0, 'avg_logprob': -0.13132680192285653, 'compression_ratio': 1.6181818181818182, 'no_speech_prob': 0.0021667894907295704, 'speaker': 'SPEAKER 1'}, {'id': 12, 'seek': 5732, 'start': 79.88, 'end': 81.53999999999999, 'text': ' Have you ever been there?', 'tokens': [51493, 3560, 291, 1562, 668, 456, 30, 51576], 'temperature': 0.0, 'avg_logprob': -0.13132680192285653, 'compression_ratio': 1.6181818181818182, 'no_speech_prob': 0.0021667894907295704, 'speaker': 'SPEAKER 1'}, {'id': 13, 'seek': 5732, 'start': 82.74000000000001, 'end': 87.02, 'text': \" I've never been there, but I've always wanted to visit the museums.\", 'tokens': [51636, 286, 600, 1128, 668, 456, 11, 457, 286, 600, 1009, 1415, 281, 3441, 264, 23248, 13, 51850], 'temperature': 0.0, 'avg_logprob': -0.13132680192285653, 'compression_ratio': 1.6181818181818182, 'no_speech_prob': 0.0021667894907295704, 'speaker': 'SPEAKER 2'}, {'id': 14, 'seek': 8732, 'start': 87.32, 'end': 89.8, 'text': ' What do people do in their free time there?', 'tokens': [50365, 708, 360, 561, 360, 294, 641, 1737, 565, 456, 30, 50489], 'temperature': 0.0, 'avg_logprob': -0.19310548354168328, 'compression_ratio': 1.381578947368421, 'no_speech_prob': 0.005103759933263063, 'speaker': 'SPEAKER 2'}, {'id': 15, 'seek': 8732, 'start': 90.96, 'end': 100.28, 'text': ' People often go to watch football games at the weekend. Everyone is very passionate about their favorite team.', 'tokens': [50547, 3432, 2049, 352, 281, 1159, 7346, 2813, 412, 264, 6711, 13, 5198, 307, 588, 11410, 466, 641, 2954, 1469, 13, 51013], 'temperature': 0.0, 'avg_logprob': -0.19310548354168328, 'compression_ratio': 1.381578947368421, 'no_speech_prob': 0.005103759933263063, 'speaker': 'SPEAKER 1'}, {'id': 16, 'seek': 8732, 'start': 101.46, 'end': 106.52, 'text': \" That sounds like baseball in Japan. It's super popular.\", 'tokens': [51072, 663, 3263, 411, 14323, 294, 3367, 13, 467, 311, 1687, 3743, 13, 51325], 'temperature': 0.0, 'avg_logprob': -0.19310548354168328, 'compression_ratio': 1.381578947368421, 'no_speech_prob': 0.005103759933263063, 'speaker': 'SPEAKER 2'}], 'language': 'en'}\n"
>>>>>>> f53a0788088396d9affc643579c3e13bd9989e7e
          ]
        }
      ],
      "source": [
        "print(result)"
      ]
    },
    {
      "cell_type": "code",
<<<<<<< HEAD
      "execution_count": 119,
=======
      "execution_count": 111,
>>>>>>> f53a0788088396d9affc643579c3e13bd9989e7e
      "metadata": {
        "colab": {
          "base_uri": "https://localhost:8080/",
          "height": 718
        },
        "id": "6zKiqBJHMlLx",
        "outputId": "5a9e4680-4471-4794-af02-83cac22dffc0"
      },
      "outputs": [
        {
<<<<<<< HEAD
          "name": "stdout",
          "output_type": "stream",
          "text": [
            "[[ 108.00620026   48.39236936]\n",
            " [-197.09222517  -77.97479273]\n",
            " [  48.46044191  -71.53172573]\n",
            " [-124.47184551   -5.65673007]\n",
            " [ 154.07263285  -53.40759564]\n",
            " [ -18.32507682   91.15271141]\n",
            " [  74.65093016  -40.07083683]\n",
            " [ -45.30105767  109.09660023]]\n"
          ]
        },
        {
          "data": {
            "image/png": "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",
=======
          "data": {
            "image/png": "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",
>>>>>>> f53a0788088396d9affc643579c3e13bd9989e7e
            "text/plain": [
              "<Figure size 1000x800 with 1 Axes>"
            ]
          },
          "metadata": {},
          "output_type": "display_data"
        }
      ],
      "source": [
        "import numpy as np\n",
        "import matplotlib.pyplot as plt\n",
        "from sklearn.decomposition import PCA\n",
        "\n",
        "# Your existing code for clustering and labeling segments...\n",
        "\n",
        "# Perform PCA to reduce the dimensionality of embeddings to 2D\n",
        "pca = PCA(n_components=2, random_state=42)\n",
        "embeddings_2d = pca.fit_transform(embeddings)\n",
        "\n",
        "print(embeddings_2d)\n",
        "\n",
        "# Plot the clusters\n",
        "plt.figure(figsize=(10, 8))\n",
        "for i, segment in enumerate(segments):\n",
        "    speaker_id = labels[i] + 1\n",
        "    x, y = embeddings_2d[i]\n",
        "    plt.scatter(x, y, label=f'SPEAKER {speaker_id}')\n",
        "\n",
        "plt.title(\"Speaker Diarization Clusters (PCA Visualization)\")\n",
        "plt.xlabel(\"Principal Component 1\")\n",
        "plt.ylabel(\"Principal Component 2\")\n",
        "plt.legend()\n",
        "plt.show()\n"
      ]
    },
    {
      "cell_type": "code",
<<<<<<< HEAD
      "execution_count": 120,
=======
      "execution_count": 112,
>>>>>>> f53a0788088396d9affc643579c3e13bd9989e7e
      "metadata": {
        "colab": {
          "base_uri": "https://localhost:8080/",
          "height": 718
        },
        "id": "Z5F4NCSnMlJk",
        "outputId": "f8d9fd42-03f2-409d-a8a0-6f37b5b15aeb"
      },
      "outputs": [
        {
<<<<<<< HEAD
          "name": "stdout",
          "output_type": "stream",
          "text": [
            "[-96.29755129  29.15444721]\n",
            "[ 96.29755129 -29.15444721]\n"
          ]
        },
        {
          "data": {
            "image/png": "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",
            "text/plain": [
              "<Figure size 1000x800 with 1 Axes>"
            ]
          },
          "metadata": {},
          "output_type": "display_data"
        }
      ],
      "source": [
        "import numpy as np\n",
        "import matplotlib.pyplot as plt\n",
        "from sklearn.decomposition import PCA\n",
        "import matplotlib.cm as cm\n",
        "\n",
        "# Your existing code for clustering and labeling segments...\n",
        "# labels = clustering.labels_\n",
        "# print(labels)\n",
        "# for i in range(len(segments)):\n",
        "#   segments[i][\"speaker\"] = 'SPEAKER ' + str(labels[i] + 1)\n",
        "\n",
        "# Perform PCA to reduce the dimensionality of embeddings to 2D\n",
        "pca = PCA(n_components=2, random_state=42)\n",
        "embeddings_2d = pca.fit_transform(embeddings)\n",
        "\n",
        "\n",
        "# Calculate the average point\n",
        "average_point = np.mean(embeddings_2d, axis=0)\n",
        "speaker_1 = []\n",
        "speaker_2 = []\n",
        "\n",
        "# Get the number of unique speakers from the labels\n",
        "num_unique_speakers = len(np.unique(labels))\n",
        "\n",
        "# Create a colormap for speakers, ensuring each speaker gets a unique color\n",
        "colors = cm.tab20b(np.linspace(0, 1, num_unique_speakers))\n",
        "\n",
        "# split by speakers to get avg\n",
        "for i, segment in enumerate(segments):\n",
        "    speaker_id = labels[i] + 1\n",
        "    if speaker_id == 1:\n",
        "        speaker_1.append(embeddings_2d[i]) # Get speaker one coords\n",
        "    else:\n",
        "        speaker_2.append(embeddings_2d[i]) # Get speaker two\n",
        "    #plt.scatter(x, y, label=f'SPEAKER {speaker_id}', color=color)\n",
        "\n",
        "avg1 = np.mean(speaker_1, axis=0) #Get average of speaker one coords\n",
        "avg2 = np.mean(speaker_2, axis=0)\n",
        "\n",
        "#PLot the clusters \n",
        "plt.figure(figsize=(10, 8))\n",
        "for i, segment in enumerate(segments):\n",
        "    speaker_id = speaker_assignment(embeddings_2d[i], avg1, avg2) + 1\n",
        "    x, y = embeddings_2d[i]\n",
        "    color = colors[speaker_assignment(embeddings_2d[i], avg1, avg2) % num_unique_speakers]  # Get the corresponding color for the speaker\n",
        "    plt.scatter(x, y, label=f'SPEAKER {speaker_id}', color=color)\n",
        "\n",
        "# #Find total distances\n",
        "# total1 = 0\n",
        "# total2 = 0\n",
        "# for i, points in enumerate(speaker_2):\n",
        "#    total1 = total1 + euclidean_distance_np(avg1,speaker_2[i] )\n",
        "#    total2 = total1 + euclidean_distance_np(avg2,speaker_2[i] )\n",
        "\n",
        "\n",
        "# print(f'1 {total1} ')\n",
        "# print(f'2 {total2} ')\n",
        "\n",
        "print(avg1)\n",
        "print(avg2)\n",
        "# with open('output.txt', 'w') as f:  #Write averages to textfile and save speaker profile\n",
        "#     f.write(f'Hasan {avg1[0]} {avg1[1]}')\n",
        "#     f.write('\\n')\n",
        "#     f.write(f'Vishal {avg2[0]} {avg2[1]}')\n",
        "#     f.close()\n",
        "\n",
        "#plt.scatter(average_point[0], average_point[1],label=\"avg\" )\n",
        "plt.scatter(avg1[0], avg1[1],label=\"avg1\" )\n",
        "plt.scatter(avg2[0], avg2[1],label=\"avg2\" )\n",
        "plt.title(\"Speaker Diarization Clusters (PCA Visualization)\")\n",
        "plt.xlabel(\"Principal Component 1\")\n",
        "plt.ylabel(\"Principal Component 2\")\n",
        "plt.legend()\n",
        "plt.show()\n"
      ]
    },
    {
      "cell_type": "code",
      "execution_count": 141,
      "metadata": {},
      "outputs": [
        {
          "data": {
            "image/png": "iVBORw0KGgoAAAANSUhEUgAAA1UAAAK9CAYAAADMn0adAAAAOXRFWHRTb2Z0d2FyZQBNYXRwbG90bGliIHZlcnNpb24zLjUuMywgaHR0cHM6Ly9tYXRwbG90bGliLm9yZy/NK7nSAAAACXBIWXMAAA9hAAAPYQGoP6dpAACdWklEQVR4nOzde1xVVf7/8ffhHG5y00BADQGjZNR00sw0FTMNg8yMLFMrstGvjlnaTFlmeas0x9ImLS0RmfA25t28ZqIYamOJGtNYGY4pKooKBQEK+/dHP854OoAcD6jo6/l47MeDs9baa33OBpTPWWuvbTIMwxAAAAAA4JK4XOkAAAAAAKA2I6kCAAAAACeQVAEAAACAE0iqAAAAAMAJJFUAAAAA4ASSKgAAAABwAkkVAAAAADiBpAoAAAAAnEBSBQAAAABOIKkCUCscOnRIJpNJU6dOvdKhVFl8fLzCwsKqvV+TyaRx48ZVe79X67iOqi1x1oQ///nP6t69+5UOo9qFhYUpPj7+SodhF0dKSopMJpNSUlIuaxyXY9ycnBx5eXlp7dq1NTYGcC0hqQIgSdq/f78efvhhhYaGysPDQ40aNVL37t313nvvXenQrgrjxo2TyWSyHnXq1FHjxo3Vs2dPJSYmqqio6EqHWC3Wrl171SYk6enpGjBggEJCQuTu7q4bbrhB3bp1U2JiokpKSi5LDFlZWRo3bpzS09Mvy3iOyMzM1Jw5czR69GhrWdmHEWWH2WxW48aN1bt373LfQ2FhoaZNm6Z27drJz89PHh4euuWWW/TMM8/ou+++K3fcF198USaTSY8++miV4vz6669lMpk0ZsyYCtt8//33MplMev7556vU57Xq/fff17x5867I2P7+/vrTn/6kV1999YqMD9Q2lisdAIArLy0tTXfffbcaN26sQYMGKTg4WD/99JN27typd999V8OHD7/SIV41PvjgA3l7e6uoqEhHjx7Vhg0bNHDgQE2fPl1r1qxRSEiIte1HH32k0tLSao/h119/lcVSM/98r127VjNnziw3sarJcS9mzpw5GjJkiIKCgvT444/r5ptv1s8//6zNmzfr6aef1rFjx2ySiZqSlZWl8ePHKywsTH/84x9rfDxHvPvuuwoPD9fdd99tV/fYY48pJiZGJSUl+vbbb/XBBx9o3bp12rlzp/V9nDp1Sj169NBXX32l+++/X/369ZO3t7cOHDigRYsW6cMPP1RxcbFNv4ZhaOHChQoLC9Pq1av1888/y8fHp9I4W7durcjISC1cuFCvv/56uW0WLFggSRowYIAk6cCBA3Jxufo+B+7cubN+/fVXubm51Uj/77//vgICAuxm6Wp63DJDhgzR3//+d33++efq2rVrjY4F1HYkVQD0xhtvyM/PT//6179Ut25dm7rs7OwrE9QVUFBQoDp16lTa5uGHH1ZAQID19Wuvvab58+friSeeUJ8+fbRz505rnaura7XFVlpaquLiYnl4eMjDw6Pa+nXElRp3586dGjJkiNq3b6+1a9fa/NE+YsQI7d69W998880Via265Ofny8vL65LPP3funObPn68hQ4aUW9+6dWtrgiJJd911lx544AF98MEHmj17tqTflqvu2bNHn3zyieLi4mzOnzhxol555RW7flNSUnTkyBF9/vnnio6O1rJly/Tkk09eNN7+/fvr1Vdf1c6dO3XnnXfa1S9cuFCRkZFq3bq1JMnd3f2ifV4JLi4uV+T34nKN+4c//EEtWrTQvHnzSKqAi7j6PvYBcNkdPHhQzZs3t0uoJCkwMNDmtclk0jPPPKP58+eradOm8vDwUJs2bbRt2za7c48ePaqBAwcqKChI7u7uat68uebOnWvTpri4WK+99pratGkjPz8/eXl5qVOnTtqyZctF4zYMQ4MHD5abm5uWLVtmLU9OTlabNm3k6empG264QX379tVPP/1kc26XLl3UokULffXVV+rcubPq1KlzyTMd/fv315/+9Cft2rVLmzZtspaXd0/V1KlT1aFDB/n7+8vT01Nt2rTRJ598Ytfnhde5efPmcnd31/r16611ZTNJv1/e9fujTGpqqvr06aPGjRvL3d1dISEhGjlypH799VebeGfOnGkd4/d9lHev0p49e3TffffJ19dX3t7euueee2wSS0maN2+eTCaTvvjiCz3//POqX7++vLy81Lt3b508efKi13f8+PEymUyaP39+ubMgt99+e6X321R0b1vZks4Lbdq0SR07dlTdunXl7e2tpk2bWn8uUlJS1LZtW0nSU089Zb0+Fy7P2rVrl3r06CE/Pz/VqVNHUVFR+uKLL8od99///rf69eunevXqqWPHjpKk48eP66mnntKNN94od3d3NWjQQL169dKhQ4cqvUbbt2/XqVOn1K1bt0rblSn7AzkzM9Ma96effqqnn37aLqGSfktqyrufcf78+WrWrJnuvvtudevWTfPnz6/S+P3795f0vxmpC3311Vc6cOCAtY1kfy/TuXPnNH78eN18883y8PCQv7+/OnbsaPP716VLF3Xp0sWuf2d+L3/v9/c2lf2sl3dcGEtiYqK6du2qwMBAubu7q1mzZvrggw9s+g4LC1NGRoa2bt1q10dF91QtWbLE+m9fQECABgwYoKNHj9q9f29vbx09elQPPvigvL29Vb9+ff31r38tdxlt9+7dtXr1ahmGcdHrAVzPmKkCoNDQUO3YsUPffPONWrRocdH2W7du1eLFi/Xss8/K3d1d77//vnr06KEvv/zSev6JEyd05513WpOD+vXra926dXr66aeVl5enESNGSJLy8vI0Z84cPfbYYxo0aJB+/vlnJSQkKDo6Wl9++WWFS6xKSko0cOBALV68WMuXL1dsbKyk32bdXn31VT3yyCP605/+pJMnT+q9995T586dtWfPHpvEMScnR/fdd5/69u2rAQMGKCgo6JKv4eOPP64PP/xQGzdurHSjgHfffVcPPPCA+vfvr+LiYi1atEh9+vTRmjVrrO+hzOeff65//vOfeuaZZxQQEFBuYlC/fn19/PHHNmXnzp3TyJEjbZYGLVmyRAUFBRo6dKj8/f315Zdf6r333tORI0e0ZMkSSdL//d//KSsrS5s2bbLrszwZGRnq1KmTfH199eKLL8rV1VWzZ89Wly5dtHXrVrVr186m/fDhw1WvXj2NHTtWhw4d0vTp0/XMM89o8eLFFY5RUFCgzZs3q3PnzmrcuPFFY3JGRkaG7r//frVs2VITJkyQu7u7fvjhB2tS9Ic//EETJkzQa6+9psGDB6tTp06SpA4dOkj67ft13333qU2bNho7dqxcXFysfzynpqbqjjvusBmvT58+uvnmm/Xmm29a/2CNi4tTRkaGhg8frrCwMGVnZ2vTpk06fPhwpZuepKWlyWQy6bbbbqvSez148KCk3+6bkaRVq1ZJ+u3nuKqKioq0dOlS/eUvf5H02xLDp556SsePH1dwcHCl54aHh6tDhw765z//qWnTpslsNlvryhKtfv36VXj+uHHjNGnSJP3pT3/SHXfcoby8PO3evVtff/31JW3U4cjvZWU6d+5s97vz3//+V2PGjLH5gOqDDz5Q8+bN9cADD8hisWj16tX685//rNLSUg0bNkySNH36dA0fPlze3t7WWcLK/o2aN2+ennrqKbVt21aTJk3SiRMn9O677+qLL76w+7evpKRE0dHRateunaZOnarPPvtMb7/9tm666SYNHTrUpt82bdpo2rRpysjIqNL/D8B1ywBw3du4caNhNpsNs9lstG/f3njxxReNDRs2GMXFxXZtJRmSjN27d1vL/vvf/xoeHh5G7969rWVPP/200aBBA+PUqVM25/ft29fw8/MzCgoKDMMwjPPnzxtFRUU2bc6cOWMEBQUZAwcOtJZlZmYakoy//e1vxrlz54xHH33U8PT0NDZs2GBtc+jQIcNsNhtvvPGGTX/79+83LBaLTXlUVJQhyZg1a1aVrtHYsWMNScbJkyfLrT9z5owhyeYaPPnkk0ZoaKhNu7L3Xaa4uNho0aKF0bVrV5tySYaLi4uRkZFhN5YkY+zYsRXG+uc//9kwm83G559/XuG4hmEYkyZNMkwmk/Hf//7XWjZs2DCjov8afj/ugw8+aLi5uRkHDx60lmVlZRk+Pj5G586drWWJiYmGJKNbt25GaWmptXzkyJGG2Ww2zp49W+F72bt3ryHJeO655ypsc7E4y/s+GMb/vqdlpk2bVun32DAM41//+pchyUhMTLQpLy0tNW6++WYjOjra5j0WFBQY4eHhRvfu3e3Gfeyxx2z6KPsZ+tvf/lbFd/o/AwYMMPz9/e3Ky35vxo8fb5w8edI4fvy4kZKSYtx2222GJGPp0qWGYRhG7969DUnGmTNnqjzmJ598Ykgyvv/+e8MwDCMvL8/w8PAwpk2bVqXzZ86caUiy+R0uKSkxGjVqZLRv396mbWhoqPHkk09aX7dq1cqIjY2ttP+oqCgjKirKrtyZ38vfx7FlyxZDkrFly5ZyY/j111+NNm3aGA0bNjSOHTtW4XiGYRjR0dFGkyZNbMqaN29e7nv4/bjFxcVGYGCg0aJFC+PXX3+1tluzZo0hyXjttdesZU8++aQhyZgwYYJNn7fddpvRpk0bu7HS0tIMScbixYvLfY8AfsPyPwDq3r27duzYoQceeEB79+7VlClTFB0drUaNGlk/wb5Q+/bt1aZNG+vrxo0bq1evXtqwYYNKSkpkGIaWLl2qnj17yjAMnTp1ynpER0crNzdXX3/9tSTJbDZbZ1RKS0t1+vRpnT9/Xrfffru1zYWKi4utnyCvXbtW9957r7Vu2bJlKi0t1SOPPGIzZnBwsG6++Wa7JYXu7u566qmnquUaent7S5J+/vnnStt5enpavz5z5oxyc3PVqVOnct9rVFSUmjVr5lAc//jHP/T+++9rypQpNhsWXDhufn6+Tp06pQ4dOsgwDO3Zs8ehMaTfPuneuHGjHnzwQTVp0sRa3qBBA/Xr10/bt29XXl6ezTmDBw+2WW7XqVMnlZSU6L///W+F45T1cbHND6pD2Sf5K1eudHiDkfT0dH3//ffq16+fcnJyrD97+fn5uueee7Rt2za7Pn9//5Onp6fc3NyUkpKiM2fOODR+Tk6O6tWrV2H92LFjVb9+fQUHB6tLly46ePCg3nrrLT300EOSLu06z58/X7fffrsiIiKs58bGxlZ5CeCjjz4qV1dXmyWAW7du1dGjR22W/pWnbt26ysjI0Pfff1/leCvjyO+lI/785z9r//79Wrp0qc3s3YXj5ebm6tSpU4qKitKPP/6o3Nxch8fZvXu3srOz9ec//9nmXqvY2FhFRkbq008/tTvn9z9/nTp10o8//mjXruzn6tSpUw7HBVxPWP4HQJLUtm1bLVu2TMXFxdq7d6+WL1+uadOm6eGHH1Z6errNH/c333yz3fm33HKLCgoKdPLkSbm4uOjs2bP68MMP9eGHH5Y73oUbYCQlJentt9/Wf/7zH507d85aHh4ebnfepEmT9Msvv2jdunV290t8//33Mgyj3Pgk+40jGjVqVG27Z/3yyy+SLv5H6Zo1a/T6668rPT3dZhv239/bI5X//iuTnp6uIUOG6LHHHrPbivrw4cN67bXXtGrVKrs/2C/lj7iTJ0+qoKBATZs2tav7wx/+oNLSUv30009q3ry5tfz3y/fK/lirLIHw9fWVdPFktTo8+uijmjNnjv70pz/ppZde0j333KOHHnpIDz/88EV3niv7476yTRpyc3NtEp/ff3/d3d311ltv6S9/+YuCgoJ055136v7779cTTzxx0eV0kiq952Xw4MHq06ePXFxcVLduXet9emUuvM7l3Vv5e2fPntXatWv1zDPP6IcffrCW33XXXVq6dKm+++473XLLLZX24e/vr+joaC1fvlyzZs2Sh4eHFixYIIvFokceeaTScydMmKBevXrplltuUYsWLdSjRw89/vjjatmy5UVjL48jv5dVNXv2bCUmJmr27Nl2m3F88cUXGjt2rHbs2KGCggKbutzcXPn5+Tk0VtkHE+X9PkZGRmr79u02ZR4eHqpfv75NWb169cr9XSz7uXLmWgDXA5IqADbc3NzUtm1btW3bVrfccoueeuopLVmyRGPHjq1yH2WfyA8YMKDCPzLL/vhJTk5WfHy8HnzwQb3wwgsKDAyU2WzWpEmTrPd9XCg6Olrr16/XlClT1KVLF5tPZUtLS2UymbRu3TqbezTKlM0mlbnw02Jnle0+V/apfXlSU1P1wAMPqHPnznr//ffVoEEDubq6KjExsdwb9h2J78yZM4qLi9Mtt9yiOXPm2NSVlJSoe/fuOn36tEaNGqXIyEh5eXnp6NGjio+Pr5Ft38tT3vdEqjwZiIiIkMVi0f79+y953Ir+GPz9Tfmenp7atm2btmzZok8//VTr16/X4sWL1bVrV23cuLHC+KX//cz/7W9/q/A+wKr8/I0YMUI9e/bUihUrtGHDBr366quaNGmSPv/880rvl/L39680Ob355psr3cQiMjJS0m/Pqyu7V6wyS5YsUVFRkd5++229/fbbdvXz58/X+PHjL9rPgAEDtGbNGq1Zs0YPPPCAli5dqnvvvdfuD/7f69y5sw4ePKiVK1dq48aNmjNnjqZNm6ZZs2bpT3/6k6Tfvu/l/Wz9/vvu6O9lVXz55Zd67rnn9Kc//UmDBw+2qTt48KDuueceRUZG6p133lFISIjc3Ny0du1aTZs27bL8Plb2s/x7ZT9XF+56CsAeSRWACt1+++2SpGPHjtmUl7fk5rvvvlOdOnWsfwz5+PiopKTkoruRffLJJ2rSpImWLVtm88dvRUncnXfeqSFDhuj+++9Xnz59tHz5cuuzk2666SYZhqHw8PCLfkpe3cpuTo+Ojq6wzdKlS+Xh4aENGzbYzBIkJiY6NXZpaan69++vs2fP6rPPPrPbFn7//v367rvvlJSUpCeeeMJafuFOaWWq+ml0/fr1VadOHR04cMCu7j//+Y9cXFxsntl1qerUqaOuXbvq888/108//XRJfdarV09nz561Ky9v2aGLi4vuuece3XPPPXrnnXf05ptv6pVXXtGWLVvUrVu3Cq/PTTfdJOm3GZ+q7sBXkZtuukl/+ctf9Je//EXff/+9/vjHP+rtt99WcnJyhedERkZq/vz5lzTLIUk9e/bUpEmTlJycXKWkav78+WrRokW5v6ezZ8/WggULqpRUPfDAA/Lx8dGCBQvk6uqqM2fOXHTpX5kbbrhBTz31lJ566in98ssv6ty5s8aNG2dNqurVq1fucrbff9+r+/fy5MmTevjhh/XHP/7RupvmhVavXq2ioiKtWrXKZva2vB1Pq/r7GBoaKum353n9fuvzAwcOWOsvRdkOkX/4wx8uuQ/gesA9VQC0ZcuWcj/RXbt2rST7JSU7duywudfgp59+0sqVK3XvvffKbDbLbDYrLi5OS5cuLff5QRduo132iemF4+/atUs7duyoMN5u3bpp0aJFWr9+vR5//HHrJ7sPPfSQzGazxo8fb/d+DMNQTk5OhX06Y8GCBZozZ47at2+ve+65p8J2ZrNZJpPJ5pPyQ4cOacWKFU6NP378eG3YsEELFy4sd8lgedfYMAy9++67dm3LnpVUXhLy+z7vvfderVy50ma77xMnTmjBggXq2LGjdUmZs8aOHSvDMPT4449bl1le6KuvvlJSUlKF5990003Kzc3Vvn37rGXHjh3T8uXLbdqdPn3a7tyyWaeyJWEVXZ82bdropptu0tSpU8uNsSpbxxcUFKiwsNAudh8fH5slaeVp3769DMPQV199ddFxKjq/R48emjNnTrk/j8XFxfrrX/8q6bff923btumRRx7Rww8/bHc89dRT+uGHH7Rr166Ljuvp6anevXtr7dq1+uCDD+Tl5aVevXpd9Lzf/y57e3srIiLC5jrddNNN+s9//mNz7ffu3Wu3xX11/l6WlJSob9++Ki4u1tKlS8tdXlze72Nubm65SZyXl9dFfxel3z4ACwwM1KxZs2yuwbp16/Ttt986tIPh73311Vfy8/OzWcoLwB4zVQA0fPhwFRQUqHfv3oqMjFRxcbHS0tK0ePFihYWF2W3m0KJFC0VHR9tsqS7J5pPpyZMna8uWLWrXrp0GDRqkZs2a6fTp0/r666/12WefWf+Avf/++7Vs2TL17t1bsbGxyszM1KxZs9SsWbNy/zgt8+CDDyoxMVFPPPGEfH19NXv2bN100016/fXX9fLLL+vQoUN68MEH5ePjo8zMTC1fvlyDBw+2/mF4qT755BN5e3uruLhYR48e1YYNG/TFF1+oVatW1q3JKxIbG6t33nlHPXr0UL9+/ZSdna2ZM2cqIiLC5g9+R+zfv18TJ05U586dlZ2dbTebMWDAAEVGRuqmm27SX//6Vx09elS+vr5aunRpucvFyjYgefbZZxUdHS2z2ay+ffuWO/brr79ufa7Tn//8Z1ksFs2ePVtFRUWaMmXKJb2f8nTo0EEzZ87Un//8Z0VGRurxxx/XzTffrJ9//lkpKSlatWqVXn/99QrP79u3r0aNGqXevXvr2WefVUFBgT744APdcsstNh8OTJgwQdu2bVNsbKxCQ0OVnZ2t999/XzfeeKP1OVI33XST6tatq1mzZsnHx0deXl5q166dwsPDNWfOHN13331q3ry5nnrqKTVq1EhHjx7Vli1b5Ovrq9WrV1f6Pr/77jvdc889euSRR9SsWTNZLBYtX75cJ06cqPB7UKZjx47y9/fXZ599dskPaf3HP/6he++9Vw899JB69uype+65R15eXvr++++1aNEiHTt2TFOnTtWCBQtkGIYeeOCBcvuJiYmRxWLR/Pnz7bbVL8+AAQP0j3/8Qxs2bFD//v2r9BDkZs2aqUuXLmrTpo1uuOEG7d69W5988omeeeYZa5uBAwfqnXfeUXR0tJ5++mllZ2dr1qxZat68uc0mKtX5ezlr1ix9/vnnGjJkiN3MU1BQkLp37657771Xbm5u6tmzp/7v//5Pv/zyiz766CMFBgbarQpo06aNPvjgA73++uuKiIhQYGBgud9fV1dXvfXWW3rqqacUFRWlxx57zLqlelhYmEaOHOnQ+7jQpk2b1LNnT+6pAi7mMu82COAqtG7dOmPgwIFGZGSk4e3tbbi5uRkRERHG8OHDjRMnTti0lWQMGzbMSE5ONm6++WbD3d3duO2228rdUvjEiRPGsGHDjJCQEMPV1dUIDg427rnnHuPDDz+0tiktLTXefPNNIzQ01NrXmjVr7LY9vnBL9Qu9//77hiTjr3/9q7Vs6dKlRseOHQ0vLy/Dy8vLiIyMNIYNG2YcOHDA2iYqKspo3rx5la9R2TbYZYeHh4dx4403Gvfff78xd+5co7Cw0O6c8rZuTkhIsF63yMhIIzEx0W5rb8P433Uujy7YMrxsa+WKjjL//ve/jW7duhne3t5GQECAMWjQIOt25RduD37+/Hlj+PDhRv369Q2TyWTTx4Xjlvn666+N6Ohow9vb26hTp45x9913G2lpaTZtyrZU/9e//mVTfrHtqH/vq6++Mvr162c0bNjQcHV1NerVq2fcc889RlJSklFSUlJpnBs3bjRatGhhuLm5GU2bNjWSk5PtrvvmzZuNXr16GQ0bNjTc3NyMhg0bGo899pjx3Xff2fS1cuVKo1mzZobFYrG7fnv27DEeeughw9/f33B3dzdCQ0ONRx55xNi8ebO1TUXb8586dcoYNmyYERkZaXh5eRl+fn5Gu3btjH/+859Vuj7PPvusERERYVNW0e9NRQoKCoypU6cabdu2tf5bcPPNNxvDhw83fvjhB8MwDOPWW281GjduXGk/Xbp0MQIDA41z585ddMzz588bDRo0MCQZa9euLbfN77cyf/3114077rjDqFu3ruHp6WlERkYab7zxht1jIJKTk40mTZoYbm5uxh//+Edjw4YNTv1eXmxL9d//O3HhceHW6KtWrTJatmxpeHh4GGFhYcZbb71lzJ0715BkZGZmWtsdP37ciI2NNXx8fGz6qOh3Z/HixcZtt91muLu7GzfccIPRv39/48iRIzZtnnzyScPLy8vuGpf3fr/99ltDkvHZZ5/ZtQdgy2QYPCIbQNWZTCYNGzZMM2bMuNKhALjAjz/+qMjISK1bt67SZahAVY0YMULbtm3TV199xUwVcBHcUwUAwDWgSZMmevrppzV58uQrHQquATk5OZozZ45ef/11EiqgCrinCgCAa8QHH3xwpUPANcLf37/S+1oB2GKmCgAAAACcwEwVAIdwGyYAAIAtZqoAAAAAwAkkVQAAAADgBJb/XaC0tFRZWVny8fFhpxsAAADgOmYYhn7++Wc1bNhQLi6Vz0WRVF0gKytLISEhVzoMAAAAAFeJn376STfeeGOlbUiqLuDj4yPptwvn6+t7haMBAAAAcKXk5eUpJCTEmiNUhqTqAmVL/nx9fUmqAAAAAFTptiA2qgAAAAAAJ5BUAQAAAIATSKoAAAAAwAncUwUAAAD8f4Zh6Pz58yopKbnSoeAycHV1ldlsdrofkioAAABAUnFxsY4dO6aCgoIrHQouE5PJpBtvvFHe3t5O9UNSBQAAgOteaWmpMjMzZTab1bBhQ7m5uVVp1zfUXoZh6OTJkzpy5Ihuvvlmp2asSKoAAABw3SsuLlZpaalCQkJUp06dKx0OLpP69evr0KFDOnfunFNJFRtVAAAAAP+fiwt/Hl9Pqms2kp8aAAAAAHACSRUAAAAAOIGkCgAAAACcQFIFAAAA1GInT57U0KFD1bhxY7m7uys4OFjR0dH64osvrG3CwsJkMplkMpnk5eWl1q1ba8mSJdb6cePGWesvPCIjI+3GW7hwocxms4YNG2ZXl5KSIpPJpLNnz1rLsrKydOutt6pz587Kzc21tinvOH78uF08ZrNZISEhGjx4sE6fPl3ptfjoo4/UqVMn1atXT/Xq1VO3bt305ZdfOnpJHUZSBQAAAFQjo9TQr8fy9cuPufr1WL6MUqNGx4uLi9OePXuUlJSk7777TqtWrVKXLl2Uk5Nj027ChAk6duyY9uzZo7Zt2+rRRx9VWlqatb558+Y6duyYzbF9+3a78RISEvTiiy9q4cKFKiwsrDS2gwcPqmPHjgoNDdWGDRvk5+dnrTtw4IDdeIGBgXbxHD58WImJiVq/fr2GDh1a6XgpKSl67LHHtGXLFu3YsUMhISG69957dfTo0UrPcxZbqgMAAADVJP9QnnJ2nVBJwXlrmbmORf7tguQV5lvt4509e1apqalKSUlRVFSUJCk0NFR33HGHXVsfHx8FBwcrODhYM2fOVHJyslavXq0OHTpIkiwWi4KDgysdLzMzU2lpaVq6dKm2bNmiZcuWqV+/fuW23bdvn6Kjo9W1a1clJSXJYrFNPQIDA1W3bt0Kx7ownkaNGqlPnz5KTEysNL758+fbvJ4zZ46WLl2qzZs364knnqj0XGcwUwUAAABUg/xDecrectQmoZKkkoLzyt5yVPmH8qp9TG9vb3l7e2vFihUqKiqq8nkWi0Wurq4qLi52aLzExETFxsbKz89PAwYMUEJCQrnt0tLSFBUVpbi4OCUnJ9slVI46dOiQNmzYIDc3N4fOKygo0Llz53TDDTc4Nf7FkFQBAAAATjJKDeXsOlFpm5wvT1T7UkCLxaJ58+YpKSlJdevW1V133aXRo0dr3759FZ5TXFysSZMmKTc3V127drWW79+/35qklR1Dhgyx1peWlmrevHkaMGCAJKlv377avn27MjMz7cbo3bu3evbsqRkzZlT4LKgbb7zRZqzmzZvb1JfF4+npqfDwcGVkZGjUqFEOXZ9Ro0apYcOG6tatm0PnOYrlfwAAAICTCk8U2M1Q/V5J/nkVniiQZwOvah07Li5OsbGxSk1N1c6dO7Vu3TpNmTJFc+bMUXx8vLXdqFGjNGbMGBUWFsrb21uTJ09WbGystb5p06ZatWqVTd++vv9bsrhp0ybl5+crJiZGkhQQEKDu3btr7ty5mjhxos15vXr10vLly5WamqpOnTqVG3dqaqp8fHysr11dXW3qy+IpLCxUcnKy0tPTNXz48Cpfl8mTJ2vRokVKSUmRh4dHlc+7FMxUAQAAAE4q+bXyhMrRdo7y8PBQ9+7d9eqrryotLU3x8fEaO3asTZsXXnhB6enpOnLkiM6cOWM36+Pm5qaIiAib48KNIxISEnT69Gl5enrKYrHIYrFo7dq1SkpKUmlpqU1fs2fPVt++fXXfffdp27Zt5cYcHh5uM1ZoaGi58bRo0UKTJ0+W2WzW+PHjq3Q9pk6dqsmTJ2vjxo1q2bJllc5xBkkVAAAA4CSzZ9UWgFW1nbOaNWum/Px8m7KAgABFREQoODi4wiV5FcnJydHKlSu1aNEipaenW489e/bozJkz2rhxo017k8mkDz/8UP3791dMTIy2bt3q9HsaM2aMpk6dqqysrErbTZkyRRMnTtT69et1++23Oz1uVbD8DwAAAHCSR1AdmetYKl0CaPayyCOoTrWOm5OToz59+mjgwIFq2bKlfHx8tHv3bk2ZMkW9evVyqK/z589bnxNVxmQyKSgoSB9//LH8/f31yCOP2CVkMTExSkhIUI8ePezOnTVrlsxms2JiYvTpp5+qS5cu1vrs7Gy7Ldn9/f3tlgGWad++vVq2bKk333xTM2bMKLfNW2+9pddee00LFixQWFiY9f2U3bdVU0iqAADVqqSkVHv3HtKpnJ8V4O+jVq3CZDazMALAtc3kYpJ/uyBlb6n4eUj+dwTJ5OLYDNHFeHt7q127dpo2bZoOHjyoc+fOKSQkRIMGDdLo0aMd6isjI0MNGjSwKXN3d1dhYaHmzp2r3r17lzvDFRcXp8cff1ynTp2yqzOZTJo5c6ZcXFwUGxurNWvWWPto2rSpXfsdO3bozjvvrDDGkSNHKj4+XqNGjVJISIhd/QcffKDi4mI9/PDDNuVjx47VuHHjKuzXWSbDMGr2aWS1SF5envz8/JSbm2tzUx4AoGpStn6j6dPXKPvk/7YNDqzvqxEj7leXqBZXMDIAqFxhYaEyMzMVHh7u1KYG5T6nyssi/ztq5jlVcE5l33dHcgNmqgAA1SJl6zca/coCu/Lsk3ka/coCvflGPxIrANc8rzBf1Wns89tugL+el9nztyV/1T1DhasL6zEAAE4rKSnV9OlrKm0z/d1PVVJSWmkbALgWmFxM8mzgJe8mfvJs4EVCdR0gqQIAOG3v3kM2S/7Kk52dq717D12egAAAuIxIqgAATjuV83O1tgMAoDYhqQIAOC3A36da2wEAUJuQVAEAnNaqVZgC61e+M1JgoJ9atQq7PAEBAHAZkVQBAJxmNrtoxIj7K20z4rlYnlcFALgm8b8bAKBadIlqoTff6Gc3YxUY6Md26gCAaxrPqQIAVJsuUS3UqWMz7d17SKdyflaAv49atQpjhgoAcE0jqQIAVCuz2UWtWze50mEAAHDZ8NEhAAAAUIudPHlSQ4cOVePGjeXu7q7g4GBFR0friy++sLYJCwuTyWSSyWSSl5eXWrdurSVLlljrx40bZ62/8IiMjLQbb+HChTKbzRo2bJhdXUpKikwmk86ePWsty8rK0q233qrOnTsrNzfX2qa84/jx43bxmM1mhYSEaPDgwTp9+nSl1yIjI0NxcXHW9zt9+nQHr+alIakCAAAAqlFJSam+/vpHbdy0V19//aNKSkprdLy4uDjt2bNHSUlJ+u6777Rq1Sp16dJFOTk5Nu0mTJigY8eOac+ePWrbtq0effRRpaWlWeubN2+uY8eO2Rzbt2+3Gy8hIUEvvviiFi5cqMLCwkpjO3jwoDp27KjQ0FBt2LBBfn5+1roDBw7YjRcYGGgXz+HDh5WYmKj169dr6NChlY5XUFCgJk2aaPLkyQoODq60bXVi+R8AAABQTVK2fqPp09co+2SetSywvq9GjLi/RjbsOXv2rFJTU5WSkqKoqChJUmhoqO644w67tj4+PgoODlZwcLBmzpyp5ORkrV69Wh06dJAkWSyWiyYimZmZSktL09KlS7VlyxYtW7ZM/fr1K7ftvn37FB0dra5duyopKUkWi23qERgYqLp161Y41oXxNGrUSH369FFiYmKl8bVt21Zt27aVJL300kuVtq1OzFQBAAAA1SBl6zca/coCm4RKkrJP5mn0KwuUsvWbah/T29tb3t7eWrFihYqKiqp8nsVikaurq4qLix0aLzExUbGxsfLz89OAAQOUkJBQbru0tDRFRUUpLi5OycnJdgmVow4dOqQNGzbIzc3NqX5qCkkVAAAA4KSSklJNn76m0jbT3/202pcCWiwWzZs3T0lJSapbt67uuusujR49Wvv27avwnOLiYk2aNEm5ubnq2rWrtXz//v3WJK3sGDJkiLW+tLRU8+bN04ABAyRJffv21fbt25WZmWk3Ru/evdWzZ0/NmDFDJpOp3DhuvPFGm7GaN29uU18Wj6enp8LDw5WRkaFRo0Y5dH0uF5b/AQAAAE7au/eQ3QzV72Vn52rv3kPVvkNqXFycYmNjlZqaqp07d2rdunWaMmWK5syZo/j4eGu7UaNGacyYMSosLJS3t7cmT56s2NhYa33Tpk21atUqm759ff/37MFNmzYpPz9fMTExkqSAgAB1795dc+fO1cSJE23O69Wrl5YvX67U1FR16tSp3LhTU1Pl4+Njfe3q6mpTXxZPYWGhkpOTlZ6eruHDhzt2cS4TZqoAAAAAJ53K+bla2znKw8ND3bt316uvvqq0tDTFx8dr7NixNm1eeOEFpaen68iRIzpz5ozdrI+bm5siIiJsjgs3jkhISNDp06fl6ekpi8Uii8WitWvXKikpSaWltjNws2fPVt++fXXfffdp27Zt5cYcHh5uM1ZoaGi58bRo0UKTJ0+W2WzW+PHjnblMNYakCgAAAHBSgL/PxRs50M5ZzZo1U35+vu3YAQGKiIhQcHBwhUvyKpKTk6OVK1dq0aJFSk9Ptx579uzRmTNntHHjRpv2JpNJH374ofr376+YmBht3brV6fc0ZswYTZ06VVlZWU73Vd1Y/gcAAAA4qVWrMAXW9610CWBgoJ9atQqr1nFzcnLUp08fDRw4UC1btpSPj492796tKVOmqFevXg71df78eetzosqYTCYFBQXp448/lr+/vx555BG7hCwmJkYJCQnq0aOH3bmzZs2S2WxWTEyMPv30U3Xp0sVan52dbbclu7+/v90ywDLt27dXy5Yt9eabb2rGjBnltikuLta///1v69dHjx5Venq6vL29FRERUaXrcClIqgAAAAAnmc0uGjHifo1+ZUGFbUY8FyuzuXoXinl7e6tdu3aaNm2aDh48qHPnzikkJESDBg3S6NGjHeorIyNDDRo0sClzd3dXYWGh5s6dq969e5c7wxUXF6fHH39cp06dsqszmUyaOXOmXFxcFBsbqzVr1lj7aNq0qV37HTt26M4776wwxpEjRyo+Pl6jRo1SSEiIXX1WVpZuu+026+upU6dq6tSpioqKUkpKSoX9OstkGIZRY73XMnl5efLz81Nubq7NTXkAAAC4thUWFiozM1Ph4eHy8PC45H7KfU5VoJ9GPBdbI8+pgnMq+747khswUwUAAABUky5RLdSpYzPt3XtIp3J+VoC/j1q1Cqv2GSpcXUiqAAAAgGpkNrtU+7bpuLqRMgMAAACAE0iqAAAAAMAJJFUAAAAA4ISrJqnatm2bevbsqYYNG8pkMmnFihU29YZh6LXXXlODBg3k6empbt266fvvv7dpc/r0afXv31++vr6qW7eunn76af3yyy+X8V0AAAAAuN5cNUlVfn6+WrVqpZkzZ5ZbP2XKFP3973/XrFmztGvXLnl5eSk6OtrmgWH9+/dXRkaGNm3apDVr1mjbtm0aPHjw5XoLAAAAAK5DV83uf/fdd5/uu+++cusMw9D06dM1ZswY65Oh//GPfygoKEgrVqxQ37599e2332r9+vX617/+pdtvv12S9N577ykmJkZTp05Vw4YNL9t7AQAAAHD9uGpmqiqTmZmp48ePq1u3btYyPz8/tWvXTjt27JD029OX69ata02oJKlbt25ycXHRrl27yu23qKhIeXl5NgcAAAAAOKJWJFXHjx+XJAUFBdmUBwUFWeuOHz+uwMBAm3qLxaIbbrjB2ub3Jk2aJD8/P+sREhJSA9EDAAAAuJbViqSqprz88svKzc21Hj/99NOVDgkAAAC1nFFq6Ndj+frlx1z9eixfRqlRo+OdPHlSQ4cOVePGjeXu7q7g4GBFR0friy++sLYJCwuTyWSSyWSSl5eXWrdurSVLlljrx40bZ62/8IiMjLQbb+HChTKbzRo2bJhdXUpKikwmk86ePWsty8rK0q233qrOnTsrNzfX2qa8o2wy5MJ4zGazQkJCNHjwYJ0+fbrSa/HRRx+pU6dOqlevnurVq6du3brpyy+/dPSSOuyquaeqMsHBwZKkEydOqEGDBtbyEydO6I9//KO1TXZ2ts1558+f1+nTp63n/567u7vc3d1rJmgAAABcd/IP5Sln1wmVFJy3lpnrWOTfLkheYb41MmZcXJyKi4uVlJSkJk2a6MSJE9q8ebNycnJs2k2YMEGDBg1SXl6e3n77bT366KNq1KiROnToIElq3ry5PvvsM5tzLBb7dCEhIUEvvviiZs+erbffflseHh4Vxnbw4EF1795dzZo105IlS+Tp6WmtO3DggHx9ba/JhSvPyuIpKSnRt99+q4EDByo3N1eLFy+ucLyUlBQ99thj6tChgzw8PPTWW2/p3nvvVUZGhho1alThec6qFUlVeHi4goODtXnzZmsSlZeXp127dmno0KGSpPbt2+vs2bP66quv1KZNG0nS559/rtLSUrVr1+5KhQ4AAIDrRP6hPGVvOWpXXlJwXtlbjirwblV7YnX27FmlpqYqJSVFUVFRkqTQ0FDdcccddm19fHwUHBys4OBgzZw5U8nJyVq9erU1qbJYLBVORpTJzMxUWlqali5dqi1btmjZsmXq169fuW337dun6Ohode3aVUlJSXYJWmBgoOrWrVvhWBfG06hRI/Xp00eJiYmVxjd//nyb13PmzNHSpUu1efNmPfHEE5We64yrZvnfL7/8ovT0dKWnp0v67RuWnp6uw4cPy2QyacSIEXr99de1atUq7d+/X0888YQaNmyoBx98UJL0hz/8QT169NCgQYP05Zdf6osvvtAzzzyjvn37svMfAAAAapRRaihn14lK2+R8eaLalwJ6e3vL29tbK1asUFFRUZXPs1gscnV1VXFxsUPjJSYmKjY2Vn5+fhowYIASEhLKbZeWlqaoqCjFxcUpOTm53BkvRxw6dEgbNmyQm5ubQ+cVFBTo3LlzuuGGG5wa/2KumqRq9+7duu2223TbbbdJkp5//nnddttteu211yRJL774ooYPH67Bgwerbdu2+uWXX7R+/Xqb6cb58+crMjJS99xzj2JiYtSxY0d9+OGHV+T9AAAA4PpReKLAZslfeUryz6vwREG1jmuxWDRv3jwlJSWpbt26uuuuuzR69Gjt27evwnOKi4s1adIk5ebmqmvXrtby/fv3W5O0smPIkCHW+tLSUs2bN08DBgyQJPXt21fbt29XZmam3Ri9e/dWz549NWPGDJlMpnLjuPHGG23Gat68uU19WTyenp4KDw9XRkaGRo0a5dD1GTVqlBo2bGizi3hNuGqW/3Xp0kWGUXHmbjKZNGHCBE2YMKHCNjfccIMWLFhQE+EBAAAAFSr5tfKEytF2joiLi1NsbKxSU1O1c+dOrVu3TlOmTNGcOXMUHx9vbTdq1CiNGTNGhYWF8vb21uTJkxUbG2utb9q0qVatWmXT94X3PG3atEn5+fmKiYmRJAUEBKh79+6aO3euJk6caHNer169tHz5cqWmpqpTp07lxp2amiofHx/ra1dXV5v6sngKCwuVnJys9PR0DR8+vMrXZfLkyVq0aJFSUlIqve+rOlw1M1UAAABAbWX2rNpcRVXbOcrDw0Pdu3fXq6++qrS0NMXHx2vs2LE2bV544QWlp6fryJEjOnPmjN2sj5ubmyIiImyOCzeOSEhI0OnTp+Xp6SmLxSKLxaK1a9cqKSlJpaWlNn3Nnj1bffv21X333adt27aVG3N4eLjNWKGhoeXG06JFC02ePFlms1njx4+v0vWYOnWqJk+erI0bN6ply5ZVOscZJFUAAACAkzyC6shcp/KEyexlkUdQncsST7NmzZSfn29TFhAQoIiICAUHB1e4JK8iOTk5WrlypRYtWmTdByE9PV179uzRmTNntHHjRpv2JpNJH374ofr376+YmBht3brV6fc0ZswYTZ06VVlZWZW2mzJliiZOnKj169fr9ttvd3rcqrhqlv8BAAAAtZXJxST/dkHl7v5Xxv+OIJlcHEtmLiYnJ0d9+vTRwIED1bJlS/n4+Gj37t2aMmWKevXq5VBf58+ftz4nqozJZFJQUJA+/vhj+fv765FHHrFLyGJiYpSQkKAePXrYnTtr1iyZzWbFxMTo008/VZcuXaz12dnZKiwstDnH39/fbhlgmfbt26tly5Z68803NWPGjHLbvPXWW3rttde0YMEChYWFWd9P2X1bNYWkCgAAAKgGXmG+Crxb9s+p8rLI/46aeU6Vt7e32rVrp2nTpungwYM6d+6cQkJCNGjQII0ePdqhvjIyMmyeCSv99lzXwsJCzZ07V7179y53hisuLk6PP/64Tp06ZVdnMpk0c+ZMubi4KDY2VmvWrLH20bRpU7v2O3bs0J133llhjCNHjlR8fLxGjRqlkJAQu/oPPvhAxcXFevjhh23Kx44dq3HjxlXYr7NMRmW7Q1xn8vLy5Ofnp9zcXLsHkQEAAODaVVhYqMzMTIWHhzu9qYFRavy2G+Cv52X2/G3JX3XPUKF6VPZ9dyQ3YKYKAAAAqEYmF5M8G3hd6TBwGbFRBQAAAAA4gaQKAAAAAJxAUgUAAAAATiCpAgAAAAAnkFQBAAAAgBNIqgAAAADACSRVAAAAAOAEkioAAAAAcAIP/wUAoApKSkq1d+8hncr5WQH+PmrVKkxmM59NAgCYqQIA4KJStn6juIen6Jln52jc+MV65tk5int4ilK2fnOlQwNwFSopKdXXX/+ojZv26uuvf1RJSWmNjnfy5EkNHTpUjRs3lru7u4KDgxUdHa0vvvjC2iYsLEwmk0kmk0leXl5q3bq1lixZYq0fN26ctf7CIzIy0m68hQsXymw2a9iwYXZ1KSkpMplMOnv2rLUsKytLt956qzp37qzc3Fxrm/KO48eP28VjNpsVEhKiwYMH6/Tp05Vei4yMDMXFxVnf7/Tp0x28mpeGmSoAACqRsvUbjX5lgV159sk8jX5lgd58o5+6RLW4ApEBuBqlbP1G06evUfbJPGtZYH1fjRhxf439WxEXF6fi4mIlJSWpSZMmOnHihDZv3qycnBybdhMmTNCgQYOUl5ent99+W48++qgaNWqkDh06SJKaN2+uzz77zOYci8U+XUhISNCLL76o2bNn6+2335aHh0eFsR08eFDdu3dXs2bNtGTJEnl6elrrDhw4IF9fX5v2gYGB1q/L4ikpKdG3336rgQMHKjc3V4sXL65wvIKCAjVp0kR9+vTRyJEjK2xX3UiqAACoQElJqaZPX1Npm+nvfqpOHZuxFBDAFfkQ5uzZs0pNTVVKSoqioqIkSaGhobrjjjvs2vr4+Cg4OFjBwcGaOXOmkpOTtXr1amtSZbFYFBwcXOl4mZmZSktL09KlS7VlyxYtW7ZM/fr1K7ftvn37FB0dra5duyopKckuQQsMDFTdunUrHOvCeBo1aqQ+ffooMTGx0vjatm2rtm3bSpJeeumlSttWJ/4HAACgAnv3HrL5tLk82dm52rv30OUJCMBVq6ofwlT3UkBvb295e3trxYoVKioqqvJ5FotFrq6uKi4udmi8xMRExcbGys/PTwMGDFBCQkK57dLS0hQVFaW4uDglJyeXO+PliEOHDmnDhg1yc3Nzqp+aQlIFAEAFTuX8XK3tAFy7rtSHMBaLRfPmzVNSUpLq1q2ru+66S6NHj9a+ffsqPKe4uFiTJk1Sbm6uunbtai3fv3+/NUkrO4YMGWKtLy0t1bx58zRgwABJUt++fbV9+3ZlZmbajdG7d2/17NlTM2bMkMlkKjeOG2+80Was5s2b29SXxePp6anw8HBlZGRo1KhRDl2fy4XlfwAAVCDA36da2wG4dl3JD2Hi4uIUGxur1NRU7dy5U+vWrdOUKVM0Z84cxcfHW9uNGjVKY8aMUWFhoby9vTV58mTFxsZa65s2bapVq1bZ9H3hPU+bNm1Sfn6+YmJiJEkBAQHq3r275s6dq4kTJ9qc16tXLy1fvlypqanq1KlTuXGnpqbKx+d//366urra1JfFU1hYqOTkZKWnp2v48OGOXZzLhJkqAAAq0KpVmALr+1baJjDQT61ahV2egABcta70hzAeHh7q3r27Xn31VaWlpSk+Pl5jx461afPCCy8oPT1dR44c0ZkzZ+xmfdzc3BQREWFzXLhxREJCgk6fPi1PT09ZLBZZLBatXbtWSUlJKi21XdY4e/Zs9e3bV/fdd5+2bdtWbszh4eE2Y4WGhpYbT4sWLTR58mSZzWaNHz/emctUY0iqAACogNnsohEj7q+0zYjnYtmkAsBV9yFMs2bNlJ+fb1MWEBCgiIgIBQcHV7gkryI5OTlauXKlFi1apPT0dOuxZ88enTlzRhs3brRpbzKZ9OGHH6p///6KiYnR1q1bnX5PY8aM0dSpU5WVleV0X9WN5X8AAFSiS1QLvflGP/stkgP9NOK5WLZTByDpfx/ClLf7X5ma+BAmJydHffr00cCBA9WyZUv5+Pho9+7dmjJlinr16uVQX+fPn7c+J6qMyWRSUFCQPv74Y/n7++uRRx6xS8hiYmKUkJCgHj162J07a9Ysmc1mxcTE6NNPP1WXLl2s9dnZ2SosLLQ5x9/f324ZYJn27durZcuWevPNNzVjxoxy2xQXF+vf//639eujR48qPT1d3t7eioiIqNJ1uBQkVQAAXESXqBbq1LGZ9u49pFM5PyvA30etWoUxQwXAxpX4EMbb21vt2rXTtGnTdPDgQZ07d04hISEaNGiQRo8e7VBfGRkZatCggU2Zu7u7CgsLNXfuXPXu3bvcGa64uDg9/vjjOnXqlF2dyWTSzJkz5eLiotjYWK1Zs8baR9OmTe3a79ixQ3feeWeFMY4cOVLx8fEaNWqUQkJC7OqzsrJ02223WV9PnTpVU6dOVVRUlFJSUirs11kmwzCMGuu9lsnLy5Ofn59yc3PtHkQGAACAa1dhYaEyMzMVHh5e6cNsq6KkpJQPYWqJyr7vjuQGzFQBAAAA1chsdlHr1k2udBi4jEiZAQAAAMAJJFUAAAAA4ASSKgAAAABwAkkVAAAAADiBpAoAAAAAnEBSBQAAAABOIKkCAAAAACeQVAEAAACAE0iqAAAAAMAJJFUAAABANTJKDf16LF+//JirX4/lyyg1anS8kydPaujQoWrcuLHc3d0VHBys6OhoffHFF9Y2YWFhMplMMplM8vLyUuvWrbVkyRJr/bhx46z1Fx6RkZF24y1cuFBms1nDhg2zq0tJSZHJZNLZs2etZVlZWbr11lvVuXNn5ebmWtuUdxw/ftwuHrPZrJCQEA0ePFinT5+u9Fp89NFH6tSpk+rVq6d69eqpW7du+vLLLx29pA6z1PgIAAAAwHUi/1CecnadUEnBeWuZuY5F/u2C5BXmWyNjxsXFqbi4WElJSWrSpIlOnDihzZs3Kycnx6bdhAkTNGjQIOXl5entt9/Wo48+qkaNGqlDhw6SpObNm+uzzz6zOcdisU8XEhIS9OKLL2r27Nl6++235eHhUWFsBw8eVPfu3dWsWTMtWbJEnp6e1roDBw7I19f2mgQGBlq/LounpKRE3377rQYOHKjc3FwtXry4wvFSUlL02GOPqUOHDvLw8NBbb72le++9VxkZGWrUqFGF5zmLpAoAAACoBvmH8pS95ahdeUnBeWVvOarAu1XtidXZs2eVmpqqlJQURUVFSZJCQ0N1xx132LX18fFRcHCwgoODNXPmTCUnJ2v16tXWpMpisSg4OLjS8TIzM5WWlqalS5dqy5YtWrZsmfr161du23379ik6Olpdu3ZVUlKSXYIWGBiounXrVjjWhfE0atRIffr0UWJiYqXxzZ8/3+b1nDlztHTpUm3evFlPPPFEpec6g+V/AAAAgJOMUkM5u05U2ibnyxPVvhTQ29tb3t7eWrFihYqKiqp8nsVikaurq4qLix0aLzExUbGxsfLz89OAAQOUkJBQbru0tDRFRUUpLi5OycnJ5c54OeLQoUPasGGD3NzcHDqvoKBA586d0w033ODU+BdDUgUAAAA4qfBEgc2Sv/KU5J9X4YmCah3XYrFo3rx5SkpKUt26dXXXXXdp9OjR2rdvX4XnFBcXa9KkScrNzVXXrl2t5fv377cmaWXHkCFDrPWlpaWaN2+eBgwYIEnq27evtm/frszMTLsxevfurZ49e2rGjBkymUzlxnHjjTfajNW8eXOb+rJ4PD09FR4eroyMDI0aNcqh6zNq1Cg1bNhQ3bp1c+g8R7H8DwAAAHBSya+VJ1SOtnNEXFycYmNjlZqaqp07d2rdunWaMmWK5syZo/j4eGu7UaNGacyYMSosLJS3t7cmT56s2NhYa33Tpk21atUqm74vvOdp06ZNys/PV0xMjCQpICBA3bt319y5czVx4kSb83r16qXly5crNTVVnTp1Kjfu1NRU+fj4WF+7urra1JfFU1hYqOTkZKWnp2v48OFVvi6TJ0/WokWLlJKSUul9X9WBmSoAAADASWbPqs1VVLWdozw8PNS9e3e9+uqrSktLU3x8vMaOHWvT5oUXXlB6erqOHDmiM2fO2M36uLm5KSIiwua4cOOIhIQEnT59Wp6enrJYLLJYLFq7dq2SkpJUWlpq09fs2bPVt29f3Xfffdq2bVu5MYeHh9uMFRoaWm48LVq00OTJk2U2mzV+/PgqXY+pU6dq8uTJ2rhxo1q2bFmlc5xBUgUAAAA4ySOojsx1Kk+YzF4WeQTVuSzxNGvWTPn5+TZlAQEBioiIUHBwcIVL8iqSk5OjlStXatGiRUpPT7cee/bs0ZkzZ7Rx40ab9iaTSR9++KH69++vmJgYbd261en3NGbMGE2dOlVZWVmVtpsyZYomTpyo9evX6/bbb3d63Kpg+R8AAADgJJOLSf7tgsrd/a+M/x1BMrk4lsxcTE5Ojvr06aOBAweqZcuW8vHx0e7duzVlyhT16tXLob7Onz9vfU5UGZPJpKCgIH388cfy9/fXI488YpeQxcTEKCEhQT169LA7d9asWTKbzYqJidGnn36qLl26WOuzs7NVWFhoc46/v7/dMsAy7du3V8uWLfXmm29qxowZ5bZ566239Nprr2nBggUKCwuzvp+y+7ZqCkkVAAAAUA28wnwVeLfsn1PlZZH/HTXznCpvb2+1a9dO06ZN08GDB3Xu3DmFhIRo0KBBGj16tEN9ZWRkqEGDBjZl7u7uKiws1Ny5c9W7d+9yZ7ji4uL0+OOP69SpU3Z1JpNJM2fOlIuLi2JjY7VmzRprH02bNrVrv2PHDt15550Vxjhy5EjFx8dr1KhRCgkJsav/4IMPVFxcrIcfftimfOzYsRo3blyF/TrLZBhGzT7iuRbJy8uTn5+fcnNz7R5EBgAAgGtXYWGhMjMzFR4e7vSmBkap8dtugL+el9nztyV/1T1DhepR2ffdkdyAmSoAAACgGplcTPJs4HWlw8BlxEYVAAAAAOAEkioAAAAAcAJJFQAAAAA4gaQKAAAAAJxAUgUAAAAATiCpAgAAAAAnkFQBAAAAgBNIqgAAAADACSRVAAAAAOAEkioAAACgGpWUlOrrr3/Uxk179fXXP6qkpLRGxzt58qSGDh2qxo0by93dXcHBwYqOjtYXX3xhbRMWFiaTySSTySQvLy+1bt1aS5YssdaPGzfOWn/hERkZaTfewoULZTabNWzYMLu6lJQUmUwmnT171lqWlZWlW2+9VZ07d1Zubq61TXnH8ePH7eIxm80KCQnR4MGDdfr06UqvRUZGhuLi4qzvd/r06Q5ezUtjuSyjAAAAANeBlK3faPr0Nco+mWctC6zvqxEj7leXqBY1MmZcXJyKi4uVlJSkJk2a6MSJE9q8ebNycnJs2k2YMEGDBg1SXl6e3n77bT366KNq1KiROnToIElq3ry5PvvsM5tzLBb7dCEhIUEvvviiZs+erbffflseHh4Vxnbw4EF1795dzZo105IlS+Tp6WmtO3DggHx9fW3aBwYGWr8ui6ekpETffvutBg4cqNzcXC1evLjC8QoKCtSkSRP16dNHI0eOrLBddSOpAgAAAKpBytZvNPqVBXbl2SfzNPqVBXrzjX7VnlidPXtWqampSklJUVRUlCQpNDRUd9xxh11bHx8fBQcHKzg4WDNnzlRycrJWr15tTaosFouCg4MrHS8zM1NpaWlaunSptmzZomXLlqlfv37ltt23b5+io6PVtWtXJSUl2SVogYGBqlu3boVjXRhPo0aN1KdPHyUmJlYaX9u2bdW2bVtJ0ksvvVRp2+rE8j8AAADASSUlpZo+fU2lbaa/+2m1LwX09vaWt7e3VqxYoaKioiqfZ7FY5OrqquLiYofGS0xMVGxsrPz8/DRgwAAlJCSU2y4tLU1RUVGKi4tTcnJyuTNejjh06JA2bNggNzc3p/qpKSRVAAAAgJP27j1ks+SvPNnZudq791C1jmuxWDRv3jwlJSWpbt26uuuuuzR69Gjt27evwnOKi4s1adIk5ebmqmvXrtby/fv3W5O0smPIkCHW+tLSUs2bN08DBgyQJPXt21fbt29XZmam3Ri9e/dWz549NWPGDJlMpnLjuPHGG23Gat68uU19WTyenp4KDw9XRkaGRo0a5dD1uVxY/gcAAAA46VTOz9XazhFxcXGKjY1Vamqqdu7cqXXr1mnKlCmaM2eO4uPjre1GjRqlMWPGqLCwUN7e3po8ebJiY2Ot9U2bNtWqVats+r7wnqdNmzYpPz9fMTExkqSAgAB1795dc+fO1cSJE23O69Wrl5YvX67U1FR16tSp3LhTU1Pl4+Njfe3q6mpTXxZPYWGhkpOTlZ6eruHDhzt2cS4TZqoAAAAAJwX4+1y8kQPtHOXh4aHu3bvr1VdfVVpamuLj4zV27FibNi+88ILS09N15MgRnTlzxm7Wx83NTRERETbHhRtHJCQk6PTp0/L09JTFYpHFYtHatWuVlJSk0lLbZY2zZ89W3759dd9992nbtm3lxhweHm4zVmhoaLnxtGjRQpMnT5bZbNb48eOduUw1ptYkVRduA3nhUbaVY5cuXezqLpyuBAAAAGpKq1ZhCqzvW2mbwEA/tWoVdlniadasmfLz823KAgICFBERoeDg4AqX5FUkJydHK1eu1KJFi5Senm499uzZozNnzmjjxo027U0mkz788EP1799fMTEx2rp1q9PvacyYMZo6daqysrKc7qu61Zrlf//6179UUlJiff3NN9+oe/fu6tOnj7Vs0KBBmjBhgvV1nTp1LmuMAAAAuD6ZzS4aMeL+cnf/KzPiuViZzdU7p5GTk6M+ffpo4MCBatmypXx8fLR7925NmTJFvXr1cqiv8+fPW58TVcZkMikoKEgff/yx/P399cgjj9glZDExMUpISFCPHj3szp01a5bMZrNiYmL06aefqkuXLtb67OxsFRYW2pzj7+9vtwywTPv27dWyZUu9+eabmjFjRrltiouL9e9//9v69dGjR5Weni5vb29FRERU6TpcilqTVNWvX9/m9eTJk3XTTTdZt46UfkuiLrYNJAAAAFATukS10Jtv9LN/TlWgn0Y8F1sjz6ny9vZWu3btNG3aNB08eFDnzp1TSEiIBg0apNGjRzvUV0ZGhho0aGBT5u7ursLCQs2dO1e9e/cud4YrLi5Ojz/+uE6dOmVXZzKZNHPmTLm4uCg2NlZr1qyx9tG0aVO79jt27NCdd95ZYYwjR45UfHy8Ro0apZCQELv6rKws3XbbbdbXU6dO1dSpUxUVFaWUlJQK+3WWyTAMo8Z6ryHFxcVq2LChnn/+eesPS5cuXZSRkSHDMBQcHKyePXvq1VdfrXS2qqioyGbryby8PIWEhCg3N9fuQWQAAAC4dhUWFiozM1Ph4eGVPsy2KkpKSrV37yGdyvlZAf4+atUqrNpnqFA9Kvu+5+Xlyc/Pr0q5Qa2ZqbrQihUrdPbsWZvdTPr166fQ0FA1bNhQ+/bt06hRo3TgwAEtW7aswn4mTZp01d7sBgAAgNrJbHZR69ZNrnQYuIxq5UxVdHS03NzctHr16grbfP7557rnnnv0ww8/6Kabbiq3DTNVAAAAkKp3pgq1x3U7U/Xf//5Xn332WaUzUJLUrl07Sao0qXJ3d5e7u3u1xwgAAADg+lHrFncmJiYqMDDQ5kFl5UlPT5cku5vtAAAAAKA61aqZqtLSUiUmJurJJ5+UxfK/0A8ePKgFCxYoJiZG/v7+2rdvn0aOHKnOnTurZcuWVzBiAAAAANe6WpVUffbZZzp8+LAGDhxoU+7m5qbPPvtM06dPV35+vkJCQhQXF6cxY8ZcoUgBAAAAXC9qVVJ17733qrx9NUJCQqrlKc0AAAAA4Khad08VAAAAAFxNSKoAAAAAwAkkVQAAAEAtdvLkSQ0dOlSNGzeWu7u7goODFR0drS+++MLaJiwsTCaTSSaTSV5eXmrdurWWLFlirR83bpy1/sIjMjLSbryFCxfKbDZr2LBhdnUpKSkymUw6e/astSwrK0u33nqrOnfurNzcXGub8o7jx4/bxWM2mxUSEqLBgwfr9OnTlV6Ljz76SJ06dVK9evVUr149devWTV9++aWjl9RhJFUAAABANTJKDf16LF+//JirX4/lyyi13xOgOsXFxWnPnj1KSkrSd999p1WrVqlLly7KycmxaTdhwgQdO3ZMe/bsUdu2bfXoo48qLS3NWt+8eXMdO3bM5ti+fbvdeAkJCXrxxRe1cOFCFRYWVhrbwYMH1bFjR4WGhmrDhg3y8/Oz1h04cMBuvMDAQLt4Dh8+rMTERK1fv15Dhw6tdLyUlBQ99thj2rJli3bs2KGQkBDde++9Onr0aKXnOatWbVQBAAAAXM3yD+UpZ9cJlRSct5aZ61jk3y5IXmG+1T7e2bNnlZqaqpSUFEVFRUmSQkNDdccdd9i19fHxUXBwsIKDgzVz5kwlJydr9erV6tChgyTJYrEoODi40vEyMzOVlpampUuXasuWLVq2bJn69etXbtt9+/YpOjpaXbt2VVJSks0jkSQpMDBQdevWrXCsC+Np1KiR+vTpo8TExErjmz9/vs3rOXPmaOnSpdq8ebOeeOKJSs91BjNVAAAAQDXIP5Sn7C1HbRIqSSopOK/sLUeVfyiv2sf09vaWt7e3VqxYoaKioiqfZ7FY5OrqquLiYofGS0xMVGxsrPz8/DRgwAAlJCSU2y4tLU1RUVGKi4tTcnKyXULlqEOHDmnDhg1yc3Nz6LyCggKdO3dON9xwg1PjXwxJFQAAAOAko9RQzq4TlbbJ+fJEtS8FtFgsmjdvnpKSklS3bl3dddddGj16tPbt21fhOcXFxZo0aZJyc3PVtWtXa/n+/futSVrZMWTIEGt9aWmp5s2bpwEDBkiS+vbtq+3btyszM9NujN69e6tnz56aMWOGTCZTuXHceOONNmM1b97cpr4sHk9PT4WHhysjI0OjRo1y6PqMGjVKDRs2VLdu3Rw6z1Es/wMAAACcVHiiwG6G6vdK8s+r8ESBPBt4VevYcXFxio2NVWpqqnbu3Kl169ZpypQpmjNnjuLj463tRo0apTFjxqiwsFDe3t6aPHmyYmNjrfVNmzbVqlWrbPr29f3fksVNmzYpPz9fMTExkqSAgAB1795dc+fO1cSJE23O69Wrl5YvX67U1FR16tSp3LhTU1Pl4+Njfe3q6mpTXxZPYWGhkpOTlZ6eruHDh1f5ukyePFmLFi1SSkqKPDw8qnzepWCmCgAAAHBSya+VJ1SOtnOUh4eHunfvrldffVVpaWmKj4/X2LFjbdq88MILSk9P15EjR3TmzBm7WR83NzdFRETYHBduHJGQkKDTp0/L09NTFotFFotFa9euVVJSkkpLS236mj17tvr27av77rtP27ZtKzfm8PBwm7FCQ0PLjadFixaaPHmyzGazxo8fX6XrMXXqVE2ePFkbN25Uy5Ytq3SOM0iqAAAAACeZPau2AKyq7ZzVrFkz5efn25QFBAQoIiJCwcHBFS7Jq0hOTo5WrlypRYsWKT093Xrs2bNHZ86c0caNG23am0wmffjhh+rfv79iYmK0detWp9/TmDFjNHXqVGVlZVXabsqUKZo4caLWr1+v22+/3elxq4LlfwAAAICTPILqyFzHUukSQLOXRR5Bdap13JycHPXp00cDBw5Uy5Yt5ePjo927d2vKlCnq1auXQ32dP3/e+pyoMiaTSUFBQfr444/l7++vRx55xC4hi4mJUUJCgnr06GF37qxZs2Q2mxUTE6NPP/1UXbp0sdZnZ2fbbcnu7+9vtwywTPv27dWyZUu9+eabmjFjRrlt3nrrLb322mtasGCBwsLCrO+n7L6tmkJSBQAAADjJ5GKSf7sgZW+p+HlI/ncEyeTi2AzRxXh7e6tdu3aaNm2aDh48qHPnzikkJESDBg3S6NGjHeorIyNDDRo0sClzd3dXYWGh5s6dq969e5c7wxUXF6fHH39cp06dsqszmUyaOXOmXFxcFBsbqzVr1lj7aNq0qV37HTt26M4776wwxpEjRyo+Pl6jRo1SSEiIXf0HH3yg4uJiPfzwwzblY8eO1bhx4yrs11kmwzBq9mlktUheXp78/PyUm5trc1MeAAAArm2FhYXKzMxUeHi4U5salPucKi+L/O+omedUwTmVfd8dyQ2YqQIAAACqiVeYr+o09vltN8Bfz8vs+duSv+qeocLVhaQKAAAAqEYmF1O1b5uOqxu7/wEAAACAE0iqAAAAAMAJJFUAAAAA4ASSKgAAAABwAkkVAAAAADiBpAoAAAAAnEBSBQAAAABOIKkCAAAAACeQVAEAAAC12MmTJzV06FA1btxY7u7uCg4OVnR0tL744gtrm7CwMJlMJplMJnl5eal169ZasmSJtX7cuHHW+guPyMhIu/EWLlwos9msYcOG2dWlpKTIZDLp7Nmz1rKsrCzdeuut6ty5s3Jzc61tyjuOHz9uF4/ZbFZISIgGDx6s06dPV3otMjIyFBcXZ32/06dPd/BqXhqSKgAAAKAalZSU6uuvf9TGTXv19dc/qqSktEbHi4uL0549e5SUlKTvvvtOq1atUpcuXZSTk2PTbsKECTp27Jj27Nmjtm3b6tFHH1VaWpq1vnnz5jp27JjNsX37drvxEhIS9OKLL2rhwoUqLCysNLaDBw+qY8eOCg0N1YYNG+Tn52etO3DggN14gYGBdvEcPnxYiYmJWr9+vYYOHVrpeAUFBWrSpIkmT56s4ODgSttWJ8tlGwkAAAC4xqVs/UbTp69R9sk8a1lgfV+NGHG/ukS1qPbxzp49q9TUVKWkpCgqKkqSFBoaqjvuuMOurY+Pj4KDgxUcHKyZM2cqOTlZq1evVocOHSRJFovloolIZmam0tLStHTpUm3ZskXLli1Tv379ym27b98+RUdHq2vXrkpKSpLFYpt6BAYGqm7duhWOdWE8jRo1Up8+fZSYmFhpfG3btlXbtm0lSS+99FKlbasTM1UAAABANUjZ+o1Gv7LAJqGSpOyTeRr9ygKlbP2m2sf09vaWt7e3VqxYoaKioiqfZ7FY5OrqquLiYofGS0xMVGxsrPz8/DRgwAAlJCSU2y4tLU1RUVGKi4tTcnKyXULlqEOHDmnDhg1yc3Nzqp+aQlIFAAAAOKmkpFTTp6+ptM30dz+t9qWAFotF8+bNU1JSkurWrau77rpLo0eP1r59+yo8p7i4WJMmTVJubq66du1qLd+/f781SSs7hgwZYq0vLS3VvHnzNGDAAElS3759tX37dmVmZtqN0bt3b/Xs2VMzZsyQyWQqN44bb7zRZqzmzZvb1JfF4+npqfDwcGVkZGjUqFEOXZ/LheV/AAAAgJP27j1kN0P1e9nZudq795Bat25SrWPHxcUpNjZWqamp2rlzp9atW6cpU6Zozpw5io+Pt7YbNWqUxowZo8LCQnl7e2vy5MmKjY211jdt2lSrVq2y6dvX19f69aZNm5Sfn6+YmBhJUkBAgLp37665c+dq4sSJNuf16tVLy5cvV2pqqjp16lRu3KmpqfLx8bG+dnV1takvi6ewsFDJyclKT0/X8OHDHbs4lwkzVQAAAICTTuX8XK3tHOXh4aHu3bvr1VdfVVpamuLj4zV27FibNi+88ILS09N15MgRnTlzxm7Wx83NTRERETbHhRtHJCQk6PTp0/L09JTFYpHFYtHatWuVlJSk0lLbGbjZs2erb9++uu+++7Rt27ZyYw4PD7cZKzQ0tNx4WrRoocmTJ8tsNmv8+PHOXKYaQ1IFAAAAOCnA3+fijRxo56xmzZopPz/fduyAAEVERCg4OLjCJXkVycnJ0cqVK7Vo0SKlp6dbjz179ujMmTPauHGjTXuTyaQPP/xQ/fv3V0xMjLZu3er0exozZoymTp2qrKwsp/uqbiz/AwAAAJzUqlWYAuv7VroEMDDQT61ahVXruDk5OerTp48GDhyoli1bysfHR7t379aUKVPUq1cvh/o6f/689TlRZUwmk4KCgvTxxx/L399fjzzyiF1CFhMTo4SEBPXo0cPu3FmzZslsNismJkaffvqpunTpYq3Pzs6225Ld39/fbhlgmfbt26tly5Z68803NWPGjHLbFBcX69///rf166NHjyo9PV3e3t6KiIio0nW4FCRVAAAAgJPMZheNGHG/Rr+yoMI2I56LldlcvQvFvL291a5dO02bNk0HDx7UuXPnFBISokGDBmn06NEO9ZWRkaEGDRrYlLm7u6uwsFBz585V7969y53hiouL0+OPP65Tp07Z1ZlMJs2cOVMuLi6KjY3VmjVrrH00bdrUrv2OHTt05513VhjjyJEjFR8fr1GjRikkJMSuPisrS7fddpv19dSpUzV16lRFRUUpJSWlwn6dZTIMw6ix3muZvLw8+fn5KTc31+amPAAAAFzbCgsLlZmZqfDwcHl4eFxyP+U+pyrQTyOei62R51TBOZV93x3JDZipAgAAAKpJl6gW6tSxmfbuPaRTOT8rwN9HrVqFVfsMFa4uJFUAAABANTKbXap923Rc3UiZAQAAAMAJJFUAAAAA4ASSKgAAAABwAkkVAAAA8P+VlpZe6RBwGVXXRuhsVAEAAIDrnpubm1xcXJSVlaX69evLzc2t3Gcy4dphGIZOnjwpk8lU4QOHq4qkCgAAANc9FxcXhYeH69ixY8rKyrrS4eAyMZlMuvHGG2U2m53qh6QKAAAA0G+zVY0bN9b58+dVUlJypcPBZeDq6up0QiWRVAEAAABWZUvBnF0OhusLG1UAAAAAgBNIqgAAAADACSRVAAAAAOAEkioAAAAAcAJJFQAAAAA4gaQKAAAAAJxAUgUAAAAATiCpAgAAAAAnkFQBAAAAgBNIqgAAAADACSRVAAAAAOAEkioAAAAAcAJJFQAAAAA4gaQKAAAAAJxAUgUAAAAATiCpAgAAAAAnkFQBAAAAgBNIqgAAAADACSRVAAAAAOAEkioAAAAAcEKtSarGjRsnk8lkc0RGRlrrCwsLNWzYMPn7+8vb21txcXE6ceLEFYwYAAAAwPWg1iRVktS8eXMdO3bMemzfvt1aN3LkSK1evVpLlizR1q1blZWVpYceeugKRgsAAADgemC50gE4wmKxKDg42K48NzdXCQkJWrBggbp27SpJSkxM1B/+8Aft3LlTd9555+UOFQAAAMB1olbNVH3//fdq2LChmjRpov79++vw4cOSpK+++krnzp1Tt27drG0jIyPVuHFj7dixo8L+ioqKlJeXZ3MAAAAAkmSUGvr1WL5++TFXvx7Ll1FqXOmQcJWqNTNV7dq107x589S0aVMdO3ZM48ePV6dOnfTNN9/o+PHjcnNzU926dW3OCQoK0vHjxyvsc9KkSRo/fnwNRw4AAIDaJv9QnnJ2nVBJwXlrmbmORf7tguQV5nsFI8PVqNYkVffdd5/165YtW6pdu3YKDQ3VP//5T3l6el5Sny+//LKef/556+u8vDyFhIQ4HSsAAABqr/xDecrectSuvKTgvLK3HFXg3SKxgo1atfzvQnXr1tUtt9yiH374QcHBwSouLtbZs2dt2pw4caLce7DKuLu7y9fX1+YAAADA9csoNZSzq/IdpHO+PMFSQNiotUnVL7/8ooMHD6pBgwZq06aNXF1dtXnzZmv9gQMHdPjwYbVv3/4KRgkAAIDapPBEgc2Sv/KU5J9X4YmCyxQRaoNas/zvr3/9q3r27KnQ0FBlZWVp7NixMpvNeuyxx+Tn56enn35azz//vG644Qb5+vpq+PDhat++PTv/AQAAoMpKfq08oXK0Ha4PtSapOnLkiB577DHl5OSofv366tixo3bu3Kn69etLkqZNmyYXFxfFxcWpqKhI0dHRev/9969w1AAAAKhNzJ5V+/O4qu1wfTAZhsGC0P8vLy9Pfn5+ys3N5f4qAACA65BRauinJT9UugTQ7GVRyMMRMrmYLmNkuNwcyQ1q7T1VAAAAQHUzuZjk3y6o0jb+dwSRUMEGSRUAAABwAa8wXwXe3UjmOrZL/MxeFgXe3Yjt1GGHxaAAAADA73iF+apOY5/fdgP89bzMnhZ5BNVhhgrlIqkCAAAAymFyMcmzgdeVDgO1AMv/AAAAAMAJJFUAAAAA4ASSKgAAAABwAkkVAAAAADiBpAoAAAAAnEBSBQAAAABOIKkCAAAAACeQVAEAAACAE0iqAAAAAMAJJFUAAAAA4ASSKgAAAABwAkkVAAAAADiBpAoAAAAAnEBSBQAAAABOIKkCAAAAACc4nFSVlpZWWH748GGnAwIAAACA2qTKSVVeXp4eeeQReXl5KSgoSK+99ppKSkqs9SdPnlR4eHiNBAkAAAAAVytLVRu++uqr2rt3rz7++GOdPXtWr7/+ur7++mstW7ZMbm5ukiTDMGosUAAAAAC4GlV5pmrFihWaPXu2Hn74Yf3pT3/S7t27dfLkSfXs2VNFRUWSJJPJVGOBAgAAAMDVqMpJ1cmTJxUaGmp9HRAQoM8++0w///yzYmJiVFBQUCMBAgAAAMDVrMpJVePGjfXtt9/alPn4+Gjjxo369ddf1bt372oPDgAAAACudlVOqu69914lJibalXt7e2vDhg3y8PCo1sAAAAAAoDao8kYV48ePV1ZWVrl1Pj4+2rRpk77++utqCwwAAAAAaoMqJ1X16tVTvXr1Kqz38fFRVFRUtQQFAAAAALWFww//BQAAAAD8D0kVAAAAADiBpAoAAAAAnEBSBQAAAABOcDipMpvNys7OtivPycmR2WyulqAAAAAAoLZwOKkyDKPc8qKiIrm5uTkdEAAAAADUJlXeUv3vf/+7JMlkMmnOnDny9va21pWUlGjbtm2KjIys/ggBAAAA4CpW5aRq2rRpkn6bqZo1a5bNUj83NzeFhYVp1qxZ1R8hAAAAAFzFqpxUZWZmSpLuvvtuLVu2rNIHAQMAAADA9aLKSVWZLVu21EQcAAAAAFArOZxUlZSUaN68edq8ebOys7NVWlpqU//5559XW3AAAAAAcLVzOKl67rnnNG/ePMXGxqpFixYymUw1ERcAAAAA1AoOJ1WLFi3SP//5T8XExNREPAAAAABQqzj8nCo3NzdFRETURCwAAAAAUOs4nFT95S9/0bvvvlvhQ4ABAAAA4Hri8PK/7du3a8uWLVq3bp2aN28uV1dXm/ply5ZVW3AAAAAAcLVzOKmqW7euevfuXROxAAAAAECt43BSlZiYWBNxAAAAAECt5PA9VZJ0/vx5ffbZZ5o9e7Z+/vlnSVJWVpZ++eWXag0OAAAAAK52Ds9U/fe//1WPHj10+PBhFRUVqXv37vLx8dFbb72loqIizZo1qybiBAAAAICrksMzVc8995xuv/12nTlzRp6entby3r17a/PmzdUaHAAAAABc7RyeqUpNTVVaWprc3NxsysPCwnT06NFqCwwAAAAAagOHZ6pKS0tVUlJiV37kyBH5+PhUS1AAAAAAUFs4nFTde++9mj59uvW1yWTSL7/8orFjxyomJqY6YwMAAACAq57JMAzDkROOHDmi6OhoGYah77//Xrfffru+//57BQQEaNu2bQoMDKypWGtcXl6e/Pz8lJubK19f3ysdDgAAAIArxJHcwOGkSvptS/VFixZp3759+uWXX9S6dWv179/fZuOK2oikCgAAAIDkWG7g8EYVkmSxWDRgwIBLCg4AAAAAriWXlFR9//332rJli7Kzs1VaWmpT99prr1VLYAAAAABQGzicVH300UcaOnSoAgICFBwcLJPJZK0zmUwkVQAAAACuKw4nVa+//rreeOMNjRo1qibiAQAAAIBaxeEt1c+cOaM+ffrURCwAAAAAUOs4nFT16dNHGzdurIlYAAAAAKDWcXj5X0REhF599VXt3LlTt956q1xdXW3qn3322WoLDgAAAACudg4/pyo8PLzizkwm/fjjj04HdaXwnCoAAAAAUg0/pyozM/OSAwMAAACAa43D91RdyDAMOTjRBQAAAADXlEtKqv7xj3/o1ltvlaenpzw9PdWyZUt9/PHH1R2bjUmTJqlt27by8fFRYGCgHnzwQR04cMCmTZcuXWQymWyOIUOG1GhcAAAAAK5vDi//e+edd/Tqq6/qmWee0V133SVJ2r59u4YMGaJTp05p5MiR1R6kJG3dulXDhg1T27Ztdf78eY0ePVr33nuv/v3vf8vLy8vabtCgQZowYYL1dZ06dWokHgAAAACQLiGpeu+99/TBBx/oiSeesJY98MADat68ucaNG1djSdX69ettXs+bN0+BgYH66quv1LlzZ2t5nTp1FBwcXKU+i4qKVFRUZH2dl5dXPcECAAAAuG44vPzv2LFj6tChg115hw4ddOzYsWoJqipyc3MlSTfccINN+fz58xUQEKAWLVro5ZdfVkFBQYV9TJo0SX5+ftYjJCSkRmMGAAAAcO1xOKmKiIjQP//5T7vyxYsX6+abb66WoC6mtLRUI0aM0F133aUWLVpYy/v166fk5GRt2bJFL7/8sj7++GMNGDCgwn5efvll5ebmWo+ffvrpcoQPAAAA4Bri8PK/8ePH69FHH9W2bdus91R98cUX2rx5c7nJVk0YNmyYvvnmG23fvt2mfPDgwdavb731VjVo0ED33HOPDh48qJtuusmuH3d3d7m7u9d4vAAAAACuXQ7PVMXFxWnXrl0KCAjQihUrtGLFCgUEBOjLL79U7969ayJGG88884zWrFmjLVu26MYbb6y0bbt27SRJP/zwQ43HBQAAAOD65PBMlSS1adNGycnJ1R1LpQzD0PDhw7V8+XKlpKQoPDz8ouekp6dLkho0aFDD0QEAAAC4Xl1SUlVSUqLly5fr22+/lSQ1a9ZMvXr1ksVySd1VybBhw7RgwQKtXLlSPj4+On78uCTJz89Pnp6eOnjwoBYsWKCYmBj5+/tr3759GjlypDp37qyWLVvWWFwAAAAArm8mwzAMR07IyMjQAw88oOPHj6tp06aSpO+++07169fX6tWrbTaOqNZATaZyyxMTExUfH6+ffvpJAwYM0DfffKP8/HyFhISod+/eGjNmjHx9fas0Rl5envz8/JSbm1vlcwAAAABcexzJDRxOqtq3b6/69esrKSlJ9erVkySdOXNG8fHxOnnypNLS0i498iuMpAoAAACA5Fhu4PB6vfT0dO3evduaUElSvXr19MYbb6ht27aORwsAAAAAtZjDu//dcsstOnHihF15dna2IiIiqiUoAAAAAKgtHE6qJk2apGeffVaffPKJjhw5oiNHjuiTTz7RiBEj9NZbbykvL896AAAAAMC1zuF7qlxc/peHlW0eUdbFha9NJpNKSkqqK87LgnuqAAAAAEg1fE/Vli1bLjkwAAAAALjWOJxURUVF1UQcAAAAAFArXdLTegsLC7Vv3z5lZ2ertLTUpu6BBx6olsAAAAAAoDZwOKlav369nnjiCZ06dcqurjbeRwUAAAAAznB497/hw4erT58+OnbsmEpLS20OEioAAAAA1xuHk6oTJ07o+eefV1BQUE3EAwAAAAC1isNJ1cMPP6yUlJQaCAUAAAAAah+Hn1NVUFCgPn36qH79+rr11lvl6upqU//ss89Wa4CXE8+pAgAAACDV8HOqFi5cqI0bN8rDw0MpKSnWB/5Kv21UUZuTKgAAAABwlMNJ1SuvvKLx48frpZdekouLw6sHAQAAAOCa4nBWVFxcrEcffZSECgAAAAB0CUnVk08+qcWLF9dELAAAAABQ6zi8/K+kpERTpkzRhg0b1LJlS7uNKt55551qCw4AAAAArnYOJ1X79+/XbbfdJkn65ptvbOou3LQCAAAAAK4HDidVW7ZsqYk4AAAAAKBWcmq3iSNHjujIkSPVFQsAAAAA1DoOJ1WlpaWaMGGC/Pz8FBoaqtDQUNWtW1cTJ05UaWlpTcQIAAAAAFetS3pOVUJCgiZPnqy77rpLkrR9+3aNGzdOhYWFeuONN6o9SAAAAAC4WpkMwzAcOaFhw4aaNWuWHnjgAZvylStX6s9//rOOHj1arQFeTnl5efLz81Nubq58fX2vdDgAAAAArhBHcgOHl/+dPn1akZGRduWRkZE6ffq0o90BAAAAQK3mcFLVqlUrzZgxw658xowZatWqVbUEBQAAAAC1hcP3VE2ZMkWxsbH67LPP1L59e0nSjh079NNPP2nt2rXVHiAAAAAAXM0cnqmKiorSd999p969e+vs2bM6e/asHnroIR04cECdOnWqiRgBAAAA4Krl8EYV1zI2qgAAAAAg1dBGFd9//70ee+wx5eXl2dXl5uaqX79++vHHHx2PFgAAAABqsSonVX/7298UEhJSbpbm5+enkJAQ/e1vf6vW4AAAAADgalflpGrr1q3q06dPhfWPPPKIPv/882oJCgAAAABqiyonVYcPH1ZgYGCF9QEBAfrpp5+qJSgAAAAAqC2qnFT5+fnp4MGDFdb/8MMPbO4AAAAA4LpT5aSqc+fOeu+99yqs//vf/86W6gAAAACuO1VOql5++WWtW7dODz/8sL788kvl5uYqNzdXu3btUlxcnDZs2KCXX365JmMFAAAAgKuOpaoNb7vtNn3yyScaOHCgli9fblPn7++vf/7zn2rdunW1BwgAAAAAV7MqJ1WSdP/99+u///2v1q9frx9++EGGYeiWW27Rvffeqzp16tRUjAAAAABw1XIoqZIkT09P9e7duyZiAQAAAIBap8r3VAEAAAAA7JFUAQAAAIATSKoAAAAAwAkkVQAAAADghCptVJGXl1flDn19fS85GAAAAACobaqUVNWtW1cmk6nSNoZhyGQyqaSkpFoCAwAAAIDaoEpJ1ZYtW2o6DgAAAAColaqUVEVFRdV0HAAAAABQKzn88N8yBQUFOnz4sIqLi23KW7Zs6XRQAAAAAFBbOJxUnTx5Uk899ZTWrVtXbj33VAEAAAC4nji8pfqIESN09uxZ7dq1S56enlq/fr2SkpJ08803a9WqVTURIwAAAABctRyeqfr888+1cuVK3X777XJxcVFoaKi6d+8uX19fTZo0SbGxsTURJwAAAABclRyeqcrPz1dgYKAkqV69ejp58qQk6dZbb9XXX39dvdEBAAAAwFXO4aSqadOmOnDggCSpVatWmj17to4ePapZs2apQYMG1R4gAAAAAFzNHF7+99xzz+nYsWOSpLFjx6pHjx6aP3++3NzcNG/evOqODwAAAACuaibDMAxnOigoKNB//vMfNW7cWAEBAdUV1xWRl5cnPz8/5ebmytfX90qHAwAAAOAKcSQ3uOTnVEmSYRjy9PRU69atnekGAAAAAGoth++pkqSEhAS1aNFCHh4e8vDwUIsWLTRnzpzqjg0AAAAArnoOz1S99tpreueddzR8+HC1b99ekrRjxw6NHDlShw8f1oQJE6o9SAAAAAC4Wjl8T1X9+vX197//XY899phN+cKFCzV8+HCdOnWqWgO8nLinCgAAAIDkWG7g8PK/c+fO6fbbb7crb9Omjc6fP+9odwAAAABQqzmcVD3++OP64IMP7Mo//PBD9e/fv1qCAgAAAIDa4pJ2/0tISNDGjRt15513SpJ27dqlw4cP64knntDzzz9vbffOO+9UT5QAAAAAcJVyOKn65ptvrFuoHzx4UJIUEBCggIAAffPNN9Z2JpOpmkIEAAAAgKuXw0nVli1baiIOAAAAAKiVLuk5VVe7mTNnKiwsTB4eHmrXrp2+/PLLKx0SAAAAgGtUlWaqHnroIc2bN0++vr566KGHKm27bNmyagnsUi1evFjPP/+8Zs2apXbt2mn69OmKjo7WgQMHFBgYeEVjAwAAAHDtqdJMlZ+fn/UeKT8/v0qPK+2dd97RoEGD9NRTT6lZs2aaNWuW6tSpo7lz517p0AAAAABcgxx++O/VrLi4WHXq1NEnn3yiBx980Fr+5JNP6uzZs1q5cqVN+6KiIhUVFVlf5+XlKSQkhIf/AgAAANe5Gn34b2Zmpr7//nu78u+//16HDh1ytLtqderUKZWUlCgoKMimPCgoSMePH7drP2nSJJtZtpCQkMsVKgAAAIBrhMNJVXx8vNLS0uzKd+3apfj4+OqI6bJ5+eWXlZubaz1++umnKx0SAAAAgFrG4aRqz549uuuuu+zK77zzTqWnp1dHTJcsICBAZrNZJ06csCk/ceKEgoOD7dq7u7vL19fX5gAAAAAARzicVJlMJv3888925bm5uSopKamWoC6Vm5ub2rRpo82bN1vLSktLtXnzZrVv3/4KRgYAAADgWuVwUtW5c2dNmjTJJoEqKSnRpEmT1LFjx2oN7lI8//zz+uijj5SUlKRvv/1WQ4cOVX5+vp566qkrHRoAAACAa1CVnlN1obfeekudO3dW06ZN1alTJ0lSamqq8vLy9Pnnn1d7gI569NFHdfLkSb322ms6fvy4/vjHP2r9+vV2m1cAAAAAQHW4pC3Vs7KyNGPGDO3du1eenp5q2bKlnnnmGd1www01EeNl48i2iQAAAACuXY7kBtfUc6qcRVIFAAAAQHIsN3B4+Z8knT17Vl9++aWys7NVWlpqU/fEE09cSpcAAAAAUCs5nFStXr1a/fv31y+//CJfX1+ZTCZrnclkIqkCAAAAcF1xePe/v/zlLxo4cKB++eUXnT17VmfOnLEep0+frokYAQAAAOCq5XBSdfToUT377LOqU6dOTcQDAAAAALWKw0lVdHS0du/eXROxAKhGJSWl+vrrH7Vx0159/fWPKikpvfhJAAAAcJjD91TFxsbqhRde0L///W/deuutcnV1tal/4IEHqi04AJcmZes3mj59jbJP5lnLAuv7asSI+9UlqsUVjAwAAODa4/CW6i4uFU9umUwmlZSUOB3UlcKW6rgWpGz9RqNfWVBh/Ztv9COxAgAAuAhHcgOHl/+VlpZWeNTmhAq4FpSUlGr69DWVtpn+7qcsBQQAAKhGDidVAK5ee/ceslnyV57s7Fzt3Xvo8gQEAABwHajSPVV///vfNXjwYHl4eOjvf/97pW2fffbZagkMgONO5fxcre0AAABwcVVKqqZNm6b+/fvLw8ND06ZNq7CdyWQiqQKuoAB/n2ptBwAAgIurUlKVmZlZ7tcAri6tWoUpsL5vpUsAAwP91KpV2OULCgAA4Brn0D1V586d00033aRvv/22puIB4ASz2UUjRtxfaZsRz8XKbOZ2SgAAgOri0F9Wrq6uKiwsrKlYAFSDLlEt9OYb/RRY33brz8BAP7ZTBwAAqAEOP6fqzTff1Hfffac5c+bIYnH42cFXNZ5ThWtJSUmp9u49pFM5PyvA30etWoUxQwUAAFBFjuQGDmdF//rXv7R582Zt3LhRt956q7y8vGzqly1b5miXAGqA2eyi1q2bXOkwAAAArnkOJ1V169ZVXFxcTcQCAAAAALWOw0lVYmJiTcQBAAAAALVSlW+wKC0t1VtvvaW77rpLbdu21UsvvaRff/21JmMDAAAAgKtelZOqN954Q6NHj5a3t7caNWqkd999V8OGDavJ2AAAAADgqlflpOof//iH3n//fW3YsEErVqzQ6tWrNX/+fJWWltZkfAAAAABwVatyUnX48GHFxMRYX3fr1k0mk0lZWVk1EhgAAAAA1AZVTqrOnz8vDw8PmzJXV1edO3eu2oMCAAAAgNqiyrv/GYah+Ph4ubu7W8sKCws1ZMgQm2dV8ZwqAAAAANeTKidVTz75pF3ZgAEDqjUYAAAAAKhtqpxU8XwqAAAAALBX5XuqAAAAAAD2SKoAAAAAwAkkVQAAAADgBJIqAAAAAHACSRUAAAAAOIGkCgAAAACcQFIFAAAAAE4gqQIAAAAAJ5BUAQAAAIATSKoAAAAAwAkkVQAAAADgBJIqAAAAAHACSRUAAAAAOIGkCgAAAACcQFIFAAAAAE4gqQIAAAAAJ5BUAQAAAIATSKoAAAAAwAkkVQAAAADgBJIqAAAAAHACSRUAAAAAOIGkCgAAAACcQFIFAAAAAE4gqQIAAAAAJ5BUAQAAAIATSKoAAAAAwAkkVQAAAADgBJIqAAAAAHACSRUAAAAAOIGkCgAAAACcQFIFAAAAAE4gqQIAAAAAJ5BUAQAAAIATSKoAAAAAwAkkVQAAAADgBJIqAAAAAHACSRUAAAAAOKFWJFWHDh3S008/rfDwcHl6euqmm27S2LFjVVxcbNPGZDLZHTt37ryCkQMAAAC41lmudABV8Z///EelpaWaPXu2IiIi9M0332jQoEHKz8/X1KlTbdp+9tlnat68ufW1v7//5Q4XAAAAwHWkViRVPXr0UI8ePayvmzRpogMHDuiDDz6wS6r8/f0VHBx8uUMEAAAAcJ2qFcv/ypObm6sbbrjBrvyBBx5QYGCgOnbsqFWrVlXaR1FRkfLy8mwOAAAAAHBErUyqfvjhB7333nv6v//7P2uZt7e33n77bS1ZskSffvqpOnbsqAcffLDSxGrSpEny8/OzHiEhIZcjfAAAAADXEJNhGMaVGvyll17SW2+9VWmbb7/9VpGRkdbXR48eVVRUlLp06aI5c+ZUeu4TTzyhzMxMpaamlltfVFSkoqIi6+u8vDyFhIQoNzdXvr6+DrwTAAAAANeSvLw8+fn5VSk3uKL3VP3lL39RfHx8pW2aNGli/TorK0t33323OnTooA8//PCi/bdr106bNm2qsN7d3V3u7u5VjhcAAAAAfu+KJlX169dX/fr1q9T26NGjuvvuu9WmTRslJibKxeXiKxfT09PVoEEDZ8MEAAAAgArVit3/jh49qi5duig0NFRTp07VyZMnrXVlO/0lJSXJzc1Nt912myRp2bJlmjt37kWXCAIAAACAM2pFUrVp0yb98MMP+uGHH3TjjTfa1F14S9jEiRP13//+VxaLRZGRkVq8eLEefvjhyx0uAAAAgOvIFd2o4mrjyM1oAAAAAK5djuQGtXJLdQAAAAC4WpBUAQAAAIATSKoAAAAAwAkkVQAAAADgBJIqAAAAAHACSRUAAAAAOIGkCgAAAACcQFIFAAAAAE4gqQIAAAAAJ5BUAQAAAIATSKoAAAAAwAkkVQAAAADgBJIqAAAAAHACSRUAAAAAOIGkCgAAAACcQFIFAAAAAE4gqQIAAAAAJ5BUAQAAAIATSKoAAAAAwAkkVQAAAADgBJIqAAAAAHACSRUAAAAAOIGkCgAAAACcQFIFAAAAAE4gqQIAAAAAJ5BUAQAAAIATSKoAAAAAwAkkVQAAAADgBJIqAAAAAHACSRUAAAAAOIGkCgAAAACcQFIFAAAAAE4gqQIAAAAAJ1iudAAAAAC4ehilhgpPFKjk1/Mye1rkEVRHJhfTlQ4LuKqRVAEAAECSlH8oTzm7Tqik4Ly1zFzHIv92QfIK872CkQFXN5b/AQAAQPmH8pS95ahNQiVJJQXnlb3lqPIP5V2hyICrH0kVAADAdc4oNZSz60SlbXK+PCGj1LhMEQG1C0kVAADAda7wRIHdDNXvleSfV+GJgssUEVC7kFQBAABc50p+rTyhcrQdcL0hqQIAALjOmT2rtndZVdsB1xuSKgAAgOucR1AdmetUnjCZvX7bXh2APZIqAACA65zJxST/dkGVtvG/I4jnVQEVIKkCAACAvMJ8FXh3I7sZK7OXRYF3N+I5VUAlWBgLAAAASb8lVnUa+/y2G+Cv52X2/G3JHzNUQOVIqgAAAGBlcjHJs4HXlQ4DqFVY/gcAAAAATiCpAgAAAAAnkFQBAAAAgBNIqgAAAADACSRVAAAAAOAEkioAAAAAcAJJFQAAAAA4gaQKAAAAAJxAUgUAAAAATiCpAgAAAAAnkFQBAAAAgBNIqgAAAADACSRVAAAAAOAEkioAAAAAcAJJFQAAAAA4gaQKAAAAAJxAUgUAAAAATiCpAgAAAAAnkFQBAAAAgBNqTVIVFhYmk8lkc0yePNmmzb59+9SpUyd5eHgoJCREU6ZMuULRAgAAALheWK50AI6YMGGCBg0aZH3t4+Nj/TovL0/33nuvunXrplmzZmn//v0aOHCg6tatq8GDB1+JcAEAAABcB2pVUuXj46Pg4OBy6+bPn6/i4mLNnTtXbm5uat68udLT0/XOO++QVAEAAACoMbVm+Z8kTZ48Wf7+/rrtttv0t7/9TefPn7fW7dixQ507d5abm5u1LDo6WgcOHNCZM2fK7a+oqEh5eXk2BwAAAAA4otbMVD377LNq3bq1brjhBqWlpenll1/WsWPH9M4770iSjh8/rvDwcJtzgoKCrHX16tWz63PSpEkaP358zQcPAAAA4Jp1RWeqXnrpJbvNJ35//Oc//5EkPf/88+rSpYtatmypIUOG6O2339Z7772noqKiSx7/5ZdfVm5urvX46aefquutAQAAALhOXNGZqr/85S+Kj4+vtE2TJk3KLW/Xrp3Onz+vQ4cOqWnTpgoODtaJEyds2pS9rug+LHd3d7m7uzseOAAAAAD8f1c0qapfv77q169/Seemp6fLxcVFgYGBkqT27dvrlVde0blz5+Tq6ipJ2rRpk5o2bVru0j8AAAAAqA61YqOKHTt2aPr06dq7d69+/PFHzZ8/XyNHjtSAAQOsCVO/fv3k5uamp59+WhkZGVq8eLHeffddPf/881c4egAAAADXslqxUYW7u7sWLVqkcePGqaioSOHh4Ro5cqRNwuTn56eNGzdq2LBhatOmjQICAvTaa6+xnToAAABQCxilhgpPFKjk1/Mye1rkEVRHJhfTlQ6rSkyGYRhXOoirRV5envz8/JSbmytfX98rHQ4AAABwXcg/lKecXSdUUvC/Ryb9v/buPSzKOv//+GtAGDmrHD0Bmopmnl0R09TVBHNLq1Uz11Nm5alMs8zNNN3KPGSta1pZ6lV9M722LdMOayhpiodMTA1NTTQN9Cdq4AkFPr8/ury3CUXoRgbh+biuuS7mvj9zz/ueNzPDi/sz93j6VlJwbLj8ot3zd3lxssENMf0PAAAAQPl0Ni1Lx9cedQlUkpR3LlfH1x7V2bSy/12yhCoAAAAAbmHyjTI3Hyt0TOaWYzL5ZXtyHaEKAAAAgFtcOHauwBGq38s7m6sLx86VUkV/DKEKAAAAgFvknS88UBV3nLsQqgAAAAC4hadP0U5GXtRx7kKoAgAAAOAWlcN95elbeGDy9Pv19OplGaEKAAAAgFs4PBwKjg0vdExwm/Ay/31VhCoAAAAAbuMXHaiwzjULHLHy9KuksM413fY9VcVRticnAgAAACj3/KID5RsZ8OvZAM/nytPn1yl/Zf0I1WWEKgAAAABu5/BwyKe6n7vL+EOY/gcAAAAANhCqAAAAAMAGQhUAAAAA2ECoAgAAAAAbCFUAAAAAYAOhCgAAAABsIFQBAAAAgA2EKgAAAACwgVAFAAAAADYQqgAAAADABkIVAAAAANhAqAIAAAAAGwhVAAAAAGADoQoAAAAAbCBUAQAAAIANhCoAAAAAsIFQBQAAAAA2EKoAAAAAwAZCFQAAAADYQKgCAAAAABsIVQAAAABgA6EKAAAAAGwgVAEAAACADYQqAAAAALCBUAUAAAAANhCqAAAAAMAGQhUAAAAA2ECoAgAAAAAbCFUAAAAAYAOhCgAAAABsIFQBAAAAgA2EKgAAAACwgVAFAAAAADYQqgAAAADABkIVAAAAANhAqAIAAAAAGwhVAAAAAGADoQoAAAAAbCBUAQAAAIANhCoAAAAAsIFQBQAAAAA2EKoAAAAAwIZK7i4AAADgRmXyjS4cO6e887ny9KmkyuG+cng43F0WgFJGqAIAAPgDzqZlKXPzMeWdy7WWefpWUnBsuPyiA91YGYDSxvQ/AACAYjqblqXja4+6BCpJyjuXq+Nrj+psWpabKgPgDoQqAACAYjD5RpmbjxU6JnPLMZl8U0oVAXA3QhUAAEAxXDh2rsARqt/LO5urC8fOlVJFANyNUAUAAFAMeecLD1TFHQfgxkeoAgAAKAZPn6Kd56uo4wDc+AhVAAAAxVA53FeevoUHJk+/X0+vDqBiIFQBAAAUg8PDoeDY8ELHBLcJ5/uqgAqEUAUAAFBMftGBCutcs8ARK0+/SgrrXJPvqQIqGCb7AgAA/AF+0YHyjQz49WyA53Pl6fPrlD+OUAEVD6EKAADgD3J4OORT3c/dZQBwsxti+l9SUpIcDscVL1u3bpUkpaWlXXH9pk2b3Fw9AAAAgPLshjhS1a5dO6Wnp7ssmzRpkhITE9W6dWuX5V9++aUaN25sXQ8ODi6VGgEAAABUTDdEqPL29lZERIR1/dKlS/r44481evRoORyu85aDg4NdxgIAAADA9XRDTP/7vRUrVigzM1NDhgwpsO6uu+5SWFiY2rdvrxUrVhS6nZycHGVlZblcAAAAAKA4bshQ9dZbbyk+Pl61atWylvn7+2v27Nlavny5Vq1apfbt26tXr16FBqsXX3xRQUFB1qV27dqlUT4AAACAcsRhjDHuuvMJEybopZdeKnRMamqqGjZsaF0/cuSIoqKitGzZMt17772F3nbgwIE6ePCg1q9ff8X1OTk5ysnJsa5nZWWpdu3a+uWXXxQYyPdLAAAAABVVVlaWgoKCipQN3PqZqnHjxmnw4MGFjqlbt67L9UWLFik4OFh33XXXNbcfGxur1atXX3W90+mU0+ksUq0AAAAAcCVuDVWhoaEKDQ0t8nhjjBYtWqSBAwfKy8vrmuNTUlJUvXp1OyUCAAAAQKFuiLP/XbZmzRodPHhQDz74YIF1S5Yskbe3t1q0aCFJ+vDDD/X2229r4cKFpV1micjLy9eOHWk6kZmtkOAANWsWLU/PG/IjcAAAAEC5dkOFqrfeekvt2rVz+YzVb02bNk2HDh1SpUqV1LBhQ33wwQf661//WspV2pf01S698spKHf9//zsbYVhooMaM+Ys6dbzFjZUBAAAA+D23nqiirCnOh9Gul6Svdmni3//vqutfeP5+ghUAAABwnRUnGzCfrAzJy8vXK6+sLHTMK6+uUl5efilVBAAAAOBaCFVlyI4daS5T/q7k+PFftGNHWukUBAAAAOCaCFVlyInM7BIdBwAAAOD6I1SVISHBASU6DgAAAMD1R6gqQ5o1i1ZYaOEfggsLC1KzZtGlUxAAAACAayJUlSGenh4aM+YvhY4Z81gPvq8KAAAAKEP467yM6dTxFr3w/P0FjliFhQVxOnUAAACgDLqhvvy3oujU8RZ1aH+zduxI04nMbIUEB6hZs2iOUAEAAABlEKGqjPL09FDLlnXdXQYAAACAa+DQBwAAAADYQKgCAAAAABsIVQAAAABgA6EKAAAAAGwgVAEAAACADYQqAAAAALCBUAUAAAAANhCqAAAAAMAGQhUAAAAA2ECoAgAAAAAbCFUAAAAAYAOhCgAAAABsIFQBAAAAgA2EKgAAAACwgVAFAAAAADYQqgAAAADABkIVAAAAANhAqAIAAAAAGwhVAAAAAGADoQoAAAAAbKjk7gLKEmOMJCkrK8vNlQAAAABwp8uZ4HJGKAyh6jeys7MlSbVr13ZzJQAAAADKguzsbAUFBRU6xmGKEr0qiPz8fP38888KCAiQw+EotfvNyspS7dq19dNPPykwMLDU7hdXRj/KFvpR9tCTsoV+lC30o+yhJ2XLjdQPY4yys7NVo0YNeXgU/qkpjlT9hoeHh2rVquW2+w8MDCzzv1wVCf0oW+hH2UNPyhb6UbbQj7KHnpQtN0o/rnWE6jJOVAEAAAAANhCqAAAAAMAGQlUZ4HQ6NXnyZDmdTneXAtGPsoZ+lD30pGyhH2UL/Sh76EnZUl77wYkqAAAAAMAGjlQBAAAAgA2EKgAAAACwgVAFAAAAADYQqgAAAADABkJVKUlLS9PQoUNVp04d+fj46KabbtLkyZN18eJFl3HfffedOnTooMqVK6t27dqaMWNGgW0tX75cDRs2VOXKldWkSRN9+umnpbUb5c7zzz+vdu3aydfXV1WqVLniGIfDUeCydOlSlzFJSUlq2bKlnE6n6tWrp8WLF1//4suhovTj8OHD6tGjh3x9fRUWFqbx48crNzfXZQz9uH6io6MLPB+mT5/uMqYor2MoOfPmzVN0dLQqV66s2NhYbdmyxd0lVQhTpkwp8Fxo2LChtf7ChQsaOXKkgoOD5e/vr3vvvVfHjh1zY8Xly7p163TnnXeqRo0acjgc+uijj1zWG2P07LPPqnr16vLx8VHXrl21b98+lzEnT55U//79FRgYqCpVqmjo0KE6c+ZMKe5F+XGtfgwePLjA8yUhIcFlzI3eD0JVKdmzZ4/y8/P1+uuva/fu3ZozZ44WLFigiRMnWmOysrLUrVs3RUVFadu2bZo5c6amTJmiN954wxqzceNG9evXT0OHDtX27dvVq1cv9erVS7t27XLHbt3wLl68qN69e2v48OGFjlu0aJHS09OtS69evax1Bw8eVI8ePdS5c2elpKRozJgxevDBB/XFF19c5+rLn2v1Iy8vTz169NDFixe1ceNGLVmyRIsXL9azzz5rjaEf19/UqVNdng+jR4+21hXldQwl54MPPtDYsWM1efJkffvtt2rWrJni4+N1/Phxd5dWITRu3NjlufD1119b6x5//HF98sknWr58ub766iv9/PPPuueee9xYbfly9uxZNWvWTPPmzbvi+hkzZuif//ynFixYoM2bN8vPz0/x8fG6cOGCNaZ///7avXu3Vq9erZUrV2rdunV66KGHSmsXypVr9UOSEhISXJ4v77//vsv6G74fBm4zY8YMU6dOHev6a6+9ZqpWrWpycnKsZU899ZSJiYmxrvfp08f06NHDZTuxsbHm4Ycfvv4Fl2OLFi0yQUFBV1wnyfznP/+56m2ffPJJ07hxY5dlffv2NfHx8SVYYcVytX58+umnxsPDw2RkZFjL5s+fbwIDA63nDf24vqKiosycOXOuur4or2MoOW3atDEjR460rufl5ZkaNWqYF1980Y1VVQyTJ082zZo1u+K606dPGy8vL7N8+XJrWWpqqpFkkpOTS6nCiuP379P5+fkmIiLCzJw501p2+vRp43Q6zfvvv2+MMeb77783kszWrVutMZ999plxOBzm6NGjpVZ7eXSlv5sGDRpkevbsedXblId+cKTKjX755RdVq1bNup6cnKzbbrtN3t7e1rL4+Hjt3btXp06dssZ07drVZTvx8fFKTk4unaIrqJEjRyokJERt2rTR22+/LfObr3ejJ6UnOTlZTZo0UXh4uLUsPj5eWVlZ2r17tzWGflxf06dPV3BwsFq0aKGZM2e6TL8syusYSsbFixe1bds2l993Dw8Pde3ald/3UrJv3z7VqFFDdevWVf/+/XX48GFJ0rZt23Tp0iWX3jRs2FCRkZH0phQcPHhQGRkZLo9/UFCQYmNjrcc/OTlZVapUUevWra0xXbt2lYeHhzZv3lzqNVcESUlJCgsLU0xMjIYPH67MzExrXXnoRyV3F1BR7d+/X3PnztWsWbOsZRkZGapTp47LuMt/PGZkZKhq1arKyMhw+YPy8piMjIzrX3QFNXXqVP35z3+Wr6+v/vvf/2rEiBE6c+aMHn30UUm6ak+ysrJ0/vx5+fj4uKPsculqj/XldYWNoR8l49FHH1XLli1VrVo1bdy4UU8//bTS09P18ssvSyra6xhKxokTJ5SXl3fF3/c9e/a4qaqKIzY2VosXL1ZMTIzS09P13HPPqUOHDtq1a5cyMjLk7e1d4LOhvF+XjsuPcWF/L2VkZCgsLMxlfaVKlVStWjV6dB0kJCTonnvuUZ06dXTgwAFNnDhR3bt3V3Jysjw9PctFPwhVNk2YMEEvvfRSoWNSU1NdPrx69OhRJSQkqHfv3ho2bNj1LrHC+SM9KcykSZOsn1u0aKGzZ89q5syZVqhC4Uq6Hyh5xenR2LFjrWVNmzaVt7e3Hn74Yb344otyOp3Xu1SgzOjevbv1c9OmTRUbG6uoqCgtW7aMf94Av3PfffdZPzdp0kRNmzbVTTfdpKSkJHXp0sWNlZUcQpVN48aN0+DBgwsdU7duXevnn3/+WZ07d1a7du0KfHA7IiKiwJmBLl+PiIgodMzl9Sh+T4orNjZW06ZNU05OjpxO51V7EhgYyBurSrYfERERBc5sVtTnCP24Ojs9io2NVW5urtLS0hQTE1Ok1zGUjJCQEHl6evKeUEZUqVJFDRo00P79+3X77bfr4sWLOn36tMvRKnpTOi4/xseOHVP16tWt5ceOHVPz5s2tMb8/oUtubq5OnjxJj0pB3bp1FRISov3796tLly7loh+EKptCQ0MVGhpapLFHjx5V586d1apVKy1atEgeHq4faYuLi9Pf//53Xbp0SV5eXpKk1atXKyYmxpoyExcXp8TERI0ZM8a63erVqxUXF1cyO1QOFKcnf0RKSoqqVq1q/Vc+Li6uwGnt6cn/lGQ/4uLi9Pzzz+v48ePWNIHVq1crMDBQN998szWGfhSPnR6lpKTIw8PD6kdRXsdQMry9vdWqVSslJiZaZyTNz89XYmKiRo0a5d7iKqAzZ87owIEDGjBggFq1aiUvLy8lJibq3nvvlSTt3btXhw8f5rWoFNSpU0cRERFKTEy0QlRWVpY2b95snV02Li5Op0+f1rZt29SqVStJ0po1a5Sfn6/Y2Fh3lV5hHDlyRJmZmVboLRf9cPeZMiqKI0eOmHr16pkuXbqYI0eOmPT0dOty2enTp014eLgZMGCA2bVrl1m6dKnx9fU1r7/+ujVmw4YNplKlSmbWrFkmNTXVTJ482Xh5eZmdO3e6Y7dueIcOHTLbt283zz33nPH39zfbt28327dvN9nZ2cYYY1asWGHefPNNs3PnTrNv3z7z2muvGV9fX/Pss89a2/jxxx+Nr6+vGT9+vElNTTXz5s0znp6e5vPPP3fXbt2wrtWP3Nxcc8stt5hu3bqZlJQU8/nnn5vQ0FDz9NNPW9ugH9fPxo0bzZw5c0xKSoo5cOCAeffdd01oaKgZOHCgNaYor2MoOUuXLjVOp9MsXrzYfP/99+ahhx4yVapUcTlDJq6PcePGmaSkJHPw4EGzYcMG07VrVxMSEmKOHz9ujDHmkUceMZGRkWbNmjXmm2++MXFxcSYuLs7NVZcf2dnZ1nuEJPPyyy+b7du3m0OHDhljjJk+fbqpUqWK+fjjj813331nevbsaerUqWPOnz9vbSMhIcG0aNHCbN682Xz99demfv36pl+/fu7apRtaYf3Izs42TzzxhElOTjYHDx40X375pWnZsqWpX7++uXDhgrWNG70fhKpSsmjRIiPpipff2rFjh2nfvr1xOp2mZs2aZvr06QW2tWzZMtOgQQPj7e1tGjdubFatWlVau1HuDBo06Io9Wbt2rTHm19N5Nm/e3Pj7+xs/Pz/TrFkzs2DBApOXl+eynbVr15rmzZsbb29vU7duXbNo0aLS35ly4Fr9MMaYtLQ00717d+Pj42NCQkLMuHHjzKVLl1y2Qz+uj23btpnY2FgTFBRkKleubBo1amReeOEFlzdFY4r2OoaSM3fuXBMZGWm8vb1NmzZtzKZNm9xdUoXQt29fU716dePt7W1q1qxp+vbta/bv32+tP3/+vBkxYoSpWrWq8fX1NXfffbfLP1Jhz9q1a6/4fjFo0CBjzK+nVZ80aZIJDw83TqfTdOnSxezdu9dlG5mZmaZfv37G39/fBAYGmiFDhlj/xEPxFNaPc+fOmW7dupnQ0FDj5eVloqKizLBhwwr88+dG74fDmN+cGxoAAAAAUCx8TxUAAAAA2ECoAgAAAAAbCFUAAAAAYAOhCgAAAABsIFQBAAAAgA2EKgAAAACwgVAFAAAAADYQqgAAAADABkIVAOCKoqOj9corr5TY9gYPHqxevXqV2PYkKSkpSQ6HQ6dPny7R7QIAUByEKgAo5wYPHiyHwyGHwyFvb2/Vq1dPU6dOVW5ubqG327p1qx566KESq+PVV1/V4sWLS2x7xbF9+3b17t1b4eHhqly5surXr69hw4bphx9+cEs9ZVVRg/Qbb7yhTp06KTAwkFALACJUAUCFkJCQoPT0dO3bt0/jxo3TlClTNHPmzCuOvXjxoiQpNDRUvr6+JVZDUFCQqlSpUmLbK6qVK1eqbdu2ysnJ0XvvvafU1FS9++67CgoK0qRJk0q9nvLg3LlzSkhI0MSJE91dCgCUCYQqAKgAnE6nIiIiFBUVpeHDh6tr165asWKFpP9Ny3v++edVo0YNxcTESCp41MLhcGjhwoW6++675evrq/r161vbuGz37t36y1/+osDAQAUEBKhDhw46cOCAy/1c1qlTJ40aNUqjRo1SUFCQQkJCNGnSJBljrDHvvPOOWrdurYCAAEVEROj+++/X8ePHi7zf586d05AhQ3THHXdoxYoV6tq1q+rUqaPY2FjNmjVLr7/+ujX2q6++Ups2beR0OlW9enVNmDDB5Whep06dNHr0aI0ZM0ZVq1ZVeHi43nzzTZ09e1ZDhgxRQECA6tWrp88++8y6zeXpiatWrVLTpk1VuXJltW3bVrt27XKp89///rcaN24sp9Op6OhozZ4922V9dHS0XnjhBT3wwAMKCAhQZGSk3njjDZcxP/30k/r06aMqVaqoWrVq6tmzp9LS0qz1lx//WbNmqXr16goODtbIkSN16dIla/8OHTqkxx9/3DqyeTVjxozRhAkT1LZt2yL3AgDKM0IVAFRAPj4+1hEpSUpMTNTevXu1evVqrVy58qq3e+6559SnTx999913uuOOO9S/f3+dPHlSknT06FHddtttcjqdWrNmjbZt26YHHnig0GmGS5YsUaVKlbRlyxa9+uqrevnll7Vw4UJr/aVLlzRt2jTt2LFDH330kdLS0jR48OAi7+cXX3yhEydO6Mknn7zi+stHzo4ePao77rhDf/rTn7Rjxw7Nnz9fb731lv7xj38UqDckJERbtmzR6NGjNXz4cPXu3Vvt2rXTt99+q27dumnAgAE6d+6cy+3Gjx+v2bNna+vWrQoNDdWdd95phZlt27apT58+uu+++7Rz505NmTJFkyZNKjBVcvbs2WrdurW2b9+uESNGaPjw4dq7d6/1OMXHxysgIEDr16/Xhg0b5O/vr4SEBJc+r127VgcOHNDatWu1ZMkSLV682LqfDz/8ULVq1dLUqVOVnp6u9PT0Ij/OAFDhGQBAuTZo0CDTs2dPY4wx+fn5ZvXq1cbpdJonnnjCWh8eHm5ycnJcbhcVFWXmzJljXZdknnnmGev6mTNnjCTz2WefGWOMefrpp02dOnXMxYsXr1mHMcZ07NjRNGrUyOTn51vLnnrqKdOoUaOr7svWrVuNJJOdnW2MMWbt2rVGkjl16tQVx7/00ktGkjl58uRVt2mMMRMnTjQxMTEutcybN8/4+/ubvLw8q9727dtb63Nzc42fn58ZMGCAtSw9Pd1IMsnJyS71LV261BqTmZlpfHx8zAcffGCMMeb+++83t99+u0s948ePNzfffLN1PSoqyvztb3+zrufn55uwsDAzf/58Y4wx77zzToH6c3JyjI+Pj/niiy+MMb8+/lFRUSY3N9ca07t3b9O3b1+X+/ltz6/lWo8/AFQUHKkCgApg5cqV8vf3V+XKldW9e3f17dtXU6ZMsdY3adJE3t7e19xO06ZNrZ/9/PwUGBhoTcdLSUlRhw4d5OXlVeS62rZt6zLNLC4uTvv27VNeXp6kX4/i3HnnnYqMjFRAQIA6duwoSTp8+HCRtm9+M5WwMKmpqYqLi3Op5dZbb9WZM2d05MgRa9lv99/T01PBwcFq0qSJtSw8PFySCkxRjIuLs36uVq2aYmJilJqaat33rbfe6jL+1ltvdXkcfn/fDodDERER1v3s2LFD+/fvV0BAgPz9/eXv769q1arpwoUL1vRLSWrcuLE8PT2t69WrVy/WdEoAwJVVcncBAIDrr3Pnzpo/f768vb1Vo0YNVark+vLv5+dXpO38PjA5HA7l5+dL+nVKYUk6e/as4uPjFR8fr/fee0+hoaE6fPiw4uPjXaa0FaZBgwaSpD179rgEmz/qSvv/22WXQ9nlx6QkFfbYnzlzRq1atdJ7771X4HahoaFF2gYA4I/jSBUAVAB+fn6qV6+eIiMjCwSqktK0aVOtX7/e+qxQUWzevNnl+qZNm1S/fn15enpqz549yszM1PTp09WhQwc1bNiw2EdVunXrppCQEM2YMeOK6y+fCrxRo0ZKTk52ObK1YcMGBQQEqFatWsW6zyvZtGmT9fOpU6f0ww8/qFGjRtZ9b9iwwWX8hg0b1KBBA5ejSoVp2bKl9u3bp7CwMNWrV8/lEhQUVOQ6vb29XY6OAQCKhlAFACgRo0aNUlZWlu677z5988032rdvn9555x3rZApXcvjwYY0dO1Z79+7V+++/r7lz5+qxxx6TJEVGRsrb21tz587Vjz/+qBUrVmjatGnFqsnPz08LFy7UqlWrdNddd+nLL79UWlqavvnmGz355JN65JFHJEkjRozQTz/9pNGjR2vPnj36+OOPNXnyZI0dO1YeHvbfKqdOnarExETt2rVLgwcPVkhIiHUmxHHjxikxMVHTpk3TDz/8oCVLluhf//qXnnjiiSJvv3///goJCVHPnj21fv16HTx4UElJSXr00Uddpi9eS3R0tNatW6ejR4/qxIkTVx2XkZGhlJQU7d+/X5K0c+dOpaSkWCctAYCKhlAFACgRwcHBWrNmjc6cOaOOHTuqVatWevPNNwv9jNXAgQN1/vx5tWnTRiNHjtRjjz1mfeFwaGioFi9erOXLl+vmm2/W9OnTNWvWrGLX1bNnT23cuFFeXl66//771bBhQ/Xr10+//PKLdXa/mjVr6tNPP9WWLVvUrFkzPfLIIxo6dKieeeaZP/Zg/M706dP12GOPqVWrVsrIyNAnn3xifYatZcuWWrZsmZYuXapbbrlFzz77rKZOnVqssxz6+vpq3bp1ioyM1D333KNGjRpp6NChunDhggIDA4u8nalTpyotLU033XSTy7TB31uwYIFatGihYcOGSZJuu+02tWjRosAp9gGgonCYon6KFwCAEtSpUyc1b97c5buwypukpCR17txZp06dcssXHwMASgdHqgAAAADABkIVAAAAANjA9D8AAAAAsIEjVQAAAABgA6EKAAAAAGwgVAEAAACADYQqAAAAALCBUAUAAAAANhCqAAAAAMAGQhUAAAAA2ECoAgAAAAAb/j9TBFQ3NXaC7wAAAABJRU5ErkJggg==",
=======
          "data": {
            "image/png": "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",
>>>>>>> f53a0788088396d9affc643579c3e13bd9989e7e
            "text/plain": [
              "<Figure size 1000x800 with 1 Axes>"
            ]
          },
          "metadata": {},
          "output_type": "display_data"
        }
      ],
      "source": [
        "import numpy as np\n",
        "import matplotlib.pyplot as plt\n",
        "from sklearn.decomposition import PCA\n",
        "import matplotlib.cm as cm\n",
        "\n",
        "# Your existing code for clustering and labeling segments...\n",
        "\n",
        "# Perform PCA to reduce the dimensionality of embeddings to 2D\n",
        "pca = PCA(n_components=2, random_state=42)\n",
        "embeddings_2d = pca.fit_transform(embeddings)\n",
        "\n",
        "# Get the number of unique speakers from the labels\n",
        "num_unique_speakers = len(np.unique(labels))\n",
        "\n",
        "# Create a colormap for speakers, ensuring each speaker gets a unique color\n",
        "colors = cm.tab20b(np.linspace(0, 1, num_unique_speakers))\n",
        "\n",
        "# Plot the clusters\n",
        "plt.figure(figsize=(10, 8))\n",
        "for i, segment in enumerate(segments):\n",
        "    speaker_id = labels[i] + 1\n",
        "    x, y = embeddings_2d[i]\n",
        "    color = colors[labels[i] % num_unique_speakers]  # Get the corresponding color for the speaker\n",
        "    plt.scatter(x, y, label=f'SPEAKER {speaker_id}', color=color)\n",
        "\n",
        "plt.title(\"Speaker Diarization Clusters (PCA Visualization)\")\n",
        "plt.xlabel(\"Principal Component 1\")\n",
        "plt.ylabel(\"Principal Component 2\")\n",
        "plt.legend()\n",
<<<<<<< HEAD
        "plt.show()"
=======
        "plt.show()\n"
>>>>>>> f53a0788088396d9affc643579c3e13bd9989e7e
      ]
    },
    {
      "cell_type": "code",
      "execution_count": 86,
      "metadata": {
        "colab": {
          "base_uri": "https://localhost:8080/",
          "height": 542
        },
        "id": "MHnzq_exMlG9",
        "outputId": "ffdfac71-395b-4ce0-9161-f91b96d1e97c"
      },
      "outputs": [
        {
          "ename": "ModuleNotFoundError",
          "evalue": "No module named 'plotly'",
          "output_type": "error",
          "traceback": [
            "\u001b[0;31m---------------------------------------------------------------------------\u001b[0m",
            "\u001b[0;31mModuleNotFoundError\u001b[0m                       Traceback (most recent call last)",
            "Cell \u001b[0;32mIn[86], line 2\u001b[0m\n\u001b[1;32m      1\u001b[0m \u001b[38;5;28;01mimport\u001b[39;00m \u001b[38;5;21;01mnumpy\u001b[39;00m \u001b[38;5;28;01mas\u001b[39;00m \u001b[38;5;21;01mnp\u001b[39;00m\n\u001b[0;32m----> 2\u001b[0m \u001b[38;5;28;01mimport\u001b[39;00m \u001b[38;5;21;01mplotly\u001b[39;00m\u001b[38;5;21;01m.\u001b[39;00m\u001b[38;5;21;01mgraph_objects\u001b[39;00m \u001b[38;5;28;01mas\u001b[39;00m \u001b[38;5;21;01mgo\u001b[39;00m\n\u001b[1;32m      3\u001b[0m \u001b[38;5;28;01mfrom\u001b[39;00m \u001b[38;5;21;01msklearn\u001b[39;00m\u001b[38;5;21;01m.\u001b[39;00m\u001b[38;5;21;01mdecomposition\u001b[39;00m \u001b[38;5;28;01mimport\u001b[39;00m PCA\n\u001b[1;32m      4\u001b[0m \u001b[38;5;28;01mimport\u001b[39;00m \u001b[38;5;21;01mmatplotlib\u001b[39;00m\u001b[38;5;21;01m.\u001b[39;00m\u001b[38;5;21;01mcm\u001b[39;00m \u001b[38;5;28;01mas\u001b[39;00m \u001b[38;5;21;01mcm\u001b[39;00m\n",
            "\u001b[0;31mModuleNotFoundError\u001b[0m: No module named 'plotly'"
          ]
        }
      ],
      "source": [
        "import numpy as np\n",
        "import plotly.graph_objects as go\n",
        "from sklearn.decomposition import PCA\n",
        "import matplotlib.cm as cm\n",
        "\n",
        "# Your existing code for clustering and labeling segments...\n",
        "\n",
        "# Perform PCA to reduce the dimensionality of embeddings to 3D\n",
        "pca = PCA(n_components=3, random_state=42)\n",
        "embeddings_3d = pca.fit_transform(embeddings)\n",
        "\n",
        "# Get the number of unique speakers from the labels\n",
        "num_unique_speakers = len(np.unique(labels))\n",
        "\n",
        "# Create a colormap for speakers, ensuring each speaker gets a unique color\n",
        "colors = cm.tab20b(np.linspace(0, 1, num_unique_speakers))\n",
        "\n",
        "# Prepare the data for the 3D scatter plot\n",
        "data = []\n",
        "for i, segment in enumerate(segments):\n",
        "    speaker_id = labels[i] + 1\n",
        "    x, y, z = embeddings_3d[i]\n",
        "    color = colors[labels[i] % num_unique_speakers]  # Get the corresponding color for the speaker\n",
        "    trace = go.Scatter3d(x=[x], y=[y], z=[z], mode='markers',\n",
        "                         marker=dict(size=5, color=color),\n",
        "                         name=f'SPEAKER {speaker_id}')\n",
        "    data.append(trace)\n",
        "\n",
        "# Layout for the 3D scatter plot\n",
        "layout = go.Layout(\n",
        "    title=\"Speaker Diarization Clusters (3D Visualization)\",\n",
        "    scene=dict(\n",
        "        xaxis_title=\"Principal Component 1\",\n",
        "        yaxis_title=\"Principal Component 2\",\n",
        "        zaxis_title=\"Principal Component 3\"\n",
        "    )\n",
        ")\n",
        "\n",
        "# Create the figure and plot the 3D scatter plot\n",
        "fig = go.Figure(data=data, layout=layout)\n",
        "fig.show()\n"
      ]
<<<<<<< HEAD
=======
    },
    {
      "cell_type": "code",
      "execution_count": null,
      "metadata": {
        "id": "9uWjmemUW5Zj"
      },
      "outputs": [],
      "source": []
>>>>>>> f53a0788088396d9affc643579c3e13bd9989e7e
    }
  ],
  "metadata": {
    "accelerator": "GPU",
    "colab": {
      "gpuType": "V100",
      "machine_shape": "hm",
      "provenance": []
    },
    "kernelspec": {
      "display_name": "Python 3",
      "name": "python3"
    },
    "language_info": {
      "codemirror_mode": {
        "name": "ipython",
        "version": 3
      },
      "file_extension": ".py",
      "mimetype": "text/x-python",
      "name": "python",
      "nbconvert_exporter": "python",
      "pygments_lexer": "ipython3",
      "version": "3.10.12"
    },
    "widgets": {
      "application/vnd.jupyter.widget-state+json": {
        "06ea8198faba45949ff0aff7484acc2f": {
          "model_module": "@jupyter-widgets/controls",
          "model_module_version": "1.5.0",
          "model_name": "DescriptionStyleModel",
          "state": {
            "_model_module": "@jupyter-widgets/controls",
            "_model_module_version": "1.5.0",
            "_model_name": "DescriptionStyleModel",
            "_view_count": null,
            "_view_module": "@jupyter-widgets/base",
            "_view_module_version": "1.2.0",
            "_view_name": "StyleView",
            "description_width": ""
          }
        },
        "105166bd7fe54e4e9abacfeebcb17be7": {
          "model_module": "@jupyter-widgets/base",
          "model_module_version": "1.2.0",
          "model_name": "LayoutModel",
          "state": {
            "_model_module": "@jupyter-widgets/base",
            "_model_module_version": "1.2.0",
            "_model_name": "LayoutModel",
            "_view_count": null,
            "_view_module": "@jupyter-widgets/base",
            "_view_module_version": "1.2.0",
            "_view_name": "LayoutView",
            "align_content": null,
            "align_items": null,
            "align_self": null,
            "border": null,
            "bottom": null,
            "display": null,
            "flex": null,
            "flex_flow": null,
            "grid_area": null,
            "grid_auto_columns": null,
            "grid_auto_flow": null,
            "grid_auto_rows": null,
            "grid_column": null,
            "grid_gap": null,
            "grid_row": null,
            "grid_template_areas": null,
            "grid_template_columns": null,
            "grid_template_rows": null,
            "height": null,
            "justify_content": null,
            "justify_items": null,
            "left": null,
            "margin": null,
            "max_height": null,
            "max_width": null,
            "min_height": null,
            "min_width": null,
            "object_fit": null,
            "object_position": null,
            "order": null,
            "overflow": null,
            "overflow_x": null,
            "overflow_y": null,
            "padding": null,
            "right": null,
            "top": null,
            "visibility": null,
            "width": null
          }
        },
        "253e22fc6dd1453bb11ba5138f36b7e1": {
          "model_module": "@jupyter-widgets/controls",
          "model_module_version": "1.5.0",
          "model_name": "DescriptionStyleModel",
          "state": {
            "_model_module": "@jupyter-widgets/controls",
            "_model_module_version": "1.5.0",
            "_model_name": "DescriptionStyleModel",
            "_view_count": null,
            "_view_module": "@jupyter-widgets/base",
            "_view_module_version": "1.2.0",
            "_view_name": "StyleView",
            "description_width": ""
          }
        },
        "271e63e09e7743b8a6f382b4e5acbc40": {
          "model_module": "@jupyter-widgets/controls",
          "model_module_version": "1.5.0",
          "model_name": "HTMLModel",
          "state": {
            "_dom_classes": [],
            "_model_module": "@jupyter-widgets/controls",
            "_model_module_version": "1.5.0",
            "_model_name": "HTMLModel",
            "_view_count": null,
            "_view_module": "@jupyter-widgets/controls",
            "_view_module_version": "1.5.0",
            "_view_name": "HTMLView",
            "description": "",
            "description_tooltip": null,
            "layout": "IPY_MODEL_28d3aa62320a4bf286884a4d1712fc54",
            "placeholder": "​",
            "style": "IPY_MODEL_a43cfe2da37340dfa0b55f62592a91d8",
            "value": "Downloading (…)ain/hyperparams.yaml: 100%"
          }
        },
        "28b351c089554f40942eb567211860bf": {
          "model_module": "@jupyter-widgets/controls",
          "model_module_version": "1.5.0",
          "model_name": "HTMLModel",
          "state": {
            "_dom_classes": [],
            "_model_module": "@jupyter-widgets/controls",
            "_model_module_version": "1.5.0",
            "_model_name": "HTMLModel",
            "_view_count": null,
            "_view_module": "@jupyter-widgets/controls",
            "_view_module_version": "1.5.0",
            "_view_name": "HTMLView",
            "description": "",
            "description_tooltip": null,
            "layout": "IPY_MODEL_4e533fa893714c8c80e7edf16c3cc618",
            "placeholder": "​",
            "style": "IPY_MODEL_aa0199cb9c39449a9d9038a628392c2a",
            "value": " 83.3M/83.3M [00:00&lt;00:00, 215MB/s]"
          }
        },
        "28d3aa62320a4bf286884a4d1712fc54": {
          "model_module": "@jupyter-widgets/base",
          "model_module_version": "1.2.0",
          "model_name": "LayoutModel",
          "state": {
            "_model_module": "@jupyter-widgets/base",
            "_model_module_version": "1.2.0",
            "_model_name": "LayoutModel",
            "_view_count": null,
            "_view_module": "@jupyter-widgets/base",
            "_view_module_version": "1.2.0",
            "_view_name": "LayoutView",
            "align_content": null,
            "align_items": null,
            "align_self": null,
            "border": null,
            "bottom": null,
            "display": null,
            "flex": null,
            "flex_flow": null,
            "grid_area": null,
            "grid_auto_columns": null,
            "grid_auto_flow": null,
            "grid_auto_rows": null,
            "grid_column": null,
            "grid_gap": null,
            "grid_row": null,
            "grid_template_areas": null,
            "grid_template_columns": null,
            "grid_template_rows": null,
            "height": null,
            "justify_content": null,
            "justify_items": null,
            "left": null,
            "margin": null,
            "max_height": null,
            "max_width": null,
            "min_height": null,
            "min_width": null,
            "object_fit": null,
            "object_position": null,
            "order": null,
            "overflow": null,
            "overflow_x": null,
            "overflow_y": null,
            "padding": null,
            "right": null,
            "top": null,
            "visibility": null,
            "width": null
          }
        },
        "2ce5976de1aa4d189e09c78348a0f25f": {
          "model_module": "@jupyter-widgets/base",
          "model_module_version": "1.2.0",
          "model_name": "LayoutModel",
          "state": {
            "_model_module": "@jupyter-widgets/base",
            "_model_module_version": "1.2.0",
            "_model_name": "LayoutModel",
            "_view_count": null,
            "_view_module": "@jupyter-widgets/base",
            "_view_module_version": "1.2.0",
            "_view_name": "LayoutView",
            "align_content": null,
            "align_items": null,
            "align_self": null,
            "border": null,
            "bottom": null,
            "display": null,
            "flex": null,
            "flex_flow": null,
            "grid_area": null,
            "grid_auto_columns": null,
            "grid_auto_flow": null,
            "grid_auto_rows": null,
            "grid_column": null,
            "grid_gap": null,
            "grid_row": null,
            "grid_template_areas": null,
            "grid_template_columns": null,
            "grid_template_rows": null,
            "height": null,
            "justify_content": null,
            "justify_items": null,
            "left": null,
            "margin": null,
            "max_height": null,
            "max_width": null,
            "min_height": null,
            "min_width": null,
            "object_fit": null,
            "object_position": null,
            "order": null,
            "overflow": null,
            "overflow_x": null,
            "overflow_y": null,
            "padding": null,
            "right": null,
            "top": null,
            "visibility": null,
            "width": null
          }
        },
        "2d2ab546b57141769d3b13f30a10287b": {
          "model_module": "@jupyter-widgets/controls",
          "model_module_version": "1.5.0",
          "model_name": "HTMLModel",
          "state": {
            "_dom_classes": [],
            "_model_module": "@jupyter-widgets/controls",
            "_model_module_version": "1.5.0",
            "_model_name": "HTMLModel",
            "_view_count": null,
            "_view_module": "@jupyter-widgets/controls",
            "_view_module_version": "1.5.0",
            "_view_name": "HTMLView",
            "description": "",
            "description_tooltip": null,
            "layout": "IPY_MODEL_3562842fec344497b966caba05af1e8b",
            "placeholder": "​",
            "style": "IPY_MODEL_6016ae447c92412d949550891304b020",
            "value": "Downloading classifier.ckpt: 100%"
          }
        },
        "3562842fec344497b966caba05af1e8b": {
          "model_module": "@jupyter-widgets/base",
          "model_module_version": "1.2.0",
          "model_name": "LayoutModel",
          "state": {
            "_model_module": "@jupyter-widgets/base",
            "_model_module_version": "1.2.0",
            "_model_name": "LayoutModel",
            "_view_count": null,
            "_view_module": "@jupyter-widgets/base",
            "_view_module_version": "1.2.0",
            "_view_name": "LayoutView",
            "align_content": null,
            "align_items": null,
            "align_self": null,
            "border": null,
            "bottom": null,
            "display": null,
            "flex": null,
            "flex_flow": null,
            "grid_area": null,
            "grid_auto_columns": null,
            "grid_auto_flow": null,
            "grid_auto_rows": null,
            "grid_column": null,
            "grid_gap": null,
            "grid_row": null,
            "grid_template_areas": null,
            "grid_template_columns": null,
            "grid_template_rows": null,
            "height": null,
            "justify_content": null,
            "justify_items": null,
            "left": null,
            "margin": null,
            "max_height": null,
            "max_width": null,
            "min_height": null,
            "min_width": null,
            "object_fit": null,
            "object_position": null,
            "order": null,
            "overflow": null,
            "overflow_x": null,
            "overflow_y": null,
            "padding": null,
            "right": null,
            "top": null,
            "visibility": null,
            "width": null
          }
        },
        "3b6b5c831b9843e792bbd3bb7d8438f5": {
          "model_module": "@jupyter-widgets/controls",
          "model_module_version": "1.5.0",
          "model_name": "HTMLModel",
          "state": {
            "_dom_classes": [],
            "_model_module": "@jupyter-widgets/controls",
            "_model_module_version": "1.5.0",
            "_model_name": "HTMLModel",
            "_view_count": null,
            "_view_module": "@jupyter-widgets/controls",
            "_view_module_version": "1.5.0",
            "_view_name": "HTMLView",
            "description": "",
            "description_tooltip": null,
            "layout": "IPY_MODEL_d1280f0c62ae43d28e2b6ec1b4d78cc8",
            "placeholder": "​",
            "style": "IPY_MODEL_a4f89c0b8a494a22ab8e47b6437e86d9",
            "value": "Downloading embedding_model.ckpt: 100%"
          }
        },
        "3bf5388c1c7e41ecb03ace96053d721f": {
          "model_module": "@jupyter-widgets/controls",
          "model_module_version": "1.5.0",
          "model_name": "ProgressStyleModel",
          "state": {
            "_model_module": "@jupyter-widgets/controls",
            "_model_module_version": "1.5.0",
            "_model_name": "ProgressStyleModel",
            "_view_count": null,
            "_view_module": "@jupyter-widgets/base",
            "_view_module_version": "1.2.0",
            "_view_name": "StyleView",
            "bar_color": null,
            "description_width": ""
          }
        },
        "3ff67e8de1fe4173b134a6521eaa8368": {
          "model_module": "@jupyter-widgets/base",
          "model_module_version": "1.2.0",
          "model_name": "LayoutModel",
          "state": {
            "_model_module": "@jupyter-widgets/base",
            "_model_module_version": "1.2.0",
            "_model_name": "LayoutModel",
            "_view_count": null,
            "_view_module": "@jupyter-widgets/base",
            "_view_module_version": "1.2.0",
            "_view_name": "LayoutView",
            "align_content": null,
            "align_items": null,
            "align_self": null,
            "border": null,
            "bottom": null,
            "display": null,
            "flex": null,
            "flex_flow": null,
            "grid_area": null,
            "grid_auto_columns": null,
            "grid_auto_flow": null,
            "grid_auto_rows": null,
            "grid_column": null,
            "grid_gap": null,
            "grid_row": null,
            "grid_template_areas": null,
            "grid_template_columns": null,
            "grid_template_rows": null,
            "height": null,
            "justify_content": null,
            "justify_items": null,
            "left": null,
            "margin": null,
            "max_height": null,
            "max_width": null,
            "min_height": null,
            "min_width": null,
            "object_fit": null,
            "object_position": null,
            "order": null,
            "overflow": null,
            "overflow_x": null,
            "overflow_y": null,
            "padding": null,
            "right": null,
            "top": null,
            "visibility": null,
            "width": null
          }
        },
        "44ba734e9dbc4d98a54fdc41f515eea6": {
          "model_module": "@jupyter-widgets/controls",
          "model_module_version": "1.5.0",
          "model_name": "ProgressStyleModel",
          "state": {
            "_model_module": "@jupyter-widgets/controls",
            "_model_module_version": "1.5.0",
            "_model_name": "ProgressStyleModel",
            "_view_count": null,
            "_view_module": "@jupyter-widgets/base",
            "_view_module_version": "1.2.0",
            "_view_name": "StyleView",
            "bar_color": null,
            "description_width": ""
          }
        },
        "4e533fa893714c8c80e7edf16c3cc618": {
          "model_module": "@jupyter-widgets/base",
          "model_module_version": "1.2.0",
          "model_name": "LayoutModel",
          "state": {
            "_model_module": "@jupyter-widgets/base",
            "_model_module_version": "1.2.0",
            "_model_name": "LayoutModel",
            "_view_count": null,
            "_view_module": "@jupyter-widgets/base",
            "_view_module_version": "1.2.0",
            "_view_name": "LayoutView",
            "align_content": null,
            "align_items": null,
            "align_self": null,
            "border": null,
            "bottom": null,
            "display": null,
            "flex": null,
            "flex_flow": null,
            "grid_area": null,
            "grid_auto_columns": null,
            "grid_auto_flow": null,
            "grid_auto_rows": null,
            "grid_column": null,
            "grid_gap": null,
            "grid_row": null,
            "grid_template_areas": null,
            "grid_template_columns": null,
            "grid_template_rows": null,
            "height": null,
            "justify_content": null,
            "justify_items": null,
            "left": null,
            "margin": null,
            "max_height": null,
            "max_width": null,
            "min_height": null,
            "min_width": null,
            "object_fit": null,
            "object_position": null,
            "order": null,
            "overflow": null,
            "overflow_x": null,
            "overflow_y": null,
            "padding": null,
            "right": null,
            "top": null,
            "visibility": null,
            "width": null
          }
        },
        "501e91feab7c41bdb692135ef5932cb2": {
          "model_module": "@jupyter-widgets/base",
          "model_module_version": "1.2.0",
          "model_name": "LayoutModel",
          "state": {
            "_model_module": "@jupyter-widgets/base",
            "_model_module_version": "1.2.0",
            "_model_name": "LayoutModel",
            "_view_count": null,
            "_view_module": "@jupyter-widgets/base",
            "_view_module_version": "1.2.0",
            "_view_name": "LayoutView",
            "align_content": null,
            "align_items": null,
            "align_self": null,
            "border": null,
            "bottom": null,
            "display": null,
            "flex": null,
            "flex_flow": null,
            "grid_area": null,
            "grid_auto_columns": null,
            "grid_auto_flow": null,
            "grid_auto_rows": null,
            "grid_column": null,
            "grid_gap": null,
            "grid_row": null,
            "grid_template_areas": null,
            "grid_template_columns": null,
            "grid_template_rows": null,
            "height": null,
            "justify_content": null,
            "justify_items": null,
            "left": null,
            "margin": null,
            "max_height": null,
            "max_width": null,
            "min_height": null,
            "min_width": null,
            "object_fit": null,
            "object_position": null,
            "order": null,
            "overflow": null,
            "overflow_x": null,
            "overflow_y": null,
            "padding": null,
            "right": null,
            "top": null,
            "visibility": null,
            "width": null
          }
        },
        "57271afa0ae943079701da2e26cbc7d2": {
          "model_module": "@jupyter-widgets/controls",
          "model_module_version": "1.5.0",
          "model_name": "HTMLModel",
          "state": {
            "_dom_classes": [],
            "_model_module": "@jupyter-widgets/controls",
            "_model_module_version": "1.5.0",
            "_model_name": "HTMLModel",
            "_view_count": null,
            "_view_module": "@jupyter-widgets/controls",
            "_view_module_version": "1.5.0",
            "_view_name": "HTMLView",
            "description": "",
            "description_tooltip": null,
            "layout": "IPY_MODEL_8c1e470a1132492d8355f93acc47e7b9",
            "placeholder": "​",
            "style": "IPY_MODEL_7e3878a6c7cc4a7a88511ec477d29beb",
            "value": " 1.92k/1.92k [00:00&lt;00:00, 147kB/s]"
          }
        },
        "5bb997ac5cc0477fbfc7bccb1f42cda0": {
          "model_module": "@jupyter-widgets/base",
          "model_module_version": "1.2.0",
          "model_name": "LayoutModel",
          "state": {
            "_model_module": "@jupyter-widgets/base",
            "_model_module_version": "1.2.0",
            "_model_name": "LayoutModel",
            "_view_count": null,
            "_view_module": "@jupyter-widgets/base",
            "_view_module_version": "1.2.0",
            "_view_name": "LayoutView",
            "align_content": null,
            "align_items": null,
            "align_self": null,
            "border": null,
            "bottom": null,
            "display": null,
            "flex": null,
            "flex_flow": null,
            "grid_area": null,
            "grid_auto_columns": null,
            "grid_auto_flow": null,
            "grid_auto_rows": null,
            "grid_column": null,
            "grid_gap": null,
            "grid_row": null,
            "grid_template_areas": null,
            "grid_template_columns": null,
            "grid_template_rows": null,
            "height": null,
            "justify_content": null,
            "justify_items": null,
            "left": null,
            "margin": null,
            "max_height": null,
            "max_width": null,
            "min_height": null,
            "min_width": null,
            "object_fit": null,
            "object_position": null,
            "order": null,
            "overflow": null,
            "overflow_x": null,
            "overflow_y": null,
            "padding": null,
            "right": null,
            "top": null,
            "visibility": null,
            "width": null
          }
        },
        "6016ae447c92412d949550891304b020": {
          "model_module": "@jupyter-widgets/controls",
          "model_module_version": "1.5.0",
          "model_name": "DescriptionStyleModel",
          "state": {
            "_model_module": "@jupyter-widgets/controls",
            "_model_module_version": "1.5.0",
            "_model_name": "DescriptionStyleModel",
            "_view_count": null,
            "_view_module": "@jupyter-widgets/base",
            "_view_module_version": "1.2.0",
            "_view_name": "StyleView",
            "description_width": ""
          }
        },
        "612096154d564f898ae73624aa52dc1b": {
          "model_module": "@jupyter-widgets/controls",
          "model_module_version": "1.5.0",
          "model_name": "DescriptionStyleModel",
          "state": {
            "_model_module": "@jupyter-widgets/controls",
            "_model_module_version": "1.5.0",
            "_model_name": "DescriptionStyleModel",
            "_view_count": null,
            "_view_module": "@jupyter-widgets/base",
            "_view_module_version": "1.2.0",
            "_view_name": "StyleView",
            "description_width": ""
          }
        },
        "61b2a3094f5e4ce8a48e1e8097400cfb": {
          "model_module": "@jupyter-widgets/controls",
          "model_module_version": "1.5.0",
          "model_name": "FloatProgressModel",
          "state": {
            "_dom_classes": [],
            "_model_module": "@jupyter-widgets/controls",
            "_model_module_version": "1.5.0",
            "_model_name": "FloatProgressModel",
            "_view_count": null,
            "_view_module": "@jupyter-widgets/controls",
            "_view_module_version": "1.5.0",
            "_view_name": "ProgressView",
            "bar_style": "success",
            "description": "",
            "description_tooltip": null,
            "layout": "IPY_MODEL_f15b28c87f884f94a3f8647a46fe7da9",
            "max": 128619,
            "min": 0,
            "orientation": "horizontal",
            "style": "IPY_MODEL_44ba734e9dbc4d98a54fdc41f515eea6",
            "value": 128619
          }
        },
        "6f009abe9edb4a5cad925abe3de24f65": {
          "model_module": "@jupyter-widgets/controls",
          "model_module_version": "1.5.0",
          "model_name": "FloatProgressModel",
          "state": {
            "_dom_classes": [],
            "_model_module": "@jupyter-widgets/controls",
            "_model_module_version": "1.5.0",
            "_model_name": "FloatProgressModel",
            "_view_count": null,
            "_view_module": "@jupyter-widgets/controls",
            "_view_module_version": "1.5.0",
            "_view_name": "ProgressView",
            "bar_style": "success",
            "description": "",
            "description_tooltip": null,
            "layout": "IPY_MODEL_501e91feab7c41bdb692135ef5932cb2",
            "max": 1920,
            "min": 0,
            "orientation": "horizontal",
            "style": "IPY_MODEL_3bf5388c1c7e41ecb03ace96053d721f",
            "value": 1920
          }
        },
        "706aacf733264412bc3cc0042da84655": {
          "model_module": "@jupyter-widgets/controls",
          "model_module_version": "1.5.0",
          "model_name": "ProgressStyleModel",
          "state": {
            "_model_module": "@jupyter-widgets/controls",
            "_model_module_version": "1.5.0",
            "_model_name": "ProgressStyleModel",
            "_view_count": null,
            "_view_module": "@jupyter-widgets/base",
            "_view_module_version": "1.2.0",
            "_view_name": "StyleView",
            "bar_color": null,
            "description_width": ""
          }
        },
        "7816754f55c342379cdf53cfbee99710": {
          "model_module": "@jupyter-widgets/controls",
          "model_module_version": "1.5.0",
          "model_name": "HTMLModel",
          "state": {
            "_dom_classes": [],
            "_model_module": "@jupyter-widgets/controls",
            "_model_module_version": "1.5.0",
            "_model_name": "HTMLModel",
            "_view_count": null,
            "_view_module": "@jupyter-widgets/controls",
            "_view_module_version": "1.5.0",
            "_view_name": "HTMLView",
            "description": "",
            "description_tooltip": null,
            "layout": "IPY_MODEL_db81d099ad0a46c5856c34a9a6842799",
            "placeholder": "​",
            "style": "IPY_MODEL_f1951ee8562349d6b805f286986ce4a4",
            "value": " 1.92k/1.92k [00:00&lt;00:00, 126kB/s]"
          }
        },
        "7b0bd89806834970bb751ceefa296644": {
          "model_module": "@jupyter-widgets/controls",
          "model_module_version": "1.5.0",
          "model_name": "HBoxModel",
          "state": {
            "_dom_classes": [],
            "_model_module": "@jupyter-widgets/controls",
            "_model_module_version": "1.5.0",
            "_model_name": "HBoxModel",
            "_view_count": null,
            "_view_module": "@jupyter-widgets/controls",
            "_view_module_version": "1.5.0",
            "_view_name": "HBoxView",
            "box_style": "",
            "children": [
              "IPY_MODEL_a8653affd36e4c82b793199ec84e3979",
              "IPY_MODEL_af9eaeb7e46946378f525bc369a9f0bd",
              "IPY_MODEL_57271afa0ae943079701da2e26cbc7d2"
            ],
            "layout": "IPY_MODEL_d7ff1eff2ba84b529855cce7c836c398"
          }
        },
        "7e3878a6c7cc4a7a88511ec477d29beb": {
          "model_module": "@jupyter-widgets/controls",
          "model_module_version": "1.5.0",
          "model_name": "DescriptionStyleModel",
          "state": {
            "_model_module": "@jupyter-widgets/controls",
            "_model_module_version": "1.5.0",
            "_model_name": "DescriptionStyleModel",
            "_view_count": null,
            "_view_module": "@jupyter-widgets/base",
            "_view_module_version": "1.2.0",
            "_view_name": "StyleView",
            "description_width": ""
          }
        },
        "7f954247cd2a49f2af2cb056db826533": {
          "model_module": "@jupyter-widgets/base",
          "model_module_version": "1.2.0",
          "model_name": "LayoutModel",
          "state": {
            "_model_module": "@jupyter-widgets/base",
            "_model_module_version": "1.2.0",
            "_model_name": "LayoutModel",
            "_view_count": null,
            "_view_module": "@jupyter-widgets/base",
            "_view_module_version": "1.2.0",
            "_view_name": "LayoutView",
            "align_content": null,
            "align_items": null,
            "align_self": null,
            "border": null,
            "bottom": null,
            "display": null,
            "flex": null,
            "flex_flow": null,
            "grid_area": null,
            "grid_auto_columns": null,
            "grid_auto_flow": null,
            "grid_auto_rows": null,
            "grid_column": null,
            "grid_gap": null,
            "grid_row": null,
            "grid_template_areas": null,
            "grid_template_columns": null,
            "grid_template_rows": null,
            "height": null,
            "justify_content": null,
            "justify_items": null,
            "left": null,
            "margin": null,
            "max_height": null,
            "max_width": null,
            "min_height": null,
            "min_width": null,
            "object_fit": null,
            "object_position": null,
            "order": null,
            "overflow": null,
            "overflow_x": null,
            "overflow_y": null,
            "padding": null,
            "right": null,
            "top": null,
            "visibility": null,
            "width": null
          }
        },
        "80ce97975add47d8975b57c7b97447d8": {
          "model_module": "@jupyter-widgets/controls",
          "model_module_version": "1.5.0",
          "model_name": "ProgressStyleModel",
          "state": {
            "_model_module": "@jupyter-widgets/controls",
            "_model_module_version": "1.5.0",
            "_model_name": "ProgressStyleModel",
            "_view_count": null,
            "_view_module": "@jupyter-widgets/base",
            "_view_module_version": "1.2.0",
            "_view_name": "StyleView",
            "bar_color": null,
            "description_width": ""
          }
        },
        "8c1e470a1132492d8355f93acc47e7b9": {
          "model_module": "@jupyter-widgets/base",
          "model_module_version": "1.2.0",
          "model_name": "LayoutModel",
          "state": {
            "_model_module": "@jupyter-widgets/base",
            "_model_module_version": "1.2.0",
            "_model_name": "LayoutModel",
            "_view_count": null,
            "_view_module": "@jupyter-widgets/base",
            "_view_module_version": "1.2.0",
            "_view_name": "LayoutView",
            "align_content": null,
            "align_items": null,
            "align_self": null,
            "border": null,
            "bottom": null,
            "display": null,
            "flex": null,
            "flex_flow": null,
            "grid_area": null,
            "grid_auto_columns": null,
            "grid_auto_flow": null,
            "grid_auto_rows": null,
            "grid_column": null,
            "grid_gap": null,
            "grid_row": null,
            "grid_template_areas": null,
            "grid_template_columns": null,
            "grid_template_rows": null,
            "height": null,
            "justify_content": null,
            "justify_items": null,
            "left": null,
            "margin": null,
            "max_height": null,
            "max_width": null,
            "min_height": null,
            "min_width": null,
            "object_fit": null,
            "object_position": null,
            "order": null,
            "overflow": null,
            "overflow_x": null,
            "overflow_y": null,
            "padding": null,
            "right": null,
            "top": null,
            "visibility": null,
            "width": null
          }
        },
        "99f5b2c08a3e471e9a5107a52d0ad135": {
          "model_module": "@jupyter-widgets/controls",
          "model_module_version": "1.5.0",
          "model_name": "HBoxModel",
          "state": {
            "_dom_classes": [],
            "_model_module": "@jupyter-widgets/controls",
            "_model_module_version": "1.5.0",
            "_model_name": "HBoxModel",
            "_view_count": null,
            "_view_module": "@jupyter-widgets/controls",
            "_view_module_version": "1.5.0",
            "_view_name": "HBoxView",
            "box_style": "",
            "children": [
              "IPY_MODEL_3b6b5c831b9843e792bbd3bb7d8438f5",
              "IPY_MODEL_9e0879e633874ba88427fb87abf40462",
              "IPY_MODEL_28b351c089554f40942eb567211860bf"
            ],
            "layout": "IPY_MODEL_d200b1ea862e4b829c2f7b4138f8aabf"
          }
        },
        "9e0879e633874ba88427fb87abf40462": {
          "model_module": "@jupyter-widgets/controls",
          "model_module_version": "1.5.0",
          "model_name": "FloatProgressModel",
          "state": {
            "_dom_classes": [],
            "_model_module": "@jupyter-widgets/controls",
            "_model_module_version": "1.5.0",
            "_model_name": "FloatProgressModel",
            "_view_count": null,
            "_view_module": "@jupyter-widgets/controls",
            "_view_module_version": "1.5.0",
            "_view_name": "ProgressView",
            "bar_style": "success",
            "description": "",
            "description_tooltip": null,
            "layout": "IPY_MODEL_3ff67e8de1fe4173b134a6521eaa8368",
            "max": 83316686,
            "min": 0,
            "orientation": "horizontal",
            "style": "IPY_MODEL_706aacf733264412bc3cc0042da84655",
            "value": 83316686
          }
        },
        "9fe4c35151b54620a522d56169f95f83": {
          "model_module": "@jupyter-widgets/controls",
          "model_module_version": "1.5.0",
          "model_name": "FloatProgressModel",
          "state": {
            "_dom_classes": [],
            "_model_module": "@jupyter-widgets/controls",
            "_model_module_version": "1.5.0",
            "_model_name": "FloatProgressModel",
            "_view_count": null,
            "_view_module": "@jupyter-widgets/controls",
            "_view_module_version": "1.5.0",
            "_view_name": "ProgressView",
            "bar_style": "success",
            "description": "",
            "description_tooltip": null,
            "layout": "IPY_MODEL_105166bd7fe54e4e9abacfeebcb17be7",
            "max": 5534328,
            "min": 0,
            "orientation": "horizontal",
            "style": "IPY_MODEL_eb737052336e451cbc10db8b1d43f495",
            "value": 5534328
          }
        },
        "a43cfe2da37340dfa0b55f62592a91d8": {
          "model_module": "@jupyter-widgets/controls",
          "model_module_version": "1.5.0",
          "model_name": "DescriptionStyleModel",
          "state": {
            "_model_module": "@jupyter-widgets/controls",
            "_model_module_version": "1.5.0",
            "_model_name": "DescriptionStyleModel",
            "_view_count": null,
            "_view_module": "@jupyter-widgets/base",
            "_view_module_version": "1.2.0",
            "_view_name": "StyleView",
            "description_width": ""
          }
        },
        "a4f89c0b8a494a22ab8e47b6437e86d9": {
          "model_module": "@jupyter-widgets/controls",
          "model_module_version": "1.5.0",
          "model_name": "DescriptionStyleModel",
          "state": {
            "_model_module": "@jupyter-widgets/controls",
            "_model_module_version": "1.5.0",
            "_model_name": "DescriptionStyleModel",
            "_view_count": null,
            "_view_module": "@jupyter-widgets/base",
            "_view_module_version": "1.2.0",
            "_view_name": "StyleView",
            "description_width": ""
          }
        },
        "a8653affd36e4c82b793199ec84e3979": {
          "model_module": "@jupyter-widgets/controls",
          "model_module_version": "1.5.0",
          "model_name": "HTMLModel",
          "state": {
            "_dom_classes": [],
            "_model_module": "@jupyter-widgets/controls",
            "_model_module_version": "1.5.0",
            "_model_name": "HTMLModel",
            "_view_count": null,
            "_view_module": "@jupyter-widgets/controls",
            "_view_module_version": "1.5.0",
            "_view_name": "HTMLView",
            "description": "",
            "description_tooltip": null,
            "layout": "IPY_MODEL_aaf8d84b6b1049529f00a9b98781e086",
            "placeholder": "​",
            "style": "IPY_MODEL_b7660a1e09e04d8ca25d067cea253e9a",
            "value": "Downloading (…)an_var_norm_emb.ckpt: 100%"
          }
        },
        "aa0199cb9c39449a9d9038a628392c2a": {
          "model_module": "@jupyter-widgets/controls",
          "model_module_version": "1.5.0",
          "model_name": "DescriptionStyleModel",
          "state": {
            "_model_module": "@jupyter-widgets/controls",
            "_model_module_version": "1.5.0",
            "_model_name": "DescriptionStyleModel",
            "_view_count": null,
            "_view_module": "@jupyter-widgets/base",
            "_view_module_version": "1.2.0",
            "_view_name": "StyleView",
            "description_width": ""
          }
        },
        "aaf8d84b6b1049529f00a9b98781e086": {
          "model_module": "@jupyter-widgets/base",
          "model_module_version": "1.2.0",
          "model_name": "LayoutModel",
          "state": {
            "_model_module": "@jupyter-widgets/base",
            "_model_module_version": "1.2.0",
            "_model_name": "LayoutModel",
            "_view_count": null,
            "_view_module": "@jupyter-widgets/base",
            "_view_module_version": "1.2.0",
            "_view_name": "LayoutView",
            "align_content": null,
            "align_items": null,
            "align_self": null,
            "border": null,
            "bottom": null,
            "display": null,
            "flex": null,
            "flex_flow": null,
            "grid_area": null,
            "grid_auto_columns": null,
            "grid_auto_flow": null,
            "grid_auto_rows": null,
            "grid_column": null,
            "grid_gap": null,
            "grid_row": null,
            "grid_template_areas": null,
            "grid_template_columns": null,
            "grid_template_rows": null,
            "height": null,
            "justify_content": null,
            "justify_items": null,
            "left": null,
            "margin": null,
            "max_height": null,
            "max_width": null,
            "min_height": null,
            "min_width": null,
            "object_fit": null,
            "object_position": null,
            "order": null,
            "overflow": null,
            "overflow_x": null,
            "overflow_y": null,
            "padding": null,
            "right": null,
            "top": null,
            "visibility": null,
            "width": null
          }
        },
        "af9eaeb7e46946378f525bc369a9f0bd": {
          "model_module": "@jupyter-widgets/controls",
          "model_module_version": "1.5.0",
          "model_name": "FloatProgressModel",
          "state": {
            "_dom_classes": [],
            "_model_module": "@jupyter-widgets/controls",
            "_model_module_version": "1.5.0",
            "_model_name": "FloatProgressModel",
            "_view_count": null,
            "_view_module": "@jupyter-widgets/controls",
            "_view_module_version": "1.5.0",
            "_view_name": "ProgressView",
            "bar_style": "success",
            "description": "",
            "description_tooltip": null,
            "layout": "IPY_MODEL_2ce5976de1aa4d189e09c78348a0f25f",
            "max": 1921,
            "min": 0,
            "orientation": "horizontal",
            "style": "IPY_MODEL_80ce97975add47d8975b57c7b97447d8",
            "value": 1921
          }
        },
        "b7660a1e09e04d8ca25d067cea253e9a": {
          "model_module": "@jupyter-widgets/controls",
          "model_module_version": "1.5.0",
          "model_name": "DescriptionStyleModel",
          "state": {
            "_model_module": "@jupyter-widgets/controls",
            "_model_module_version": "1.5.0",
            "_model_name": "DescriptionStyleModel",
            "_view_count": null,
            "_view_module": "@jupyter-widgets/base",
            "_view_module_version": "1.2.0",
            "_view_name": "StyleView",
            "description_width": ""
          }
        },
        "bf0c30b759424ce3a572829e8d0cd5a0": {
          "model_module": "@jupyter-widgets/controls",
          "model_module_version": "1.5.0",
          "model_name": "HBoxModel",
          "state": {
            "_dom_classes": [],
            "_model_module": "@jupyter-widgets/controls",
            "_model_module_version": "1.5.0",
            "_model_name": "HBoxModel",
            "_view_count": null,
            "_view_module": "@jupyter-widgets/controls",
            "_view_module_version": "1.5.0",
            "_view_name": "HBoxView",
            "box_style": "",
            "children": [
              "IPY_MODEL_f9087c013be74d53a52a2f2bcddd5fcb",
              "IPY_MODEL_61b2a3094f5e4ce8a48e1e8097400cfb",
              "IPY_MODEL_fc0e5b1c431c4499a6f448956d36c1ff"
            ],
            "layout": "IPY_MODEL_cc1a0d84484842aca2040bae71f899e0"
          }
        },
        "cc1a0d84484842aca2040bae71f899e0": {
          "model_module": "@jupyter-widgets/base",
          "model_module_version": "1.2.0",
          "model_name": "LayoutModel",
          "state": {
            "_model_module": "@jupyter-widgets/base",
            "_model_module_version": "1.2.0",
            "_model_name": "LayoutModel",
            "_view_count": null,
            "_view_module": "@jupyter-widgets/base",
            "_view_module_version": "1.2.0",
            "_view_name": "LayoutView",
            "align_content": null,
            "align_items": null,
            "align_self": null,
            "border": null,
            "bottom": null,
            "display": null,
            "flex": null,
            "flex_flow": null,
            "grid_area": null,
            "grid_auto_columns": null,
            "grid_auto_flow": null,
            "grid_auto_rows": null,
            "grid_column": null,
            "grid_gap": null,
            "grid_row": null,
            "grid_template_areas": null,
            "grid_template_columns": null,
            "grid_template_rows": null,
            "height": null,
            "justify_content": null,
            "justify_items": null,
            "left": null,
            "margin": null,
            "max_height": null,
            "max_width": null,
            "min_height": null,
            "min_width": null,
            "object_fit": null,
            "object_position": null,
            "order": null,
            "overflow": null,
            "overflow_x": null,
            "overflow_y": null,
            "padding": null,
            "right": null,
            "top": null,
            "visibility": null,
            "width": null
          }
        },
        "cdc6881584b2410396144462ad1ec107": {
          "model_module": "@jupyter-widgets/base",
          "model_module_version": "1.2.0",
          "model_name": "LayoutModel",
          "state": {
            "_model_module": "@jupyter-widgets/base",
            "_model_module_version": "1.2.0",
            "_model_name": "LayoutModel",
            "_view_count": null,
            "_view_module": "@jupyter-widgets/base",
            "_view_module_version": "1.2.0",
            "_view_name": "LayoutView",
            "align_content": null,
            "align_items": null,
            "align_self": null,
            "border": null,
            "bottom": null,
            "display": null,
            "flex": null,
            "flex_flow": null,
            "grid_area": null,
            "grid_auto_columns": null,
            "grid_auto_flow": null,
            "grid_auto_rows": null,
            "grid_column": null,
            "grid_gap": null,
            "grid_row": null,
            "grid_template_areas": null,
            "grid_template_columns": null,
            "grid_template_rows": null,
            "height": null,
            "justify_content": null,
            "justify_items": null,
            "left": null,
            "margin": null,
            "max_height": null,
            "max_width": null,
            "min_height": null,
            "min_width": null,
            "object_fit": null,
            "object_position": null,
            "order": null,
            "overflow": null,
            "overflow_x": null,
            "overflow_y": null,
            "padding": null,
            "right": null,
            "top": null,
            "visibility": null,
            "width": null
          }
        },
        "d1280f0c62ae43d28e2b6ec1b4d78cc8": {
          "model_module": "@jupyter-widgets/base",
          "model_module_version": "1.2.0",
          "model_name": "LayoutModel",
          "state": {
            "_model_module": "@jupyter-widgets/base",
            "_model_module_version": "1.2.0",
            "_model_name": "LayoutModel",
            "_view_count": null,
            "_view_module": "@jupyter-widgets/base",
            "_view_module_version": "1.2.0",
            "_view_name": "LayoutView",
            "align_content": null,
            "align_items": null,
            "align_self": null,
            "border": null,
            "bottom": null,
            "display": null,
            "flex": null,
            "flex_flow": null,
            "grid_area": null,
            "grid_auto_columns": null,
            "grid_auto_flow": null,
            "grid_auto_rows": null,
            "grid_column": null,
            "grid_gap": null,
            "grid_row": null,
            "grid_template_areas": null,
            "grid_template_columns": null,
            "grid_template_rows": null,
            "height": null,
            "justify_content": null,
            "justify_items": null,
            "left": null,
            "margin": null,
            "max_height": null,
            "max_width": null,
            "min_height": null,
            "min_width": null,
            "object_fit": null,
            "object_position": null,
            "order": null,
            "overflow": null,
            "overflow_x": null,
            "overflow_y": null,
            "padding": null,
            "right": null,
            "top": null,
            "visibility": null,
            "width": null
          }
        },
        "d200b1ea862e4b829c2f7b4138f8aabf": {
          "model_module": "@jupyter-widgets/base",
          "model_module_version": "1.2.0",
          "model_name": "LayoutModel",
          "state": {
            "_model_module": "@jupyter-widgets/base",
            "_model_module_version": "1.2.0",
            "_model_name": "LayoutModel",
            "_view_count": null,
            "_view_module": "@jupyter-widgets/base",
            "_view_module_version": "1.2.0",
            "_view_name": "LayoutView",
            "align_content": null,
            "align_items": null,
            "align_self": null,
            "border": null,
            "bottom": null,
            "display": null,
            "flex": null,
            "flex_flow": null,
            "grid_area": null,
            "grid_auto_columns": null,
            "grid_auto_flow": null,
            "grid_auto_rows": null,
            "grid_column": null,
            "grid_gap": null,
            "grid_row": null,
            "grid_template_areas": null,
            "grid_template_columns": null,
            "grid_template_rows": null,
            "height": null,
            "justify_content": null,
            "justify_items": null,
            "left": null,
            "margin": null,
            "max_height": null,
            "max_width": null,
            "min_height": null,
            "min_width": null,
            "object_fit": null,
            "object_position": null,
            "order": null,
            "overflow": null,
            "overflow_x": null,
            "overflow_y": null,
            "padding": null,
            "right": null,
            "top": null,
            "visibility": null,
            "width": null
          }
        },
        "d460eb9027954e5c996ea1ec400fb730": {
          "model_module": "@jupyter-widgets/controls",
          "model_module_version": "1.5.0",
          "model_name": "HBoxModel",
          "state": {
            "_dom_classes": [],
            "_model_module": "@jupyter-widgets/controls",
            "_model_module_version": "1.5.0",
            "_model_name": "HBoxModel",
            "_view_count": null,
            "_view_module": "@jupyter-widgets/controls",
            "_view_module_version": "1.5.0",
            "_view_name": "HBoxView",
            "box_style": "",
            "children": [
              "IPY_MODEL_271e63e09e7743b8a6f382b4e5acbc40",
              "IPY_MODEL_6f009abe9edb4a5cad925abe3de24f65",
              "IPY_MODEL_7816754f55c342379cdf53cfbee99710"
            ],
            "layout": "IPY_MODEL_e441229140564f45a08748091ffdaf9c"
          }
        },
        "d7ff1eff2ba84b529855cce7c836c398": {
          "model_module": "@jupyter-widgets/base",
          "model_module_version": "1.2.0",
          "model_name": "LayoutModel",
          "state": {
            "_model_module": "@jupyter-widgets/base",
            "_model_module_version": "1.2.0",
            "_model_name": "LayoutModel",
            "_view_count": null,
            "_view_module": "@jupyter-widgets/base",
            "_view_module_version": "1.2.0",
            "_view_name": "LayoutView",
            "align_content": null,
            "align_items": null,
            "align_self": null,
            "border": null,
            "bottom": null,
            "display": null,
            "flex": null,
            "flex_flow": null,
            "grid_area": null,
            "grid_auto_columns": null,
            "grid_auto_flow": null,
            "grid_auto_rows": null,
            "grid_column": null,
            "grid_gap": null,
            "grid_row": null,
            "grid_template_areas": null,
            "grid_template_columns": null,
            "grid_template_rows": null,
            "height": null,
            "justify_content": null,
            "justify_items": null,
            "left": null,
            "margin": null,
            "max_height": null,
            "max_width": null,
            "min_height": null,
            "min_width": null,
            "object_fit": null,
            "object_position": null,
            "order": null,
            "overflow": null,
            "overflow_x": null,
            "overflow_y": null,
            "padding": null,
            "right": null,
            "top": null,
            "visibility": null,
            "width": null
          }
        },
        "db81d099ad0a46c5856c34a9a6842799": {
          "model_module": "@jupyter-widgets/base",
          "model_module_version": "1.2.0",
          "model_name": "LayoutModel",
          "state": {
            "_model_module": "@jupyter-widgets/base",
            "_model_module_version": "1.2.0",
            "_model_name": "LayoutModel",
            "_view_count": null,
            "_view_module": "@jupyter-widgets/base",
            "_view_module_version": "1.2.0",
            "_view_name": "LayoutView",
            "align_content": null,
            "align_items": null,
            "align_self": null,
            "border": null,
            "bottom": null,
            "display": null,
            "flex": null,
            "flex_flow": null,
            "grid_area": null,
            "grid_auto_columns": null,
            "grid_auto_flow": null,
            "grid_auto_rows": null,
            "grid_column": null,
            "grid_gap": null,
            "grid_row": null,
            "grid_template_areas": null,
            "grid_template_columns": null,
            "grid_template_rows": null,
            "height": null,
            "justify_content": null,
            "justify_items": null,
            "left": null,
            "margin": null,
            "max_height": null,
            "max_width": null,
            "min_height": null,
            "min_width": null,
            "object_fit": null,
            "object_position": null,
            "order": null,
            "overflow": null,
            "overflow_x": null,
            "overflow_y": null,
            "padding": null,
            "right": null,
            "top": null,
            "visibility": null,
            "width": null
          }
        },
        "e441229140564f45a08748091ffdaf9c": {
          "model_module": "@jupyter-widgets/base",
          "model_module_version": "1.2.0",
          "model_name": "LayoutModel",
          "state": {
            "_model_module": "@jupyter-widgets/base",
            "_model_module_version": "1.2.0",
            "_model_name": "LayoutModel",
            "_view_count": null,
            "_view_module": "@jupyter-widgets/base",
            "_view_module_version": "1.2.0",
            "_view_name": "LayoutView",
            "align_content": null,
            "align_items": null,
            "align_self": null,
            "border": null,
            "bottom": null,
            "display": null,
            "flex": null,
            "flex_flow": null,
            "grid_area": null,
            "grid_auto_columns": null,
            "grid_auto_flow": null,
            "grid_auto_rows": null,
            "grid_column": null,
            "grid_gap": null,
            "grid_row": null,
            "grid_template_areas": null,
            "grid_template_columns": null,
            "grid_template_rows": null,
            "height": null,
            "justify_content": null,
            "justify_items": null,
            "left": null,
            "margin": null,
            "max_height": null,
            "max_width": null,
            "min_height": null,
            "min_width": null,
            "object_fit": null,
            "object_position": null,
            "order": null,
            "overflow": null,
            "overflow_x": null,
            "overflow_y": null,
            "padding": null,
            "right": null,
            "top": null,
            "visibility": null,
            "width": null
          }
        },
        "e734b6a7602f412bb125820cd00e0a91": {
          "model_module": "@jupyter-widgets/controls",
          "model_module_version": "1.5.0",
          "model_name": "HTMLModel",
          "state": {
            "_dom_classes": [],
            "_model_module": "@jupyter-widgets/controls",
            "_model_module_version": "1.5.0",
            "_model_name": "HTMLModel",
            "_view_count": null,
            "_view_module": "@jupyter-widgets/controls",
            "_view_module_version": "1.5.0",
            "_view_name": "HTMLView",
            "description": "",
            "description_tooltip": null,
            "layout": "IPY_MODEL_5bb997ac5cc0477fbfc7bccb1f42cda0",
            "placeholder": "​",
            "style": "IPY_MODEL_253e22fc6dd1453bb11ba5138f36b7e1",
            "value": " 5.53M/5.53M [00:00&lt;00:00, 154MB/s]"
          }
        },
        "eb737052336e451cbc10db8b1d43f495": {
          "model_module": "@jupyter-widgets/controls",
          "model_module_version": "1.5.0",
          "model_name": "ProgressStyleModel",
          "state": {
            "_model_module": "@jupyter-widgets/controls",
            "_model_module_version": "1.5.0",
            "_model_name": "ProgressStyleModel",
            "_view_count": null,
            "_view_module": "@jupyter-widgets/base",
            "_view_module_version": "1.2.0",
            "_view_name": "StyleView",
            "bar_color": null,
            "description_width": ""
          }
        },
        "ef66c458a56b4670809a232ae4448326": {
          "model_module": "@jupyter-widgets/controls",
          "model_module_version": "1.5.0",
          "model_name": "HBoxModel",
          "state": {
            "_dom_classes": [],
            "_model_module": "@jupyter-widgets/controls",
            "_model_module_version": "1.5.0",
            "_model_name": "HBoxModel",
            "_view_count": null,
            "_view_module": "@jupyter-widgets/controls",
            "_view_module_version": "1.5.0",
            "_view_name": "HBoxView",
            "box_style": "",
            "children": [
              "IPY_MODEL_2d2ab546b57141769d3b13f30a10287b",
              "IPY_MODEL_9fe4c35151b54620a522d56169f95f83",
              "IPY_MODEL_e734b6a7602f412bb125820cd00e0a91"
            ],
            "layout": "IPY_MODEL_fe3de03b316243fcafb66a3c07d9ad4c"
          }
        },
        "f15b28c87f884f94a3f8647a46fe7da9": {
          "model_module": "@jupyter-widgets/base",
          "model_module_version": "1.2.0",
          "model_name": "LayoutModel",
          "state": {
            "_model_module": "@jupyter-widgets/base",
            "_model_module_version": "1.2.0",
            "_model_name": "LayoutModel",
            "_view_count": null,
            "_view_module": "@jupyter-widgets/base",
            "_view_module_version": "1.2.0",
            "_view_name": "LayoutView",
            "align_content": null,
            "align_items": null,
            "align_self": null,
            "border": null,
            "bottom": null,
            "display": null,
            "flex": null,
            "flex_flow": null,
            "grid_area": null,
            "grid_auto_columns": null,
            "grid_auto_flow": null,
            "grid_auto_rows": null,
            "grid_column": null,
            "grid_gap": null,
            "grid_row": null,
            "grid_template_areas": null,
            "grid_template_columns": null,
            "grid_template_rows": null,
            "height": null,
            "justify_content": null,
            "justify_items": null,
            "left": null,
            "margin": null,
            "max_height": null,
            "max_width": null,
            "min_height": null,
            "min_width": null,
            "object_fit": null,
            "object_position": null,
            "order": null,
            "overflow": null,
            "overflow_x": null,
            "overflow_y": null,
            "padding": null,
            "right": null,
            "top": null,
            "visibility": null,
            "width": null
          }
        },
        "f1951ee8562349d6b805f286986ce4a4": {
          "model_module": "@jupyter-widgets/controls",
          "model_module_version": "1.5.0",
          "model_name": "DescriptionStyleModel",
          "state": {
            "_model_module": "@jupyter-widgets/controls",
            "_model_module_version": "1.5.0",
            "_model_name": "DescriptionStyleModel",
            "_view_count": null,
            "_view_module": "@jupyter-widgets/base",
            "_view_module_version": "1.2.0",
            "_view_name": "StyleView",
            "description_width": ""
          }
        },
        "f9087c013be74d53a52a2f2bcddd5fcb": {
          "model_module": "@jupyter-widgets/controls",
          "model_module_version": "1.5.0",
          "model_name": "HTMLModel",
          "state": {
            "_dom_classes": [],
            "_model_module": "@jupyter-widgets/controls",
            "_model_module_version": "1.5.0",
            "_model_name": "HTMLModel",
            "_view_count": null,
            "_view_module": "@jupyter-widgets/controls",
            "_view_module_version": "1.5.0",
            "_view_name": "HTMLView",
            "description": "",
            "description_tooltip": null,
            "layout": "IPY_MODEL_cdc6881584b2410396144462ad1ec107",
            "placeholder": "​",
            "style": "IPY_MODEL_06ea8198faba45949ff0aff7484acc2f",
            "value": "Downloading (…)in/label_encoder.txt: 100%"
          }
        },
        "fc0e5b1c431c4499a6f448956d36c1ff": {
          "model_module": "@jupyter-widgets/controls",
          "model_module_version": "1.5.0",
          "model_name": "HTMLModel",
          "state": {
            "_dom_classes": [],
            "_model_module": "@jupyter-widgets/controls",
            "_model_module_version": "1.5.0",
            "_model_name": "HTMLModel",
            "_view_count": null,
            "_view_module": "@jupyter-widgets/controls",
            "_view_module_version": "1.5.0",
            "_view_name": "HTMLView",
            "description": "",
            "description_tooltip": null,
            "layout": "IPY_MODEL_7f954247cd2a49f2af2cb056db826533",
            "placeholder": "​",
            "style": "IPY_MODEL_612096154d564f898ae73624aa52dc1b",
            "value": " 129k/129k [00:00&lt;00:00, 1.52MB/s]"
          }
        },
        "fe3de03b316243fcafb66a3c07d9ad4c": {
          "model_module": "@jupyter-widgets/base",
          "model_module_version": "1.2.0",
          "model_name": "LayoutModel",
          "state": {
            "_model_module": "@jupyter-widgets/base",
            "_model_module_version": "1.2.0",
            "_model_name": "LayoutModel",
            "_view_count": null,
            "_view_module": "@jupyter-widgets/base",
            "_view_module_version": "1.2.0",
            "_view_name": "LayoutView",
            "align_content": null,
            "align_items": null,
            "align_self": null,
            "border": null,
            "bottom": null,
            "display": null,
            "flex": null,
            "flex_flow": null,
            "grid_area": null,
            "grid_auto_columns": null,
            "grid_auto_flow": null,
            "grid_auto_rows": null,
            "grid_column": null,
            "grid_gap": null,
            "grid_row": null,
            "grid_template_areas": null,
            "grid_template_columns": null,
            "grid_template_rows": null,
            "height": null,
            "justify_content": null,
            "justify_items": null,
            "left": null,
            "margin": null,
            "max_height": null,
            "max_width": null,
            "min_height": null,
            "min_width": null,
            "object_fit": null,
            "object_position": null,
            "order": null,
            "overflow": null,
            "overflow_x": null,
            "overflow_y": null,
            "padding": null,
            "right": null,
            "top": null,
            "visibility": null,
            "width": null
          }
        }
      }
    }
  },
  "nbformat": 4,
  "nbformat_minor": 0
}
